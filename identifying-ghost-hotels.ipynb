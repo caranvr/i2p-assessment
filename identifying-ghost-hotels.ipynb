{
 "cells": [
  {
   "cell_type": "markdown",
   "metadata": {},
   "source": [
    "# Reproducible Analysis"
   ]
  },
  {
   "cell_type": "code",
   "execution_count": 1,
   "metadata": {},
   "outputs": [],
   "source": [
    "import os\n",
    "import numpy as np\n",
    "import pandas as pd\n",
    "import geopandas as gpd\n",
    "import matplotlib.cm as cm\n",
    "import matplotlib.pyplot as plt\n",
    "import re\n",
    "\n",
    "import glob\n",
    "from sklearn.feature_extraction.text import TfidfVectorizer\n",
    "from scipy.spatial.distance import pdist, squareform"
   ]
  },
  {
   "cell_type": "markdown",
   "metadata": {},
   "source": [
    "## Identifying ghost hotels"
   ]
  },
  {
   "cell_type": "markdown",
   "metadata": {},
   "source": [
    "### Loading and cleaning data"
   ]
  },
  {
   "cell_type": "code",
   "execution_count": 2,
   "metadata": {},
   "outputs": [],
   "source": [
    "norm_df = pd.read_csv('https://github.com/jreades/i2p/blob/master/data/clean/2020-08-24-listings-with-nlp-subset.csv.gz?raw=true',\n",
    "                compression='gzip', dtype={'id':np.float64, 'listing_url':str, 'name':str, 'description':str, 'description_norm':str})\n",
    "ref_df = pd.read_csv('https://github.com/jreades/i2p/blob/master/data/src/2020-08-24-listings.csv.gz?raw=true',\n",
    "                    compression='gzip', usecols=['id', 'room_type', 'calculated_host_listings_count', 'host_id'],\n",
    "                    dtype={'id':np.float64, 'room_type':str, 'calculated_host_listings_count':np.float64, 'host_id':np.float64})"
   ]
  },
  {
   "cell_type": "markdown",
   "metadata": {},
   "source": [
    "#### Joining df with normalised description to df with room type, then dropping hotel rooms, serviced apartments, and null normalised descriptions"
   ]
  },
  {
   "cell_type": "code",
   "execution_count": 3,
   "metadata": {},
   "outputs": [],
   "source": [
    "df = pd.merge(norm_df, ref_df, on='id') #default is inner so we leave it\n",
    "df.drop(df[(df.room_type == 'Hotel room') |\n",
    "           (df.id.isna()) |\n",
    "           (df.calculated_host_listings_count.isna()) |\n",
    "           (df.description.isna()) |\n",
    "           (df.description_norm.isna())].index, inplace=True)\n",
    "df.drop(df[df.description.str.contains(r'serviced', regex=True, flags=re.IGNORECASE)].index, inplace=True)"
   ]
  },
  {
   "cell_type": "markdown",
   "metadata": {},
   "source": [
    "#### Converting host listings count to integer and dropping listings where the host only has one listing\n",
    "(Airbnb has systems in place to detect multiple accounts and bans them)"
   ]
  },
  {
   "cell_type": "code",
   "execution_count": 4,
   "metadata": {},
   "outputs": [
    {
     "name": "stdout",
     "output_type": "stream",
     "text": [
      "Converting id\n",
      "Converting host_id\n",
      "Converting calculated_host_listings_count\n"
     ]
    }
   ],
   "source": [
    "ints = ['id', 'host_id', 'calculated_host_listings_count']\n",
    "for i in ints:\n",
    "    print(f\"Converting {i}\")\n",
    "    try:\n",
    "        df[i] = df[i].astype('int')\n",
    "    except ValueError as e:\n",
    "        print(\"\\tConverting to unsigned 16-bit integer.\")\n",
    "        df[i] = df[i].astype(pd.UInt16Dtype())\n",
    "\n",
    "df.drop(df[df['calculated_host_listings_count'] < 2].index, inplace=True)"
   ]
  },
  {
   "cell_type": "code",
   "execution_count": 6,
   "metadata": {},
   "outputs": [],
   "source": [
    "df.set_index('id', inplace=True)"
   ]
  },
  {
   "cell_type": "markdown",
   "metadata": {},
   "source": [
    "#### Creating separate data frames for entire home and private room listings"
   ]
  },
  {
   "cell_type": "code",
   "execution_count": 7,
   "metadata": {},
   "outputs": [],
   "source": [
    "entire_homes = df[df.room_type == 'Entire home/apt']\n",
    "private_rooms = df[df.room_type == 'Private room']"
   ]
  },
  {
   "cell_type": "code",
   "execution_count": 8,
   "metadata": {},
   "outputs": [
    {
     "name": "stdout",
     "output_type": "stream",
     "text": [
      "There are 18232 entire home listings and 13060 private room listings run by hosts with multiple listings.\n"
     ]
    }
   ],
   "source": [
    "print(f'There are {entire_homes.shape[0]} entire home listings and {private_rooms.shape[0]} private room listings run by hosts with multiple listings.')"
   ]
  },
  {
   "cell_type": "markdown",
   "metadata": {},
   "source": [
    "### Text similarity - testing with private room listings"
   ]
  },
  {
   "cell_type": "code",
   "execution_count": 10,
   "metadata": {},
   "outputs": [],
   "source": [
    "corpus = private_rooms.description_norm.values"
   ]
  },
  {
   "cell_type": "markdown",
   "metadata": {},
   "source": [
    "#### Creating TF/IDF vectorizer"
   ]
  },
  {
   "cell_type": "code",
   "execution_count": 11,
   "metadata": {},
   "outputs": [],
   "source": [
    "vectorizer = TfidfVectorizer(use_idf=True, ngram_range=(1,2), max_df=0.5, min_df=0.05)\n",
    "#ignore terms that appear in over 50% or less than 5% of documents\n",
    "tcorpus = vectorizer.fit_transform(corpus).toarray() \n",
    "#fit creates list of words/ngrams + IDF scores\n",
    "#transform creates matrix of TF/IDF scores per word/ngram\n",
    "#convert to array for cosine similarity step"
   ]
  },
  {
   "cell_type": "markdown",
   "metadata": {},
   "source": [
    "#### Creating cosine distance matrix"
   ]
  },
  {
   "cell_type": "code",
   "execution_count": 13,
   "metadata": {},
   "outputs": [],
   "source": [
    "keys = private_rooms.index.values"
   ]
  },
  {
   "cell_type": "code",
   "execution_count": 12,
   "metadata": {},
   "outputs": [
    {
     "data": {
      "text/plain": [
       "(13060, 262)"
      ]
     },
     "execution_count": 12,
     "metadata": {},
     "output_type": "execute_result"
    }
   ],
   "source": [
    "tcorpus.shape"
   ]
  },
  {
   "cell_type": "code",
   "execution_count": 14,
   "metadata": {},
   "outputs": [],
   "source": [
    "cosine_distances = pd.DataFrame(squareform(pdist(tcorpus, metric='cosine')), index=keys, columns=keys)"
   ]
  },
  {
   "cell_type": "code",
   "execution_count": 15,
   "metadata": {},
   "outputs": [
    {
     "data": {
      "text/html": [
       "<div>\n",
       "<style scoped>\n",
       "    .dataframe tbody tr th:only-of-type {\n",
       "        vertical-align: middle;\n",
       "    }\n",
       "\n",
       "    .dataframe tbody tr th {\n",
       "        vertical-align: top;\n",
       "    }\n",
       "\n",
       "    .dataframe thead th {\n",
       "        text-align: right;\n",
       "    }\n",
       "</style>\n",
       "<table border=\"1\" class=\"dataframe\">\n",
       "  <thead>\n",
       "    <tr style=\"text-align: right;\">\n",
       "      <th></th>\n",
       "      <th>13913</th>\n",
       "      <th>17506</th>\n",
       "      <th>25123</th>\n",
       "      <th>38605</th>\n",
       "      <th>38950</th>\n",
       "      <th>40228</th>\n",
       "      <th>41311</th>\n",
       "      <th>41712</th>\n",
       "      <th>42001</th>\n",
       "      <th>43129</th>\n",
       "      <th>...</th>\n",
       "      <th>45063293</th>\n",
       "      <th>45063367</th>\n",
       "      <th>45065675</th>\n",
       "      <th>45066548</th>\n",
       "      <th>45067269</th>\n",
       "      <th>45077803</th>\n",
       "      <th>45081264</th>\n",
       "      <th>45081587</th>\n",
       "      <th>45083401</th>\n",
       "      <th>45085490</th>\n",
       "    </tr>\n",
       "  </thead>\n",
       "  <tbody>\n",
       "    <tr>\n",
       "      <th>13913</th>\n",
       "      <td>0.000000</td>\n",
       "      <td>0.747515</td>\n",
       "      <td>0.928287</td>\n",
       "      <td>0.784346</td>\n",
       "      <td>0.687085</td>\n",
       "      <td>0.672891</td>\n",
       "      <td>0.928287</td>\n",
       "      <td>0.721652</td>\n",
       "      <td>0.751964</td>\n",
       "      <td>0.869853</td>\n",
       "      <td>...</td>\n",
       "      <td>0.772143</td>\n",
       "      <td>0.772143</td>\n",
       "      <td>0.759286</td>\n",
       "      <td>0.907606</td>\n",
       "      <td>0.781843</td>\n",
       "      <td>0.846305</td>\n",
       "      <td>0.931093</td>\n",
       "      <td>0.911915</td>\n",
       "      <td>0.797081</td>\n",
       "      <td>0.879500</td>\n",
       "    </tr>\n",
       "    <tr>\n",
       "      <th>17506</th>\n",
       "      <td>0.747515</td>\n",
       "      <td>0.000000</td>\n",
       "      <td>0.840870</td>\n",
       "      <td>0.822943</td>\n",
       "      <td>0.896720</td>\n",
       "      <td>0.874247</td>\n",
       "      <td>0.840870</td>\n",
       "      <td>0.837818</td>\n",
       "      <td>0.770506</td>\n",
       "      <td>0.895026</td>\n",
       "      <td>...</td>\n",
       "      <td>0.927199</td>\n",
       "      <td>0.927199</td>\n",
       "      <td>0.816514</td>\n",
       "      <td>0.903399</td>\n",
       "      <td>1.000000</td>\n",
       "      <td>0.868653</td>\n",
       "      <td>0.887034</td>\n",
       "      <td>0.903285</td>\n",
       "      <td>0.908640</td>\n",
       "      <td>0.904626</td>\n",
       "    </tr>\n",
       "    <tr>\n",
       "      <th>25123</th>\n",
       "      <td>0.928287</td>\n",
       "      <td>0.840870</td>\n",
       "      <td>0.000000</td>\n",
       "      <td>0.797349</td>\n",
       "      <td>0.768436</td>\n",
       "      <td>0.784954</td>\n",
       "      <td>0.000000</td>\n",
       "      <td>0.898682</td>\n",
       "      <td>0.778578</td>\n",
       "      <td>0.750546</td>\n",
       "      <td>...</td>\n",
       "      <td>0.887773</td>\n",
       "      <td>0.887773</td>\n",
       "      <td>0.764521</td>\n",
       "      <td>0.837112</td>\n",
       "      <td>0.928732</td>\n",
       "      <td>0.840263</td>\n",
       "      <td>0.903731</td>\n",
       "      <td>0.766158</td>\n",
       "      <td>0.941996</td>\n",
       "      <td>0.918433</td>\n",
       "    </tr>\n",
       "    <tr>\n",
       "      <th>38605</th>\n",
       "      <td>0.784346</td>\n",
       "      <td>0.822943</td>\n",
       "      <td>0.797349</td>\n",
       "      <td>0.000000</td>\n",
       "      <td>0.715460</td>\n",
       "      <td>0.831090</td>\n",
       "      <td>0.797349</td>\n",
       "      <td>0.833245</td>\n",
       "      <td>0.829430</td>\n",
       "      <td>0.776295</td>\n",
       "      <td>...</td>\n",
       "      <td>0.873700</td>\n",
       "      <td>0.873700</td>\n",
       "      <td>0.842239</td>\n",
       "      <td>0.817071</td>\n",
       "      <td>0.984336</td>\n",
       "      <td>0.843020</td>\n",
       "      <td>0.957226</td>\n",
       "      <td>0.958102</td>\n",
       "      <td>0.909318</td>\n",
       "      <td>0.939964</td>\n",
       "    </tr>\n",
       "    <tr>\n",
       "      <th>38950</th>\n",
       "      <td>0.687085</td>\n",
       "      <td>0.896720</td>\n",
       "      <td>0.768436</td>\n",
       "      <td>0.715460</td>\n",
       "      <td>0.000000</td>\n",
       "      <td>0.198865</td>\n",
       "      <td>0.768436</td>\n",
       "      <td>0.846727</td>\n",
       "      <td>0.809390</td>\n",
       "      <td>0.782725</td>\n",
       "      <td>...</td>\n",
       "      <td>0.878677</td>\n",
       "      <td>0.878677</td>\n",
       "      <td>0.720726</td>\n",
       "      <td>0.849885</td>\n",
       "      <td>0.738523</td>\n",
       "      <td>0.875978</td>\n",
       "      <td>0.895190</td>\n",
       "      <td>0.823111</td>\n",
       "      <td>0.838009</td>\n",
       "      <td>0.828710</td>\n",
       "    </tr>\n",
       "  </tbody>\n",
       "</table>\n",
       "<p>5 rows × 13060 columns</p>\n",
       "</div>"
      ],
      "text/plain": [
       "       13913     17506     25123     38605     38950     40228     41311     \\\n",
       "13913  0.000000  0.747515  0.928287  0.784346  0.687085  0.672891  0.928287   \n",
       "17506  0.747515  0.000000  0.840870  0.822943  0.896720  0.874247  0.840870   \n",
       "25123  0.928287  0.840870  0.000000  0.797349  0.768436  0.784954  0.000000   \n",
       "38605  0.784346  0.822943  0.797349  0.000000  0.715460  0.831090  0.797349   \n",
       "38950  0.687085  0.896720  0.768436  0.715460  0.000000  0.198865  0.768436   \n",
       "\n",
       "       41712     42001     43129     ...  45063293  45063367  45065675  \\\n",
       "13913  0.721652  0.751964  0.869853  ...  0.772143  0.772143  0.759286   \n",
       "17506  0.837818  0.770506  0.895026  ...  0.927199  0.927199  0.816514   \n",
       "25123  0.898682  0.778578  0.750546  ...  0.887773  0.887773  0.764521   \n",
       "38605  0.833245  0.829430  0.776295  ...  0.873700  0.873700  0.842239   \n",
       "38950  0.846727  0.809390  0.782725  ...  0.878677  0.878677  0.720726   \n",
       "\n",
       "       45066548  45067269  45077803  45081264  45081587  45083401  45085490  \n",
       "13913  0.907606  0.781843  0.846305  0.931093  0.911915  0.797081  0.879500  \n",
       "17506  0.903399  1.000000  0.868653  0.887034  0.903285  0.908640  0.904626  \n",
       "25123  0.837112  0.928732  0.840263  0.903731  0.766158  0.941996  0.918433  \n",
       "38605  0.817071  0.984336  0.843020  0.957226  0.958102  0.909318  0.939964  \n",
       "38950  0.849885  0.738523  0.875978  0.895190  0.823111  0.838009  0.828710  \n",
       "\n",
       "[5 rows x 13060 columns]"
      ]
     },
     "execution_count": 15,
     "metadata": {},
     "output_type": "execute_result"
    }
   ],
   "source": [
    "cosine_distances.head(5)"
   ]
  },
  {
   "cell_type": "markdown",
   "metadata": {},
   "source": [
    "#### Identifying listings that have multiple low cosine distances"
   ]
  },
  {
   "cell_type": "code",
   "execution_count": 69,
   "metadata": {},
   "outputs": [],
   "source": [
    "ghost_listings = cosine_distances[(cosine_distances < 0.2).sum(1) > 2].apply(lambda row: row[row < 0.2].index.tolist(), 1)"
   ]
  },
  {
   "cell_type": "code",
   "execution_count": 90,
   "metadata": {},
   "outputs": [],
   "source": [
    "ghost_hotels = set()\n",
    "for i in ghost_listings:\n",
    "    ghost_hotels.add(frozenset(i)) \n",
    "#the frozensets show that clusters of listings in different areas by the same host can have high cosine similarity\n",
    "#need to find a better threshold\n",
    "#but there are some ghost hotels that have cosine distances just under 0.2\n",
    "#maybe draw buffers around each listing and "
   ]
  },
  {
   "cell_type": "markdown",
   "metadata": {},
   "source": [
    "#### Different approach - creating a set of individual listings likely to be part of ghost hotels"
   ]
  },
  {
   "cell_type": "code",
   "execution_count": 66,
   "metadata": {},
   "outputs": [],
   "source": [
    "ghost_listings2 = set(cosine_distances[(cosine_distances < 0.2).sum(1) > 2].index.tolist())"
   ]
  },
  {
   "cell_type": "code",
   "execution_count": 67,
   "metadata": {},
   "outputs": [
    {
     "data": {
      "text/plain": [
       "2965"
      ]
     },
     "execution_count": 67,
     "metadata": {},
     "output_type": "execute_result"
    }
   ],
   "source": [
    "for l in ghost_listings2:\n",
    "    cosine_distances.apply(lambda x: x[l] )"
   ]
  },
  {
   "cell_type": "code",
   "execution_count": 29,
   "metadata": {},
   "outputs": [
    {
     "data": {
      "text/html": [
       "<div>\n",
       "<style scoped>\n",
       "    .dataframe tbody tr th:only-of-type {\n",
       "        vertical-align: middle;\n",
       "    }\n",
       "\n",
       "    .dataframe tbody tr th {\n",
       "        vertical-align: top;\n",
       "    }\n",
       "\n",
       "    .dataframe thead th {\n",
       "        text-align: right;\n",
       "    }\n",
       "</style>\n",
       "<table border=\"1\" class=\"dataframe\">\n",
       "  <thead>\n",
       "    <tr style=\"text-align: right;\">\n",
       "      <th></th>\n",
       "      <th>description</th>\n",
       "      <th>host_id</th>\n",
       "    </tr>\n",
       "  </thead>\n",
       "  <tbody>\n",
       "    <tr>\n",
       "      <th>44942288</th>\n",
       "      <td>Our self contained modern and spacious double bedroom in Notting Hill/Westbourne Park minutes walk from the Underground.&lt;br /&gt;The apartment is one of five purposely-built double and triple room lets in this brand new block of apartments.&lt;br /&gt;The building has a communal shower/bathroom, which is deep cleaned daily along with all communal areas.&lt;br /&gt;&lt;br /&gt;&lt;b&gt;The space&lt;/b&gt;&lt;br /&gt;The apartments are all designed by ‘Slim Interior Design’ with a chic, modern minimalist brief. &lt;br /&gt;The flat has been finished to an excellent standard and comes fully furnished with a modern bathroom with shower &amp; bath, laminate floors throughout, modern furniture and fittings. &lt;br /&gt;We have also taking preventative measures to ensure guests have a safe stay with us with CCTV in communal areas, wireless check-in, daily communal cleans.&lt;br /&gt;These double rooms are suitable for couples or single guests.&lt;br /&gt;&lt;br /&gt;&lt;b&gt;Guest access&lt;/b&gt;&lt;br /&gt;Guest have access to their own room as well as the communal areas.&lt;br /&gt;&lt;b</td>\n",
       "      <td>2331446</td>\n",
       "    </tr>\n",
       "    <tr>\n",
       "      <th>44943419</th>\n",
       "      <td>Our self contained modern and spacious double bedroom in Notting Hill/Westbourne Park minutes walk from the Underground.&lt;br /&gt;The apartment is one of five purposely-built double and triple room lets in this brand new block of apartments.&lt;br /&gt;The building has a communal shower/bathroom, which is deep cleaned daily along with all communal areas.&lt;br /&gt;&lt;br /&gt;&lt;b&gt;The space&lt;/b&gt;&lt;br /&gt;The apartments are all designed by ‘Slim Interior Design’ with a chic, modern minimalist brief. &lt;br /&gt;The flat has been finished to an excellent standard and comes fully furnished with a modern bathroom with shower &amp; bath, laminate floors throughout, modern furniture and fittings. &lt;br /&gt;We have also taking preventative measures to ensure guests have a safe stay with us with CCTV in communal areas, wireless check-in, daily communal cleans.&lt;br /&gt;These double rooms are suitable for couples or single guests.&lt;br /&gt;&lt;br /&gt;&lt;b&gt;Guest access&lt;/b&gt;&lt;br /&gt;Guest have access to their own room as well as the communal areas.&lt;br /&gt;&lt;b</td>\n",
       "      <td>2331446</td>\n",
       "    </tr>\n",
       "    <tr>\n",
       "      <th>44943988</th>\n",
       "      <td>Our self contained modern and spacious double bedroom in Notting Hill/Westbourne Park minutes walk from the Underground.&lt;br /&gt;The apartment is one of five purposely-built double and triple room lets in this brand new block of apartments.&lt;br /&gt;The building has a communal shower/bathroom, which is deep cleaned daily along with all communal areas.&lt;br /&gt;&lt;br /&gt;&lt;b&gt;The space&lt;/b&gt;&lt;br /&gt;The apartments are all designed by ‘Slim Interior Design’ with a chic, modern minimalist brief. &lt;br /&gt;The flat has been finished to an excellent standard and comes fully furnished with a modern bathroom with shower &amp; bath, laminate floors throughout, modern furniture and fittings. &lt;br /&gt;We have also taking preventative measures to ensure guests have a safe stay with us with CCTV in communal areas, wireless check-in, daily communal cleans.&lt;br /&gt;These double rooms are suitable for couples or single guests.&lt;br /&gt;&lt;br /&gt;&lt;b&gt;Guest access&lt;/b&gt;&lt;br /&gt;Guest have access to their own room as well as the communal areas.&lt;br /&gt;&lt;b</td>\n",
       "      <td>248034547</td>\n",
       "    </tr>\n",
       "    <tr>\n",
       "      <th>44944231</th>\n",
       "      <td>Our self contained modern and spacious double bedroom in Notting Hill/Westbourne Park minutes walk from the Underground.&lt;br /&gt;The apartment is one of five purposely-built double and triple room lets in this brand new block of apartments.&lt;br /&gt;The building has a communal shower/bathroom, which is deep cleaned daily along with all communal areas.&lt;br /&gt;&lt;br /&gt;&lt;b&gt;The space&lt;/b&gt;&lt;br /&gt;The apartments are all designed by ‘Slim Interior Design’ with a chic, modern minimalist brief. &lt;br /&gt;The flat has been finished to an excellent standard and comes fully furnished with a modern bathroom with shower &amp; bath, laminate floors throughout, modern furniture and fittings. &lt;br /&gt;We have also taking preventative measures to ensure guests have a safe stay with us with CCTV in communal areas, wireless check-in, daily communal cleans.&lt;br /&gt;These double rooms are suitable for couples or single guests.&lt;br /&gt;&lt;br /&gt;&lt;b&gt;Guest access&lt;/b&gt;&lt;br /&gt;Guest have access to their own room as well as the communal areas.&lt;br /&gt;&lt;b</td>\n",
       "      <td>248034547</td>\n",
       "    </tr>\n",
       "    <tr>\n",
       "      <th>45062758</th>\n",
       "      <td>Our self contained modern and spacious double bedroom in Notting Hill/Westbourne Park minutes walk from the Underground.&lt;br /&gt;The apartment is one of five purposely-built double and triple room lets in this brand new block of apartments.&lt;br /&gt;The building has a communal shower/bathroom, which is deep cleaned daily along with all communal areas.&lt;br /&gt;&lt;br /&gt;&lt;b&gt;The space&lt;/b&gt;&lt;br /&gt;The apartments are all designed by ‘Slim Interior Design’ with a chic, modern minimalist brief.&lt;br /&gt;The flat has been finished to an excellent standard and comes fully furnished with a modern bathroom with shower &amp; bath, laminate floors throughout, modern furniture and fittings.&lt;br /&gt;We have also taking preventative measures to ensure guests have a safe stay with us with CCTV in communal areas, wireless check-in, daily communal cleans.&lt;br /&gt;These double rooms are suitable for couples or single guests.&lt;br /&gt;&lt;br /&gt;&lt;b&gt;Guest access&lt;/b&gt;&lt;br /&gt;Guest have access to their own room as well as the communal areas.&lt;br /&gt;&lt;br</td>\n",
       "      <td>207477735</td>\n",
       "    </tr>\n",
       "    <tr>\n",
       "      <th>45062822</th>\n",
       "      <td>Our self contained modern and spacious double bedroom in Notting Hill/Westbourne Park minutes walk from the Underground.&lt;br /&gt;The apartment is one of five purposely-built double and triple room lets in this brand new block of apartments.&lt;br /&gt;The building has a communal shower/bathroom, which is deep cleaned daily along with all communal areas.&lt;br /&gt;&lt;br /&gt;&lt;b&gt;The space&lt;/b&gt;&lt;br /&gt;The apartments are all designed by ‘Slim Interior Design’ with a chic, modern minimalist brief.&lt;br /&gt;The flat has been finished to an excellent standard and comes fully furnished with a modern bathroom with shower &amp; bath, laminate floors throughout, modern furniture and fittings.&lt;br /&gt;We have also taking preventative measures to ensure guests have a safe stay with us with CCTV in communal areas, wireless check-in, daily communal cleans.&lt;br /&gt;These double rooms are suitable for couples or single guests.&lt;br /&gt;&lt;br /&gt;&lt;b&gt;Guest access&lt;/b&gt;&lt;br /&gt;Guest have access to their own room as well as the communal areas.&lt;br /&gt;&lt;br</td>\n",
       "      <td>207477735</td>\n",
       "    </tr>\n",
       "    <tr>\n",
       "      <th>45062895</th>\n",
       "      <td>Our self contained modern and spacious double bedroom in Notting Hill/Westbourne Park minutes walk from the Underground.&lt;br /&gt;The apartment is one of five purposely-built double and triple room lets in this brand new block of apartments.&lt;br /&gt;The building has a communal shower/bathroom, which is deep cleaned daily along with all communal areas.&lt;br /&gt;&lt;br /&gt;&lt;b&gt;The space&lt;/b&gt;&lt;br /&gt;The apartments are all designed by ‘Slim Interior Design’ with a chic, modern minimalist brief.&lt;br /&gt;The flat has been finished to an excellent standard and comes fully furnished with a modern bathroom with shower &amp; bath, laminate floors throughout, modern furniture and fittings.&lt;br /&gt;We have also taking preventative measures to ensure guests have a safe stay with us with CCTV in communal areas, wireless check-in, daily communal cleans.&lt;br /&gt;These double rooms are suitable for couples or single guests.&lt;br /&gt;&lt;br /&gt;&lt;b&gt;Guest access&lt;/b&gt;&lt;br /&gt;Guest have access to their own room as well as the communal areas.&lt;br /&gt;&lt;br</td>\n",
       "      <td>152064486</td>\n",
       "    </tr>\n",
       "    <tr>\n",
       "      <th>45062953</th>\n",
       "      <td>Our self contained modern and spacious double bedroom in Notting Hill/Westbourne Park minutes walk from the Underground.&lt;br /&gt;The apartment is one of five purposely-built double and triple room lets in this brand new block of apartments.&lt;br /&gt;The building has a communal shower/bathroom, which is deep cleaned daily along with all communal areas.&lt;br /&gt;&lt;br /&gt;&lt;b&gt;The space&lt;/b&gt;&lt;br /&gt;The apartments are all designed by ‘Slim Interior Design’ with a chic, modern minimalist brief.&lt;br /&gt;The flat has been finished to an excellent standard and comes fully furnished with a modern bathroom with shower &amp; bath, laminate floors throughout, modern furniture and fittings.&lt;br /&gt;We have also taking preventative measures to ensure guests have a safe stay with us with CCTV in communal areas, wireless check-in, daily communal cleans.&lt;br /&gt;These double rooms are suitable for couples or single guests.&lt;br /&gt;&lt;br /&gt;&lt;b&gt;Guest access&lt;/b&gt;&lt;br /&gt;Guest have access to their own room as well as the communal areas.&lt;br /&gt;&lt;br</td>\n",
       "      <td>152064486</td>\n",
       "    </tr>\n",
       "    <tr>\n",
       "      <th>45063035</th>\n",
       "      <td>Our self contained modern and spacious double bedroom in Notting Hill/Westbourne Park minutes walk from the Underground.&lt;br /&gt;The apartment is one of five purposely-built double and triple room lets in this brand new block of apartments.&lt;br /&gt;The building has a communal shower/bathroom, which is deep cleaned daily along with all communal areas.&lt;br /&gt;&lt;br /&gt;&lt;b&gt;The space&lt;/b&gt;&lt;br /&gt;The apartments are all designed by ‘Slim Interior Design’ with a chic, modern minimalist brief.&lt;br /&gt;The flat has been finished to an excellent standard and comes fully furnished with a modern bathroom with shower &amp; bath, laminate floors throughout, modern furniture and fittings.&lt;br /&gt;We have also taking preventative measures to ensure guests have a safe stay with us with CCTV in communal areas, wireless check-in, daily communal cleans.&lt;br /&gt;These double rooms are suitable for couples or single guests.&lt;br /&gt;&lt;br /&gt;&lt;b&gt;Guest access&lt;/b&gt;&lt;br /&gt;Guest have access to their own room as well as the communal areas.&lt;br /&gt;&lt;br</td>\n",
       "      <td>258709744</td>\n",
       "    </tr>\n",
       "    <tr>\n",
       "      <th>45063091</th>\n",
       "      <td>Our self contained modern and spacious double bedroom in Notting Hill/Westbourne Park minutes walk from the Underground.&lt;br /&gt;The apartment is one of five purposely-built double and triple room lets in this brand new block of apartments.&lt;br /&gt;The building has a communal shower/bathroom, which is deep cleaned daily along with all communal areas.&lt;br /&gt;&lt;br /&gt;&lt;b&gt;The space&lt;/b&gt;&lt;br /&gt;The apartments are all designed by ‘Slim Interior Design’ with a chic, modern minimalist brief.&lt;br /&gt;The flat has been finished to an excellent standard and comes fully furnished with a modern bathroom with shower &amp; bath, laminate floors throughout, modern furniture and fittings.&lt;br /&gt;We have also taking preventative measures to ensure guests have a safe stay with us with CCTV in communal areas, wireless check-in, daily communal cleans.&lt;br /&gt;These double rooms are suitable for couples or single guests.&lt;br /&gt;&lt;br /&gt;&lt;b&gt;Guest access&lt;/b&gt;&lt;br /&gt;Guest have access to their own room as well as the communal areas.&lt;br /&gt;&lt;br</td>\n",
       "      <td>258709744</td>\n",
       "    </tr>\n",
       "    <tr>\n",
       "      <th>45063153</th>\n",
       "      <td>Our self contained modern and spacious double bedroom in Notting Hill/Westbourne Park minutes walk from the Underground.&lt;br /&gt;The apartment is one of five purposely-built double and triple room lets in this brand new block of apartments.&lt;br /&gt;The building has a communal shower/bathroom, which is deep cleaned daily along with all communal areas.&lt;br /&gt;&lt;br /&gt;&lt;b&gt;The space&lt;/b&gt;&lt;br /&gt;The apartments are all designed by ‘Slim Interior Design’ with a chic, modern minimalist brief.&lt;br /&gt;The flat has been finished to an excellent standard and comes fully furnished with a modern bathroom with shower &amp; bath, laminate floors throughout, modern furniture and fittings.&lt;br /&gt;We have also taking preventative measures to ensure guests have a safe stay with us with CCTV in communal areas, wireless check-in, daily communal cleans.&lt;br /&gt;These double rooms are suitable for couples or single guests.&lt;br /&gt;&lt;br /&gt;&lt;b&gt;Guest access&lt;/b&gt;&lt;br /&gt;Guest have access to their own room as well as the communal areas.&lt;br /&gt;&lt;br</td>\n",
       "      <td>265006671</td>\n",
       "    </tr>\n",
       "    <tr>\n",
       "      <th>45063218</th>\n",
       "      <td>Our self contained modern and spacious double bedroom in Notting Hill/Westbourne Park minutes walk from the Underground.&lt;br /&gt;The apartment is one of five purposely-built double and triple room lets in this brand new block of apartments.&lt;br /&gt;The building has a communal shower/bathroom, which is deep cleaned daily along with all communal areas.&lt;br /&gt;&lt;br /&gt;&lt;b&gt;The space&lt;/b&gt;&lt;br /&gt;The apartments are all designed by ‘Slim Interior Design’ with a chic, modern minimalist brief.&lt;br /&gt;The flat has been finished to an excellent standard and comes fully furnished with a modern bathroom with shower &amp; bath, laminate floors throughout, modern furniture and fittings.&lt;br /&gt;We have also taking preventative measures to ensure guests have a safe stay with us with CCTV in communal areas, wireless check-in, daily communal cleans.&lt;br /&gt;These double rooms are suitable for couples or single guests.&lt;br /&gt;&lt;br /&gt;&lt;b&gt;Guest access&lt;/b&gt;&lt;br /&gt;Guest have access to their own room as well as the communal areas.&lt;br /&gt;&lt;br</td>\n",
       "      <td>265006671</td>\n",
       "    </tr>\n",
       "    <tr>\n",
       "      <th>45063293</th>\n",
       "      <td>Our self contained modern and spacious double bedroom in Notting Hill/Westbourne Park minutes walk from the Underground.&lt;br /&gt;The apartment is one of five purposely-built double and triple room lets in this brand new block of apartments.&lt;br /&gt;The building has a communal shower/bathroom, which is deep cleaned daily along with all communal areas.&lt;br /&gt;&lt;br /&gt;&lt;b&gt;The space&lt;/b&gt;&lt;br /&gt;The apartments are all designed by ‘Slim Interior Design’ with a chic, modern minimalist brief.&lt;br /&gt;The flat has been finished to an excellent standard and comes fully furnished with a modern bathroom with shower &amp; bath, laminate floors throughout, modern furniture and fittings.&lt;br /&gt;We have also taking preventative measures to ensure guests have a safe stay with us with CCTV in communal areas, wireless check-in, daily communal cleans.&lt;br /&gt;These double rooms are suitable for couples or single guests.&lt;br /&gt;&lt;br /&gt;&lt;b&gt;Guest access&lt;/b&gt;&lt;br /&gt;Guest have access to their own room as well as the communal areas.&lt;br /&gt;&lt;br</td>\n",
       "      <td>36126550</td>\n",
       "    </tr>\n",
       "    <tr>\n",
       "      <th>45063367</th>\n",
       "      <td>Our self contained modern and spacious double bedroom in Notting Hill/Westbourne Park minutes walk from the Underground.&lt;br /&gt;The apartment is one of five purposely-built double and triple room lets in this brand new block of apartments.&lt;br /&gt;The building has a communal shower/bathroom, which is deep cleaned daily along with all communal areas.&lt;br /&gt;&lt;br /&gt;&lt;b&gt;The space&lt;/b&gt;&lt;br /&gt;The apartments are all designed by ‘Slim Interior Design’ with a chic, modern minimalist brief.&lt;br /&gt;The flat has been finished to an excellent standard and comes fully furnished with a modern bathroom with shower &amp; bath, laminate floors throughout, modern furniture and fittings.&lt;br /&gt;We have also taking preventative measures to ensure guests have a safe stay with us with CCTV in communal areas, wireless check-in, daily communal cleans.&lt;br /&gt;These double rooms are suitable for couples or single guests.&lt;br /&gt;&lt;br /&gt;&lt;b&gt;Guest access&lt;/b&gt;&lt;br /&gt;Guest have access to their own room as well as the communal areas.&lt;br /&gt;&lt;br</td>\n",
       "      <td>36126550</td>\n",
       "    </tr>\n",
       "  </tbody>\n",
       "</table>\n",
       "</div>"
      ],
      "text/plain": [
       "                                                                                                                                                                                                                                                                                                                                                                                                                                                                                                                                                                                                                                                                                                                                                                                                                                                                                                                                                                                                                                       description  \\\n",
       "44942288  Our self contained modern and spacious double bedroom in Notting Hill/Westbourne Park minutes walk from the Underground.<br />The apartment is one of five purposely-built double and triple room lets in this brand new block of apartments.<br />The building has a communal shower/bathroom, which is deep cleaned daily along with all communal areas.<br /><br /><b>The space</b><br />The apartments are all designed by ‘Slim Interior Design’ with a chic, modern minimalist brief. <br />The flat has been finished to an excellent standard and comes fully furnished with a modern bathroom with shower & bath, laminate floors throughout, modern furniture and fittings. <br />We have also taking preventative measures to ensure guests have a safe stay with us with CCTV in communal areas, wireless check-in, daily communal cleans.<br />These double rooms are suitable for couples or single guests.<br /><br /><b>Guest access</b><br />Guest have access to their own room as well as the communal areas.<br /><b   \n",
       "44943419  Our self contained modern and spacious double bedroom in Notting Hill/Westbourne Park minutes walk from the Underground.<br />The apartment is one of five purposely-built double and triple room lets in this brand new block of apartments.<br />The building has a communal shower/bathroom, which is deep cleaned daily along with all communal areas.<br /><br /><b>The space</b><br />The apartments are all designed by ‘Slim Interior Design’ with a chic, modern minimalist brief. <br />The flat has been finished to an excellent standard and comes fully furnished with a modern bathroom with shower & bath, laminate floors throughout, modern furniture and fittings. <br />We have also taking preventative measures to ensure guests have a safe stay with us with CCTV in communal areas, wireless check-in, daily communal cleans.<br />These double rooms are suitable for couples or single guests.<br /><br /><b>Guest access</b><br />Guest have access to their own room as well as the communal areas.<br /><b   \n",
       "44943988  Our self contained modern and spacious double bedroom in Notting Hill/Westbourne Park minutes walk from the Underground.<br />The apartment is one of five purposely-built double and triple room lets in this brand new block of apartments.<br />The building has a communal shower/bathroom, which is deep cleaned daily along with all communal areas.<br /><br /><b>The space</b><br />The apartments are all designed by ‘Slim Interior Design’ with a chic, modern minimalist brief. <br />The flat has been finished to an excellent standard and comes fully furnished with a modern bathroom with shower & bath, laminate floors throughout, modern furniture and fittings. <br />We have also taking preventative measures to ensure guests have a safe stay with us with CCTV in communal areas, wireless check-in, daily communal cleans.<br />These double rooms are suitable for couples or single guests.<br /><br /><b>Guest access</b><br />Guest have access to their own room as well as the communal areas.<br /><b   \n",
       "44944231  Our self contained modern and spacious double bedroom in Notting Hill/Westbourne Park minutes walk from the Underground.<br />The apartment is one of five purposely-built double and triple room lets in this brand new block of apartments.<br />The building has a communal shower/bathroom, which is deep cleaned daily along with all communal areas.<br /><br /><b>The space</b><br />The apartments are all designed by ‘Slim Interior Design’ with a chic, modern minimalist brief. <br />The flat has been finished to an excellent standard and comes fully furnished with a modern bathroom with shower & bath, laminate floors throughout, modern furniture and fittings. <br />We have also taking preventative measures to ensure guests have a safe stay with us with CCTV in communal areas, wireless check-in, daily communal cleans.<br />These double rooms are suitable for couples or single guests.<br /><br /><b>Guest access</b><br />Guest have access to their own room as well as the communal areas.<br /><b   \n",
       "45062758  Our self contained modern and spacious double bedroom in Notting Hill/Westbourne Park minutes walk from the Underground.<br />The apartment is one of five purposely-built double and triple room lets in this brand new block of apartments.<br />The building has a communal shower/bathroom, which is deep cleaned daily along with all communal areas.<br /><br /><b>The space</b><br />The apartments are all designed by ‘Slim Interior Design’ with a chic, modern minimalist brief.<br />The flat has been finished to an excellent standard and comes fully furnished with a modern bathroom with shower & bath, laminate floors throughout, modern furniture and fittings.<br />We have also taking preventative measures to ensure guests have a safe stay with us with CCTV in communal areas, wireless check-in, daily communal cleans.<br />These double rooms are suitable for couples or single guests.<br /><br /><b>Guest access</b><br />Guest have access to their own room as well as the communal areas.<br /><br    \n",
       "45062822  Our self contained modern and spacious double bedroom in Notting Hill/Westbourne Park minutes walk from the Underground.<br />The apartment is one of five purposely-built double and triple room lets in this brand new block of apartments.<br />The building has a communal shower/bathroom, which is deep cleaned daily along with all communal areas.<br /><br /><b>The space</b><br />The apartments are all designed by ‘Slim Interior Design’ with a chic, modern minimalist brief.<br />The flat has been finished to an excellent standard and comes fully furnished with a modern bathroom with shower & bath, laminate floors throughout, modern furniture and fittings.<br />We have also taking preventative measures to ensure guests have a safe stay with us with CCTV in communal areas, wireless check-in, daily communal cleans.<br />These double rooms are suitable for couples or single guests.<br /><br /><b>Guest access</b><br />Guest have access to their own room as well as the communal areas.<br /><br    \n",
       "45062895  Our self contained modern and spacious double bedroom in Notting Hill/Westbourne Park minutes walk from the Underground.<br />The apartment is one of five purposely-built double and triple room lets in this brand new block of apartments.<br />The building has a communal shower/bathroom, which is deep cleaned daily along with all communal areas.<br /><br /><b>The space</b><br />The apartments are all designed by ‘Slim Interior Design’ with a chic, modern minimalist brief.<br />The flat has been finished to an excellent standard and comes fully furnished with a modern bathroom with shower & bath, laminate floors throughout, modern furniture and fittings.<br />We have also taking preventative measures to ensure guests have a safe stay with us with CCTV in communal areas, wireless check-in, daily communal cleans.<br />These double rooms are suitable for couples or single guests.<br /><br /><b>Guest access</b><br />Guest have access to their own room as well as the communal areas.<br /><br    \n",
       "45062953  Our self contained modern and spacious double bedroom in Notting Hill/Westbourne Park minutes walk from the Underground.<br />The apartment is one of five purposely-built double and triple room lets in this brand new block of apartments.<br />The building has a communal shower/bathroom, which is deep cleaned daily along with all communal areas.<br /><br /><b>The space</b><br />The apartments are all designed by ‘Slim Interior Design’ with a chic, modern minimalist brief.<br />The flat has been finished to an excellent standard and comes fully furnished with a modern bathroom with shower & bath, laminate floors throughout, modern furniture and fittings.<br />We have also taking preventative measures to ensure guests have a safe stay with us with CCTV in communal areas, wireless check-in, daily communal cleans.<br />These double rooms are suitable for couples or single guests.<br /><br /><b>Guest access</b><br />Guest have access to their own room as well as the communal areas.<br /><br    \n",
       "45063035  Our self contained modern and spacious double bedroom in Notting Hill/Westbourne Park minutes walk from the Underground.<br />The apartment is one of five purposely-built double and triple room lets in this brand new block of apartments.<br />The building has a communal shower/bathroom, which is deep cleaned daily along with all communal areas.<br /><br /><b>The space</b><br />The apartments are all designed by ‘Slim Interior Design’ with a chic, modern minimalist brief.<br />The flat has been finished to an excellent standard and comes fully furnished with a modern bathroom with shower & bath, laminate floors throughout, modern furniture and fittings.<br />We have also taking preventative measures to ensure guests have a safe stay with us with CCTV in communal areas, wireless check-in, daily communal cleans.<br />These double rooms are suitable for couples or single guests.<br /><br /><b>Guest access</b><br />Guest have access to their own room as well as the communal areas.<br /><br    \n",
       "45063091  Our self contained modern and spacious double bedroom in Notting Hill/Westbourne Park minutes walk from the Underground.<br />The apartment is one of five purposely-built double and triple room lets in this brand new block of apartments.<br />The building has a communal shower/bathroom, which is deep cleaned daily along with all communal areas.<br /><br /><b>The space</b><br />The apartments are all designed by ‘Slim Interior Design’ with a chic, modern minimalist brief.<br />The flat has been finished to an excellent standard and comes fully furnished with a modern bathroom with shower & bath, laminate floors throughout, modern furniture and fittings.<br />We have also taking preventative measures to ensure guests have a safe stay with us with CCTV in communal areas, wireless check-in, daily communal cleans.<br />These double rooms are suitable for couples or single guests.<br /><br /><b>Guest access</b><br />Guest have access to their own room as well as the communal areas.<br /><br    \n",
       "45063153  Our self contained modern and spacious double bedroom in Notting Hill/Westbourne Park minutes walk from the Underground.<br />The apartment is one of five purposely-built double and triple room lets in this brand new block of apartments.<br />The building has a communal shower/bathroom, which is deep cleaned daily along with all communal areas.<br /><br /><b>The space</b><br />The apartments are all designed by ‘Slim Interior Design’ with a chic, modern minimalist brief.<br />The flat has been finished to an excellent standard and comes fully furnished with a modern bathroom with shower & bath, laminate floors throughout, modern furniture and fittings.<br />We have also taking preventative measures to ensure guests have a safe stay with us with CCTV in communal areas, wireless check-in, daily communal cleans.<br />These double rooms are suitable for couples or single guests.<br /><br /><b>Guest access</b><br />Guest have access to their own room as well as the communal areas.<br /><br    \n",
       "45063218  Our self contained modern and spacious double bedroom in Notting Hill/Westbourne Park minutes walk from the Underground.<br />The apartment is one of five purposely-built double and triple room lets in this brand new block of apartments.<br />The building has a communal shower/bathroom, which is deep cleaned daily along with all communal areas.<br /><br /><b>The space</b><br />The apartments are all designed by ‘Slim Interior Design’ with a chic, modern minimalist brief.<br />The flat has been finished to an excellent standard and comes fully furnished with a modern bathroom with shower & bath, laminate floors throughout, modern furniture and fittings.<br />We have also taking preventative measures to ensure guests have a safe stay with us with CCTV in communal areas, wireless check-in, daily communal cleans.<br />These double rooms are suitable for couples or single guests.<br /><br /><b>Guest access</b><br />Guest have access to their own room as well as the communal areas.<br /><br    \n",
       "45063293  Our self contained modern and spacious double bedroom in Notting Hill/Westbourne Park minutes walk from the Underground.<br />The apartment is one of five purposely-built double and triple room lets in this brand new block of apartments.<br />The building has a communal shower/bathroom, which is deep cleaned daily along with all communal areas.<br /><br /><b>The space</b><br />The apartments are all designed by ‘Slim Interior Design’ with a chic, modern minimalist brief.<br />The flat has been finished to an excellent standard and comes fully furnished with a modern bathroom with shower & bath, laminate floors throughout, modern furniture and fittings.<br />We have also taking preventative measures to ensure guests have a safe stay with us with CCTV in communal areas, wireless check-in, daily communal cleans.<br />These double rooms are suitable for couples or single guests.<br /><br /><b>Guest access</b><br />Guest have access to their own room as well as the communal areas.<br /><br    \n",
       "45063367  Our self contained modern and spacious double bedroom in Notting Hill/Westbourne Park minutes walk from the Underground.<br />The apartment is one of five purposely-built double and triple room lets in this brand new block of apartments.<br />The building has a communal shower/bathroom, which is deep cleaned daily along with all communal areas.<br /><br /><b>The space</b><br />The apartments are all designed by ‘Slim Interior Design’ with a chic, modern minimalist brief.<br />The flat has been finished to an excellent standard and comes fully furnished with a modern bathroom with shower & bath, laminate floors throughout, modern furniture and fittings.<br />We have also taking preventative measures to ensure guests have a safe stay with us with CCTV in communal areas, wireless check-in, daily communal cleans.<br />These double rooms are suitable for couples or single guests.<br /><br /><b>Guest access</b><br />Guest have access to their own room as well as the communal areas.<br /><br    \n",
       "\n",
       "            host_id  \n",
       "44942288    2331446  \n",
       "44943419    2331446  \n",
       "44943988  248034547  \n",
       "44944231  248034547  \n",
       "45062758  207477735  \n",
       "45062822  207477735  \n",
       "45062895  152064486  \n",
       "45062953  152064486  \n",
       "45063035  258709744  \n",
       "45063091  258709744  \n",
       "45063153  265006671  \n",
       "45063218  265006671  \n",
       "45063293   36126550  \n",
       "45063367   36126550  "
      ]
     },
     "execution_count": 29,
     "metadata": {},
     "output_type": "execute_result"
    }
   ],
   "source": [
    "pd.set_option('display.max_colwidth', None)\n",
    "df.loc[cosine_distances[cosine_distances[45063218] < 0.2].index, ['description', 'host_id']] #it's picking up on ghost hotels with multiple associated accounts!"
   ]
  },
  {
   "cell_type": "code",
   "execution_count": null,
   "metadata": {},
   "outputs": [],
   "source": []
  },
  {
   "cell_type": "code",
   "execution_count": 39,
   "metadata": {},
   "outputs": [
    {
     "data": {
      "text/html": [
       "<div>\n",
       "<style scoped>\n",
       "    .dataframe tbody tr th:only-of-type {\n",
       "        vertical-align: middle;\n",
       "    }\n",
       "\n",
       "    .dataframe tbody tr th {\n",
       "        vertical-align: top;\n",
       "    }\n",
       "\n",
       "    .dataframe thead th {\n",
       "        text-align: right;\n",
       "    }\n",
       "</style>\n",
       "<table border=\"1\" class=\"dataframe\">\n",
       "  <thead>\n",
       "    <tr style=\"text-align: right;\">\n",
       "      <th></th>\n",
       "      <th>id</th>\n",
       "      <th>host_id</th>\n",
       "      <th>room_type</th>\n",
       "      <th>calculated_host_listings_count</th>\n",
       "    </tr>\n",
       "  </thead>\n",
       "  <tbody>\n",
       "    <tr>\n",
       "      <th>5005</th>\n",
       "      <td>4482189.0</td>\n",
       "      <td>23255766.0</td>\n",
       "      <td>Entire home/apt</td>\n",
       "      <td>2.0</td>\n",
       "    </tr>\n",
       "  </tbody>\n",
       "</table>\n",
       "</div>"
      ],
      "text/plain": [
       "             id     host_id        room_type  calculated_host_listings_count\n",
       "5005  4482189.0  23255766.0  Entire home/apt                             2.0"
      ]
     },
     "execution_count": 39,
     "metadata": {},
     "output_type": "execute_result"
    }
   ],
   "source": [
    "ref_df[ref_df['id'] == 4482189]"
   ]
  },
  {
   "cell_type": "code",
   "execution_count": null,
   "metadata": {},
   "outputs": [],
   "source": []
  }
 ],
 "metadata": {
  "kernelspec": {
   "display_name": "Python 3",
   "language": "python",
   "name": "python3"
  },
  "language_info": {
   "codemirror_mode": {
    "name": "ipython",
    "version": 3
   },
   "file_extension": ".py",
   "mimetype": "text/x-python",
   "name": "python",
   "nbconvert_exporter": "python",
   "pygments_lexer": "ipython3",
   "version": "3.7.8"
  }
 },
 "nbformat": 4,
 "nbformat_minor": 4
}
