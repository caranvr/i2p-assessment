{
 "cells": [
  {
   "cell_type": "markdown",
   "metadata": {},
   "source": [
    "# Reproducible Analysis"
   ]
  },
  {
   "cell_type": "code",
   "execution_count": 1,
   "metadata": {},
   "outputs": [],
   "source": [
    "import os\n",
    "import numpy as np\n",
    "import pandas as pd\n",
    "import geopandas as gpd\n",
    "import matplotlib.cm as cm\n",
    "import matplotlib.pyplot as plt\n",
    "import re\n",
    "\n",
    "from sklearn.feature_extraction.text import TfidfVectorizer\n",
    "from scipy.spatial.distance import pdist, squareform\n",
    "from sklearn.metrics import pairwise_distances_chunked\n",
    "from itertools import chain"
   ]
  },
  {
   "cell_type": "markdown",
   "metadata": {},
   "source": [
    "## Identifying ghost hotels"
   ]
  },
  {
   "cell_type": "markdown",
   "metadata": {},
   "source": [
    "### Loading and cleaning data"
   ]
  },
  {
   "cell_type": "code",
   "execution_count": 5,
   "metadata": {},
   "outputs": [],
   "source": [
    "norm_df = pd.read_csv('https://github.com/jreades/i2p/blob/master/data/clean/2020-08-24-listings-with-nlp-subset.csv.gz?raw=true',\n",
    "                compression='gzip', dtype={'id':np.float64, 'listing_url':str, 'name':str, 'description':str, 'description_norm':str})\n",
    "ref_df = pd.read_csv('https://github.com/jreades/i2p/blob/master/data/src/2020-08-24-listings.csv.gz?raw=true',\n",
    "                    compression='gzip', usecols=['id', 'room_type', 'calculated_host_listings_count', 'host_id', 'host_name', 'availability_365'],\n",
    "                    dtype={'id':np.float64, 'room_type':str, 'calculated_host_listings_count':np.float64, 'host_id':np.float64, 'host_name':str, 'availability_365':np.float64})"
   ]
  },
  {
   "cell_type": "markdown",
   "metadata": {},
   "source": [
    "#### Joining df with normalised description to df with room type, then dropping hotel rooms, serviced apartments, and null normalised descriptions"
   ]
  },
  {
   "cell_type": "code",
   "execution_count": 3,
   "metadata": {},
   "outputs": [
    {
     "name": "stdout",
     "output_type": "stream",
     "text": [
      "Converting id\n",
      "Converting host_id\n",
      "Converting calculated_host_listings_count\n",
      "Converting availability_365\n"
     ]
    }
   ],
   "source": [
    "df = pd.merge(norm_df, ref_df, on='id') #default is inner so we leave it\n",
    "df.drop(df[(df.room_type == 'Hotel room') |\n",
    "           (df.id.isna()) |\n",
    "           (df.calculated_host_listings_count.isna()) |\n",
    "           (df.description.isna()) |\n",
    "           (df.description_norm.isna())].index, inplace=True)\n",
    "\n",
    "ints = ['id', 'host_id', 'calculated_host_listings_count', 'availability_365']\n",
    "for i in ints:\n",
    "    print(f\"Converting {i}\")\n",
    "    try:\n",
    "        df[i] = df[i].astype('int')\n",
    "    except ValueError as e:\n",
    "        print(\"\\tConverting to unsigned 16-bit integer.\")\n",
    "        df[i] = df[i].astype(pd.UInt16Dtype())\n",
    "\n",
    "df.drop(df[df['calculated_host_listings_count'] <= 2].index, inplace=True)\n",
    "df.set_index('id', inplace=True)"
   ]
  },
  {
   "cell_type": "code",
   "execution_count": 4,
   "metadata": {},
   "outputs": [
    {
     "data": {
      "text/plain": [
       "22256"
      ]
     },
     "execution_count": 4,
     "metadata": {},
     "output_type": "execute_result"
    }
   ],
   "source": [
    "df.shape[0]"
   ]
  },
  {
   "cell_type": "markdown",
   "metadata": {},
   "source": [
    "#### To filter or not to filter serviced apartments?"
   ]
  },
  {
   "cell_type": "markdown",
   "metadata": {},
   "source": [
    "Serviced apartments are an established type of tourist accommodation with similar characteristics to ghost hotels: their units are typically located in the same building, and units listed on Airbnb would likely have similar descriptions. However, established serviced apartments may have planning permission to operate as such, unlike ghost hotels. \n",
    "\n",
    "I experimented with filtering out listings that are likely to be legitimate serviced apartments before proceeding with text similarity analysis, but ultimately decided against it for the following reasons:\n",
    "1. Listings described as 'serviced apartments' or 'serviced accommodation' account for a small percentage of commercially-run Airbnb listings.\n",
    "2. Listings in buildings classed as 'residential' are still sometimes described as serviced apartments for marketing purposes, and there is no way to distinguish between these listings and legitimate serviced apartment listings."
   ]
  },
  {
   "cell_type": "code",
   "execution_count": 6,
   "metadata": {},
   "outputs": [
    {
     "name": "stdout",
     "output_type": "stream",
     "text": [
      "2.07% of commercially-run Airbnb listings are described as serviced apartments.\n"
     ]
    }
   ],
   "source": [
    "serviced = df[df.description.str.contains(r'(?:serviced (?:apartments?|accommodation)+)', regex=True, flags=re.IGNORECASE)][['description', 'name', 'calculated_host_listings_count', 'availability_365']]\n",
    "print(f'{(serviced.shape[0]/df.shape[0])*100:.2f}% of commercially-run Airbnb listings are described as serviced apartments.')"
   ]
  },
  {
   "cell_type": "markdown",
   "metadata": {},
   "source": [
    "### Text similarity"
   ]
  },
  {
   "cell_type": "code",
   "execution_count": 8,
   "metadata": {},
   "outputs": [],
   "source": [
    "corpus = df.description_norm.values"
   ]
  },
  {
   "cell_type": "markdown",
   "metadata": {},
   "source": [
    "#### Creating TF/IDF vectorizer"
   ]
  },
  {
   "cell_type": "code",
   "execution_count": 9,
   "metadata": {},
   "outputs": [],
   "source": [
    "vectorizer = TfidfVectorizer(use_idf=True, ngram_range=(1,2), max_df=0.5, min_df=0.05)\n",
    "#ignore terms that appear in over 50% or less than 5% of documents\n",
    "tcorpus = vectorizer.fit_transform(corpus).toarray() \n",
    "#fit creates list of words/ngrams + IDF scores\n",
    "#transform creates matrix of TF/IDF scores per word/ngram\n",
    "#convert to array for cosine similarity step"
   ]
  },
  {
   "cell_type": "markdown",
   "metadata": {},
   "source": [
    "#### Creating cosine distance matrix"
   ]
  },
  {
   "cell_type": "code",
   "execution_count": 10,
   "metadata": {},
   "outputs": [],
   "source": [
    "def reduce_func(D_chunk, start):\n",
    "    neigh = [np.flatnonzero(d < 0.15) for d in D_chunk] #index positions of listings with a cosine distance less than 0.2\n",
    "    return neigh\n",
    "\n",
    "ghost_idx = [] #set up list of indices to use for slicing original df\n",
    "validation = [] #list of arrays, each containing int index of similar listings\n",
    "for chunk in pairwise_distances_chunked(tcorpus, metric='cosine', reduce_func=reduce_func): #each chunk is a list of arrays\n",
    "    for idx, d in enumerate(chunk):\n",
    "        if (d.shape[0] >= 4):\n",
    "            ghost_idx.append(idx)\n",
    "            validation.append(d)\n",
    "            \n",
    "    #if the length of an array (d.shape[0]) is greater than or equal to 3,\n",
    "    #the listing it corresponds to has low cosine distances from three or more listings,\n",
    "    #indicating a likely ghost hotel"
   ]
  },
  {
   "cell_type": "code",
   "execution_count": 11,
   "metadata": {},
   "outputs": [
    {
     "data": {
      "text/plain": [
       "5703"
      ]
     },
     "execution_count": 11,
     "metadata": {},
     "output_type": "execute_result"
    }
   ],
   "source": [
    "len(validation)"
   ]
  },
  {
   "cell_type": "code",
   "execution_count": 45,
   "metadata": {},
   "outputs": [
    {
     "data": {
      "text/html": [
       "<div>\n",
       "<style scoped>\n",
       "    .dataframe tbody tr th:only-of-type {\n",
       "        vertical-align: middle;\n",
       "    }\n",
       "\n",
       "    .dataframe tbody tr th {\n",
       "        vertical-align: top;\n",
       "    }\n",
       "\n",
       "    .dataframe thead th {\n",
       "        text-align: right;\n",
       "    }\n",
       "</style>\n",
       "<table border=\"1\" class=\"dataframe\">\n",
       "  <thead>\n",
       "    <tr style=\"text-align: right;\">\n",
       "      <th></th>\n",
       "      <th>description</th>\n",
       "      <th>host_id</th>\n",
       "      <th>name</th>\n",
       "      <th>room_type</th>\n",
       "      <th>availability_365</th>\n",
       "    </tr>\n",
       "    <tr>\n",
       "      <th>id</th>\n",
       "      <th></th>\n",
       "      <th></th>\n",
       "      <th></th>\n",
       "      <th></th>\n",
       "      <th></th>\n",
       "    </tr>\n",
       "  </thead>\n",
       "  <tbody>\n",
       "    <tr>\n",
       "      <th>20781314</th>\n",
       "      <td>A twin room, situated within heart of London's Central East End conveniently positioned for the Canary Wharf, London City Centre, West-End, Olympic Village and all the great things London has to offer. The room comes with wardrobe, chest of drawers; desk, flat screen TV, shared bathrooms/kitchen with cooking facilities, a washing machine, fridge, iron etc&lt;br /&gt;&lt;br /&gt;We provide fresh bed linen and towels, free WI-FI and is centrally heated.&lt;br /&gt;&lt;br /&gt;&lt;b&gt;The space&lt;/b&gt;&lt;br /&gt;The London tube stations of Stepney Green, Whitechapel and Bethnal Green is only 5 minutes (500 m) walk away.&lt;br /&gt;&lt;br /&gt;The bed and breakfast is very close to the Spitalfields, Brick lane and Columbia road markets. You can find there unique presents and souvenirs, art, vintage and hand made clothes and jewellery, try excellent food and absorb the urban atmosphere of East London.&lt;br /&gt;&lt;br /&gt;You can easily get any part of London by Underground, Overground, Buses, River boat (Thames Clipper) or on street rental bikes. O</td>\n",
       "      <td>148577632</td>\n",
       "      <td>Cosmopolitan Rooms London Whitechapel - Room 3</td>\n",
       "      <td>Private room</td>\n",
       "      <td>28</td>\n",
       "    </tr>\n",
       "    <tr>\n",
       "      <th>20781539</th>\n",
       "      <td>A twin room, situated within heart of London's Central East End conveniently positioned for the Canary Wharf, London City Centre, West-End, Olympic Village and all the great things London has to offer. The room comes with wardrobe, chest of drawers; desk, flat screen TV, shared bathrooms/kitchen with cooking facilities, a washing machine, fridge, iron etc&lt;br /&gt;&lt;br /&gt;We provide fresh bed linen and towels, free WI-FI and is centrally heated.&lt;br /&gt;&lt;br /&gt;&lt;b&gt;The space&lt;/b&gt;&lt;br /&gt;The London tube stations of Stepney Green, Whitechapel and Bethnal Green is only 5 minutes (500 m) walk away.&lt;br /&gt;&lt;br /&gt;The bed and breakfast is very close to the Spitalfields, Brick lane and Columbia road markets. You can find there unique presents and souvenirs, art, vintage and hand made clothes and jewellery, try excellent food and absorb the urban atmosphere of East London.&lt;br /&gt;&lt;br /&gt;You can easily get any part of London by Underground, Overground, Buses, River boat (Thames Clipper) or on street rental bikes. O</td>\n",
       "      <td>148577632</td>\n",
       "      <td>Cosmopolitan Rooms London Whitechapel - Room 6</td>\n",
       "      <td>Private room</td>\n",
       "      <td>172</td>\n",
       "    </tr>\n",
       "    <tr>\n",
       "      <th>21304969</th>\n",
       "      <td>A single room, situated within heart of London's Central East End conveniently positioned for the Canary Wharf, London City Centre, West-End, Olympic Village and all the great things London has to offer. The room comes with wardrobe, chest of drawers; desk, flat screen TV, shared bathrooms/kitchen with cooking facilities, a washing machine, fridge, iron etc&lt;br /&gt;&lt;br /&gt;We provide fresh bed linen and towels, free WI-FI and is centrally heated.&lt;br /&gt;&lt;br /&gt;&lt;b&gt;The space&lt;/b&gt;&lt;br /&gt;The London tube stations of Stepney Green, Whitechapel and Bethnal Green is only 5 minutes (500 m) walk away.&lt;br /&gt;&lt;br /&gt;The bed and breakfast is very close to the Spitalfields, Brick lane and Columbia road markets. You can find there unique presents and souvenirs, art, vintage and hand made clothes and jewellery, try excellent food and absorb the urban atmosphere of East London.&lt;br /&gt;&lt;br /&gt;You can easily get any part of London by Underground, Overground, Buses, River boat (Thames Clipper) or on street rental bikes.</td>\n",
       "      <td>148577632</td>\n",
       "      <td>Cosmopolitan Rooms London Whitechapel - Room 1</td>\n",
       "      <td>Private room</td>\n",
       "      <td>29</td>\n",
       "    </tr>\n",
       "    <tr>\n",
       "      <th>21410243</th>\n",
       "      <td>A twin room, situated within heart of London's Central East End conveniently positioned for the Canary Wharf, London City Centre, West-End, Olympic Village and all the great things London has to offer. The room comes with wardrobe, chest of drawers; desk, flat screen TV, shared bathrooms/kitchen with cooking facilities, a washing machine, fridge, iron etc&lt;br /&gt;&lt;br /&gt;We provide fresh bed linen and towels, free WI-FI and is centrally heated.&lt;br /&gt;&lt;br /&gt;&lt;b&gt;The space&lt;/b&gt;&lt;br /&gt;The London tube stations of Stepney Green, Whitechapel and Bethnal Green is only 5 minutes (500 m) walk away.&lt;br /&gt;&lt;br /&gt;The bed and breakfast is very close to the Spitalfields, Brick lane and Columbia road markets. You can find there unique presents and souvenirs, art, vintage and hand made clothes and jewellery, try excellent food and absorb the urban atmosphere of East London.&lt;br /&gt;&lt;br /&gt;You can easily get any part of London by Underground, Overground, Buses, River boat (Thames Clipper) or on street rental bikes. O</td>\n",
       "      <td>148577632</td>\n",
       "      <td>Cosmopolitan Rooms London Whitechapel - Room 5</td>\n",
       "      <td>Private room</td>\n",
       "      <td>28</td>\n",
       "    </tr>\n",
       "  </tbody>\n",
       "</table>\n",
       "</div>"
      ],
      "text/plain": [
       "                                                                                                                                                                                                                                                                                                                                                                                                                                                                                                                                                                                                                                                                                                                                                                                                                                                                                                                                                                                                                                       description  \\\n",
       "id                                                                                                                                                                                                                                                                                                                                                                                                                                                                                                                                                                                                                                                                                                                                                                                                                                                                                                                                                                                                                                                   \n",
       "20781314  A twin room, situated within heart of London's Central East End conveniently positioned for the Canary Wharf, London City Centre, West-End, Olympic Village and all the great things London has to offer. The room comes with wardrobe, chest of drawers; desk, flat screen TV, shared bathrooms/kitchen with cooking facilities, a washing machine, fridge, iron etc<br /><br />We provide fresh bed linen and towels, free WI-FI and is centrally heated.<br /><br /><b>The space</b><br />The London tube stations of Stepney Green, Whitechapel and Bethnal Green is only 5 minutes (500 m) walk away.<br /><br />The bed and breakfast is very close to the Spitalfields, Brick lane and Columbia road markets. You can find there unique presents and souvenirs, art, vintage and hand made clothes and jewellery, try excellent food and absorb the urban atmosphere of East London.<br /><br />You can easily get any part of London by Underground, Overground, Buses, River boat (Thames Clipper) or on street rental bikes. O   \n",
       "20781539  A twin room, situated within heart of London's Central East End conveniently positioned for the Canary Wharf, London City Centre, West-End, Olympic Village and all the great things London has to offer. The room comes with wardrobe, chest of drawers; desk, flat screen TV, shared bathrooms/kitchen with cooking facilities, a washing machine, fridge, iron etc<br /><br />We provide fresh bed linen and towels, free WI-FI and is centrally heated.<br /><br /><b>The space</b><br />The London tube stations of Stepney Green, Whitechapel and Bethnal Green is only 5 minutes (500 m) walk away.<br /><br />The bed and breakfast is very close to the Spitalfields, Brick lane and Columbia road markets. You can find there unique presents and souvenirs, art, vintage and hand made clothes and jewellery, try excellent food and absorb the urban atmosphere of East London.<br /><br />You can easily get any part of London by Underground, Overground, Buses, River boat (Thames Clipper) or on street rental bikes. O   \n",
       "21304969  A single room, situated within heart of London's Central East End conveniently positioned for the Canary Wharf, London City Centre, West-End, Olympic Village and all the great things London has to offer. The room comes with wardrobe, chest of drawers; desk, flat screen TV, shared bathrooms/kitchen with cooking facilities, a washing machine, fridge, iron etc<br /><br />We provide fresh bed linen and towels, free WI-FI and is centrally heated.<br /><br /><b>The space</b><br />The London tube stations of Stepney Green, Whitechapel and Bethnal Green is only 5 minutes (500 m) walk away.<br /><br />The bed and breakfast is very close to the Spitalfields, Brick lane and Columbia road markets. You can find there unique presents and souvenirs, art, vintage and hand made clothes and jewellery, try excellent food and absorb the urban atmosphere of East London.<br /><br />You can easily get any part of London by Underground, Overground, Buses, River boat (Thames Clipper) or on street rental bikes.   \n",
       "21410243  A twin room, situated within heart of London's Central East End conveniently positioned for the Canary Wharf, London City Centre, West-End, Olympic Village and all the great things London has to offer. The room comes with wardrobe, chest of drawers; desk, flat screen TV, shared bathrooms/kitchen with cooking facilities, a washing machine, fridge, iron etc<br /><br />We provide fresh bed linen and towels, free WI-FI and is centrally heated.<br /><br /><b>The space</b><br />The London tube stations of Stepney Green, Whitechapel and Bethnal Green is only 5 minutes (500 m) walk away.<br /><br />The bed and breakfast is very close to the Spitalfields, Brick lane and Columbia road markets. You can find there unique presents and souvenirs, art, vintage and hand made clothes and jewellery, try excellent food and absorb the urban atmosphere of East London.<br /><br />You can easily get any part of London by Underground, Overground, Buses, River boat (Thames Clipper) or on street rental bikes. O   \n",
       "\n",
       "            host_id                                            name  \\\n",
       "id                                                                    \n",
       "20781314  148577632  Cosmopolitan Rooms London Whitechapel - Room 3   \n",
       "20781539  148577632  Cosmopolitan Rooms London Whitechapel - Room 6   \n",
       "21304969  148577632  Cosmopolitan Rooms London Whitechapel - Room 1   \n",
       "21410243  148577632  Cosmopolitan Rooms London Whitechapel - Room 5   \n",
       "\n",
       "             room_type  availability_365  \n",
       "id                                        \n",
       "20781314  Private room                28  \n",
       "20781539  Private room               172  \n",
       "21304969  Private room                29  \n",
       "21410243  Private room                28  "
      ]
     },
     "execution_count": 45,
     "metadata": {},
     "output_type": "execute_result"
    }
   ],
   "source": [
    "pd.set_option('display.max_colwidth', None)\n",
    "df.iloc[validation[938]][['description', 'host_id', 'name', 'room_type', 'availability_365']]"
   ]
  },
  {
   "cell_type": "markdown",
   "metadata": {},
   "source": [
    "Some issues:\n",
    "- Some listing clusters really are multiple spare rooms in someone's house (tend to be 3-4 listings in these clusters, e.g. no. 42 + 46 for validation list, when length of array is set to greater than 3)\n",
    "- Some listing clusters are hotel rooms listed as private rooms (Crawford Suites, Central Hoxton)\n",
    "- Some really big listing clusters are just property management companies with rooms in a variety of locations (Sonder"
   ]
  },
  {
   "cell_type": "code",
   "execution_count": 11,
   "metadata": {},
   "outputs": [
    {
     "name": "stdout",
     "output_type": "stream",
     "text": [
      "5703 listings are suspected ghost hotels.\n"
     ]
    }
   ],
   "source": [
    "print(f'{len(ghost_idx)} listings are suspected ghost hotels.')"
   ]
  },
  {
   "cell_type": "code",
   "execution_count": 13,
   "metadata": {},
   "outputs": [],
   "source": [
    "ghost_listings = df.iloc[ghost_idx, :]"
   ]
  },
  {
   "cell_type": "code",
   "execution_count": 30,
   "metadata": {},
   "outputs": [
    {
     "data": {
      "text/html": [
       "<div>\n",
       "<style scoped>\n",
       "    .dataframe tbody tr th:only-of-type {\n",
       "        vertical-align: middle;\n",
       "    }\n",
       "\n",
       "    .dataframe tbody tr th {\n",
       "        vertical-align: top;\n",
       "    }\n",
       "\n",
       "    .dataframe thead th {\n",
       "        text-align: right;\n",
       "    }\n",
       "</style>\n",
       "<table border=\"1\" class=\"dataframe\">\n",
       "  <thead>\n",
       "    <tr style=\"text-align: right;\">\n",
       "      <th></th>\n",
       "      <th>description</th>\n",
       "      <th>host_id</th>\n",
       "      <th>calculated_host_listings_count</th>\n",
       "    </tr>\n",
       "    <tr>\n",
       "      <th>id</th>\n",
       "      <th></th>\n",
       "      <th></th>\n",
       "      <th></th>\n",
       "    </tr>\n",
       "  </thead>\n",
       "  <tbody>\n",
       "    <tr>\n",
       "      <th>18744353</th>\n",
       "      <td>Thank you for viewing ROSEMONT ROAD &lt;br /&gt;We have a one bedroom ground floor flat as part of a detached family house. The flat has separate entrance and is close to buses and 4 stations; &lt;br /&gt;Acton Town  on Piccadilly and District line, West Acton on Central Line, Acton Central and Acton Main Line (6 minutes into Paddington).&lt;br /&gt;&lt;br /&gt;Morrison supermarket and Acton high street offering variety of restaurants  pubs and bars are within a few minutes walk. Westfields  shopping center is a 10 minute bus ride away.&lt;br /&gt;&lt;br /&gt;&lt;b&gt;The space&lt;/b&gt;&lt;br /&gt;Cozy sitting room with a  fitted kitchen including an electric oven &amp; hob, washing machine, fridge freezer, microwave, toaster and kettle. &lt;br /&gt;Bedroom with en suite shower room.&lt;br /&gt;&lt;br /&gt;&lt;b&gt;Guest access&lt;/b&gt;&lt;br /&gt;The flat has a private entrance and is self contained.&lt;br /&gt;&lt;br /&gt;&lt;b&gt;Other things to note&lt;/b&gt;&lt;br /&gt;Happy to give you a quote for pick up at any airport.</td>\n",
       "      <td>4261235</td>\n",
       "      <td>16</td>\n",
       "    </tr>\n",
       "    <tr>\n",
       "      <th>4364932</th>\n",
       "      <td>Double bed, on second floor &amp; adjacent to good bathroom (shared when student son at home). Wardrobe, drawers, desk, bedside tables with lamps,  House in a friendly and safe residential neighbourhood.&lt;br /&gt;Add £10 per night for couples, singles preferred.&lt;br /&gt;&lt;br /&gt;&lt;b&gt;The space&lt;/b&gt;&lt;br /&gt;This is a nice room and very quiet and private. We also have two more expensive double rooms on the first floor so you can be 6 guests at one time&lt;br /&gt;&lt;br /&gt;&lt;b&gt;Guest access&lt;/b&gt;&lt;br /&gt;Guests can make hot drinks in the kitchen whenever they like and of course have breakfast at whatever time is preferred - we provide tea and coffee (proper coffee machine), orange juice, cereals, milk, fruit, bread and butter (toaster) and all sorts of jams and spreads.&lt;br /&gt;&lt;br /&gt;&lt;b&gt;Other things to note&lt;/b&gt;&lt;br /&gt;The bathroom is shared with our 20 year old son when he is home from University</td>\n",
       "      <td>6856235</td>\n",
       "      <td>3</td>\n",
       "    </tr>\n",
       "    <tr>\n",
       "      <th>14795298</th>\n",
       "      <td>You are welcome to stay in our single room within a guest house - Great Location, only 4 minutes walking distance from Goodge Street Station - Perfect option for couples or solo travelleres who want to share lodgement&lt;br /&gt;&lt;br /&gt;&lt;b&gt;The space&lt;/b&gt;&lt;br /&gt;We will be happy to host you in our Guest House in Fitzrovia. The flat has all you need to enjoy a great stay in central London.  &lt;br /&gt;The room is equipped with a double bed, tv, internet access and a desk. In the common areas, the apartment has a living room, a full equipped kitchen and a bathroom with shower.&lt;br /&gt;&lt;br /&gt;&lt;b&gt;Guest access&lt;/b&gt;&lt;br /&gt;- Guests will have full access to common areas&lt;br /&gt;- Feel at home, but please, treat the apartment as if it was yours&lt;br /&gt;- We give full independence to our guests&lt;br /&gt;&lt;br /&gt;&lt;b&gt;Other things to note&lt;/b&gt;&lt;br /&gt;- Please, read carefully and consider house rules</td>\n",
       "      <td>988379</td>\n",
       "      <td>43</td>\n",
       "    </tr>\n",
       "    <tr>\n",
       "      <th>20248295</th>\n",
       "      <td>Hosted by me, Stephanie, and my brother, James. &lt;br /&gt;&lt;br /&gt;Situated in Grove Park of Chiswick, this beautiful 4 bedroom house is spacious and comfortable. The room is a double size bedroom. &lt;br /&gt;&lt;br /&gt;5 minute walk from Chiswick overground station (20 min train journey to Waterloo)&lt;br /&gt;&lt;br /&gt;Close to Gunnersbury tube station (0.4 miles) and Chiswick Park (District line)&lt;br /&gt;&lt;br /&gt;E3 bus can take you to Turnham Green station in 5 minutes. &lt;br /&gt;&lt;br /&gt;Close to Chiswick Business Park &amp; GSK&lt;br /&gt;&lt;br /&gt;Chiswick House beautiful park close by.</td>\n",
       "      <td>116510596</td>\n",
       "      <td>4</td>\n",
       "    </tr>\n",
       "    <tr>\n",
       "      <th>20076729</th>\n",
       "      <td>\"Welcome to our bright room in Shoreditch! Perfect if you'd like to explore London in the hip and happening Shoreditch! You have some of Londons best restaurants, bars, clubs, markets and shopping destinations right on your doorstep. The apartment is perfect for exploring East\"&lt;br /&gt;&lt;br /&gt;&lt;b&gt;The space&lt;/b&gt;&lt;br /&gt;Room has a spacious and quirky feel to it with fresh colored walls, stylish wooden floors and tonnes of natural light coming through. Space features an ensuite bathroom, a small kitchenette (microwave, toaster, kettle, fridge?). You have access to other facilities in the building such a large communal kitchen, lounge, a washer/dryer and also the amazing communal roof terrace!&lt;br /&gt;&lt;br /&gt;&lt;b&gt;Guest access&lt;/b&gt;&lt;br /&gt;Room is your own. Cleaned professionally with linens, it's prepared for each new visitor. Guests have access to the communal kitchen, lounge and rooftop terrace.&lt;br /&gt;&lt;br /&gt;&lt;b&gt;Other things to note&lt;/b&gt;&lt;br /&gt;No parties, No smoking, No pets, No extra guests The room received</td>\n",
       "      <td>142570782</td>\n",
       "      <td>40</td>\n",
       "    </tr>\n",
       "  </tbody>\n",
       "</table>\n",
       "</div>"
      ],
      "text/plain": [
       "                                                                                                                                                                                                                                                                                                                                                                                                                                                                                                                                                                                                                                                                                                                                                                                                                                                                                                                                                                                                                                       description  \\\n",
       "id                                                                                                                                                                                                                                                                                                                                                                                                                                                                                                                                                                                                                                                                                                                                                                                                                                                                                                                                                                                                                                                   \n",
       "18744353                                                                                  Thank you for viewing ROSEMONT ROAD <br />We have a one bedroom ground floor flat as part of a detached family house. The flat has separate entrance and is close to buses and 4 stations; <br />Acton Town  on Piccadilly and District line, West Acton on Central Line, Acton Central and Acton Main Line (6 minutes into Paddington).<br /><br />Morrison supermarket and Acton high street offering variety of restaurants  pubs and bars are within a few minutes walk. Westfields  shopping center is a 10 minute bus ride away.<br /><br /><b>The space</b><br />Cozy sitting room with a  fitted kitchen including an electric oven & hob, washing machine, fridge freezer, microwave, toaster and kettle. <br />Bedroom with en suite shower room.<br /><br /><b>Guest access</b><br />The flat has a private entrance and is self contained.<br /><br /><b>Other things to note</b><br />Happy to give you a quote for pick up at any airport.   \n",
       "4364932                                                                                                                                          Double bed, on second floor & adjacent to good bathroom (shared when student son at home). Wardrobe, drawers, desk, bedside tables with lamps,  House in a friendly and safe residential neighbourhood.<br />Add £10 per night for couples, singles preferred.<br /><br /><b>The space</b><br />This is a nice room and very quiet and private. We also have two more expensive double rooms on the first floor so you can be 6 guests at one time<br /><br /><b>Guest access</b><br />Guests can make hot drinks in the kitchen whenever they like and of course have breakfast at whatever time is preferred - we provide tea and coffee (proper coffee machine), orange juice, cereals, milk, fruit, bread and butter (toaster) and all sorts of jams and spreads.<br /><br /><b>Other things to note</b><br />The bathroom is shared with our 20 year old son when he is home from University   \n",
       "14795298                                                                                                                                              You are welcome to stay in our single room within a guest house - Great Location, only 4 minutes walking distance from Goodge Street Station - Perfect option for couples or solo travelleres who want to share lodgement<br /><br /><b>The space</b><br />We will be happy to host you in our Guest House in Fitzrovia. The flat has all you need to enjoy a great stay in central London.  <br />The room is equipped with a double bed, tv, internet access and a desk. In the common areas, the apartment has a living room, a full equipped kitchen and a bathroom with shower.<br /><br /><b>Guest access</b><br />- Guests will have full access to common areas<br />- Feel at home, but please, treat the apartment as if it was yours<br />- We give full independence to our guests<br /><br /><b>Other things to note</b><br />- Please, read carefully and consider house rules   \n",
       "20248295                                                                                                                                                                                                                                                                                                                                                                                                                                                                        Hosted by me, Stephanie, and my brother, James. <br /><br />Situated in Grove Park of Chiswick, this beautiful 4 bedroom house is spacious and comfortable. The room is a double size bedroom. <br /><br />5 minute walk from Chiswick overground station (20 min train journey to Waterloo)<br /><br />Close to Gunnersbury tube station (0.4 miles) and Chiswick Park (District line)<br /><br />E3 bus can take you to Turnham Green station in 5 minutes. <br /><br />Close to Chiswick Business Park & GSK<br /><br />Chiswick House beautiful park close by.   \n",
       "20076729  \"Welcome to our bright room in Shoreditch! Perfect if you'd like to explore London in the hip and happening Shoreditch! You have some of Londons best restaurants, bars, clubs, markets and shopping destinations right on your doorstep. The apartment is perfect for exploring East\"<br /><br /><b>The space</b><br />Room has a spacious and quirky feel to it with fresh colored walls, stylish wooden floors and tonnes of natural light coming through. Space features an ensuite bathroom, a small kitchenette (microwave, toaster, kettle, fridge?). You have access to other facilities in the building such a large communal kitchen, lounge, a washer/dryer and also the amazing communal roof terrace!<br /><br /><b>Guest access</b><br />Room is your own. Cleaned professionally with linens, it's prepared for each new visitor. Guests have access to the communal kitchen, lounge and rooftop terrace.<br /><br /><b>Other things to note</b><br />No parties, No smoking, No pets, No extra guests The room received    \n",
       "\n",
       "            host_id  calculated_host_listings_count  \n",
       "id                                                   \n",
       "18744353    4261235                              16  \n",
       "4364932     6856235                               3  \n",
       "14795298     988379                              43  \n",
       "20248295  116510596                               4  \n",
       "20076729  142570782                              40  "
      ]
     },
     "execution_count": 30,
     "metadata": {},
     "output_type": "execute_result"
    }
   ],
   "source": [
    "pd.set_option('display.max_colwidth', None)\n",
    "ghost_listings.sample(5)[['description', 'host_id', 'calculated_host_listings_count']]"
   ]
  },
  {
   "cell_type": "code",
   "execution_count": 15,
   "metadata": {},
   "outputs": [
    {
     "data": {
      "text/plain": [
       "224"
      ]
     },
     "execution_count": 15,
     "metadata": {},
     "output_type": "execute_result"
    }
   ],
   "source": [
    "ghost_listings[\n",
    "    ghost_listings['host_id'] == 33889201\n",
    "].shape[0]"
   ]
  },
  {
   "cell_type": "markdown",
   "metadata": {},
   "source": [
    "#### Previous approaches"
   ]
  },
  {
   "cell_type": "code",
   "execution_count": null,
   "metadata": {},
   "outputs": [],
   "source": [
    "cosine_distances = pd.DataFrame(squareform(pdist(tcorpus, metric='cosine')), index=keys, columns=keys)"
   ]
  },
  {
   "cell_type": "code",
   "execution_count": null,
   "metadata": {},
   "outputs": [],
   "source": [
    "cosine_distances.head(5)"
   ]
  },
  {
   "cell_type": "markdown",
   "metadata": {},
   "source": [
    "#### Identifying listings that have multiple low cosine distances"
   ]
  },
  {
   "cell_type": "markdown",
   "metadata": {},
   "source": [
    "My initial approach was to try to identify likely ghost hotels, but given that listings can appear in multiple clusters of varying lengths, it would be simpler to just identify _listings_ that are likely to be in ghost hotels"
   ]
  },
  {
   "cell_type": "code",
   "execution_count": null,
   "metadata": {},
   "outputs": [],
   "source": [
    "ghost_listings = cosine_distances[(cosine_distances < 0.2).sum(1) > 2].apply(lambda row: row[row < 0.2].index.tolist(), 1).tolist()"
   ]
  },
  {
   "cell_type": "code",
   "execution_count": 30,
   "metadata": {},
   "outputs": [
    {
     "name": "stdout",
     "output_type": "stream",
     "text": [
      "(array([ 6488,  6491,  6747,  6749,  6843,  6844,  6846,  6880,  6881,\n",
      "        6943,  6944,  6980,  7040,  7041,  7210,  7212,  7236,  7237,\n",
      "        7238,  7239,  7241,  7263,  7354,  7974,  8009,  8171,  8257,\n",
      "        8487,  8488,  8741,  8742,  8776,  8779,  9510,  9511,  9512,\n",
      "        9543,  9555,  9672,  9673,  9677,  9678,  9679, 11026, 11036,\n",
      "       11037, 11038, 11039, 11044, 11051, 11052, 11053, 11054, 11055,\n",
      "       11056, 11057, 11058, 11059, 11060, 11062, 11063, 11064, 11065,\n",
      "       11066, 11067, 11068, 11069, 11456, 11457, 11460, 11462, 11561,\n",
      "       11562, 11563, 11564, 11565, 11566, 11575, 11771, 11960, 11961,\n",
      "       12135, 12144, 12166, 12167, 12168, 12171, 12212, 12213, 12241,\n",
      "       12243, 12256, 12260, 12273, 12277, 12299, 12300, 12301, 12302,\n",
      "       12303, 12304, 12305, 12319, 12320, 12321, 12322, 12324, 12325,\n",
      "       12326, 12327, 12414, 12435, 12436, 12437, 12438, 12439, 12498,\n",
      "       13450, 14496, 15177, 15178, 15179, 15180, 15181, 15182, 15299,\n",
      "       15324, 15325, 15326, 15327, 15329, 15433, 15434, 15435, 15437,\n",
      "       15438, 15439, 15470, 15474, 15475, 15788, 15789, 15790, 15791,\n",
      "       15792, 15793, 16303, 16751, 17660, 18076, 18077, 18078, 18109,\n",
      "       18110, 18111, 18112, 18113, 18214, 18215]), 159)\n"
     ]
    }
   ],
   "source": [
    "def FindMaxLength(lst): \n",
    "    maxList = max(lst, key = len) \n",
    "    maxLength = max(map(len, lst)) \n",
    "      \n",
    "    return maxList, maxLength\n",
    "  \n",
    "print(FindMaxLength(validation)) "
   ]
  },
  {
   "cell_type": "code",
   "execution_count": null,
   "metadata": {},
   "outputs": [],
   "source": [
    "counts = [len(h) for h in ghost_hotels]\n",
    "sorted(counts, reverse=True)[:5]"
   ]
  },
  {
   "cell_type": "code",
   "execution_count": null,
   "metadata": {},
   "outputs": [],
   "source": [
    "ghost_listings[counts.index(60)]"
   ]
  },
  {
   "cell_type": "code",
   "execution_count": null,
   "metadata": {},
   "outputs": [],
   "source": [
    "ghost_hotels = set()\n",
    "for i in ghost_listings:\n",
    "    ghost_hotels.add(frozenset(i)) \n",
    "#the frozensets show that clusters of listings in different areas by the same host can have high cosine similarity\n",
    "#need to find a better threshold\n",
    "#but there are some ghost hotels that have cosine distances just under 0.2\n",
    "#maybe draw buffers around each listing and "
   ]
  },
  {
   "cell_type": "code",
   "execution_count": null,
   "metadata": {},
   "outputs": [],
   "source": [
    "len(ghost_hotels)"
   ]
  },
  {
   "cell_type": "markdown",
   "metadata": {},
   "source": [
    "#### Different approach - creating a set of individual listings likely to be part of ghost hotels"
   ]
  },
  {
   "cell_type": "code",
   "execution_count": null,
   "metadata": {},
   "outputs": [],
   "source": [
    "ghost_listings2 = cosine_distances[(cosine_distances < 0.2).sum(1) > 2].index.tolist()"
   ]
  },
  {
   "cell_type": "code",
   "execution_count": null,
   "metadata": {},
   "outputs": [],
   "source": [
    "df.loc[cosine_distances[cosine_distances[40187901] < 0.2].index, ['description', 'host_id']] #it's picking up on ghost hotels with multiple associated accounts!"
   ]
  },
  {
   "cell_type": "code",
   "execution_count": null,
   "metadata": {},
   "outputs": [],
   "source": []
  },
  {
   "cell_type": "code",
   "execution_count": null,
   "metadata": {},
   "outputs": [],
   "source": []
  }
 ],
 "metadata": {
  "kernelspec": {
   "display_name": "Python 3",
   "language": "python",
   "name": "python3"
  },
  "language_info": {
   "codemirror_mode": {
    "name": "ipython",
    "version": 3
   },
   "file_extension": ".py",
   "mimetype": "text/x-python",
   "name": "python",
   "nbconvert_exporter": "python",
   "pygments_lexer": "ipython3",
   "version": "3.7.8"
  }
 },
 "nbformat": 4,
 "nbformat_minor": 4
}
