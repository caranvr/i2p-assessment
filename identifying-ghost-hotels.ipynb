{
 "cells": [
  {
   "cell_type": "markdown",
   "metadata": {},
   "source": [
    "# Reproducible Analysis"
   ]
  },
  {
   "cell_type": "code",
   "execution_count": 1,
   "metadata": {},
   "outputs": [],
   "source": [
    "import os\n",
    "import numpy as np\n",
    "import pandas as pd\n",
    "import geopandas as gpd\n",
    "import matplotlib.cm as cm\n",
    "import matplotlib.pyplot as plt\n",
    "import re\n",
    "\n",
    "from sklearn.feature_extraction.text import TfidfVectorizer\n",
    "from scipy.spatial.distance import pdist, squareform\n",
    "from sklearn.metrics import pairwise_distances_chunked\n",
    "from itertools import chain"
   ]
  },
  {
   "cell_type": "markdown",
   "metadata": {},
   "source": [
    "## Identifying ghost hotels"
   ]
  },
  {
   "cell_type": "markdown",
   "metadata": {},
   "source": [
    "### Loading and cleaning data"
   ]
  },
  {
   "cell_type": "code",
   "execution_count": 2,
   "metadata": {},
   "outputs": [],
   "source": [
    "norm_df = pd.read_csv('https://github.com/jreades/i2p/blob/master/data/clean/2020-08-24-listings-with-nlp-subset.csv.gz?raw=true',\n",
    "                compression='gzip', dtype={'id':np.float64, 'listing_url':str, 'name':str, 'description':str, 'description_norm':str})\n",
    "ref_df = pd.read_csv('https://github.com/jreades/i2p/blob/master/data/src/2020-08-24-listings.csv.gz?raw=true',\n",
    "                    compression='gzip', usecols=['id', 'room_type', 'calculated_host_listings_count', 'host_id', 'host_name', 'availability_365'],\n",
    "                    dtype={'id':np.float64, 'room_type':str, 'calculated_host_listings_count':np.float64, 'host_id':np.float64, 'host_name':str, 'availability_365':np.float64})"
   ]
  },
  {
   "cell_type": "markdown",
   "metadata": {},
   "source": [
    "#### Joining df with normalised description to df with room type, then dropping hotel rooms, serviced apartments, and null normalised descriptions"
   ]
  },
  {
   "cell_type": "code",
   "execution_count": 3,
   "metadata": {},
   "outputs": [
    {
     "name": "stdout",
     "output_type": "stream",
     "text": [
      "Converting id\n",
      "Converting host_id\n",
      "Converting calculated_host_listings_count\n",
      "Converting availability_365\n"
     ]
    }
   ],
   "source": [
    "df = pd.merge(norm_df, ref_df, on='id') #default is inner so we leave it\n",
    "df.drop(df[(df.room_type == 'Hotel room') |\n",
    "           (df.id.isna()) |\n",
    "           (df.calculated_host_listings_count.isna()) |\n",
    "           (df.description.isna()) |\n",
    "           (df.description_norm.isna())].index, inplace=True)\n",
    "\n",
    "ints = ['id', 'host_id', 'calculated_host_listings_count', 'availability_365']\n",
    "for i in ints:\n",
    "    print(f\"Converting {i}\")\n",
    "    try:\n",
    "        df[i] = df[i].astype('int')\n",
    "    except ValueError as e:\n",
    "        print(\"\\tConverting to unsigned 16-bit integer.\")\n",
    "        df[i] = df[i].astype(pd.UInt16Dtype())\n",
    "\n",
    "df.drop(df[df['calculated_host_listings_count'] <= 2].index, inplace=True)\n",
    "df.set_index('id', inplace=True)"
   ]
  },
  {
   "cell_type": "code",
   "execution_count": 4,
   "metadata": {},
   "outputs": [
    {
     "data": {
      "text/plain": [
       "22256"
      ]
     },
     "execution_count": 4,
     "metadata": {},
     "output_type": "execute_result"
    }
   ],
   "source": [
    "df.shape[0]"
   ]
  },
  {
   "cell_type": "markdown",
   "metadata": {},
   "source": [
    "#### To filter or not to filter serviced apartments?"
   ]
  },
  {
   "cell_type": "markdown",
   "metadata": {},
   "source": [
    "Serviced apartments are an established type of tourist accommodation with similar characteristics to ghost hotels: their units are typically located in the same building, and units listed on Airbnb would likely have similar descriptions. However, established serviced apartments may have planning permission to operate as such, unlike ghost hotels. \n",
    "\n",
    "I experimented with filtering out listings that are likely to be legitimate serviced apartments before proceeding with text similarity analysis, but ultimately decided against it for the following reasons:\n",
    "1. Listings described as 'serviced apartments' or 'serviced accommodation' account for a small percentage of commercially-run Airbnb listings.\n",
    "2. Listings in buildings classed as 'residential' are still sometimes described as serviced apartments for marketing purposes, and there is no way to distinguish between these listings and legitimate serviced apartment listings."
   ]
  },
  {
   "cell_type": "code",
   "execution_count": 43,
   "metadata": {},
   "outputs": [
    {
     "name": "stdout",
     "output_type": "stream",
     "text": [
      "1.46% of commercially-run Airbnb listings are described as serviced apartments.\n"
     ]
    }
   ],
   "source": [
    "serviced = df[df.description.str.contains(r'(?:serviced (?:apartments?|accommodation)+)', regex=True, flags=re.IGNORECASE)][['description', 'name', 'calculated_host_listings_count', 'availability_365']]\n",
    "print(f'{(serviced.shape[0]/df.shape[0])*100:.2f}% of commercially-run Airbnb listings are described as serviced apartments.')"
   ]
  },
  {
   "cell_type": "markdown",
   "metadata": {},
   "source": [
    "### Text similarity"
   ]
  },
  {
   "cell_type": "code",
   "execution_count": 5,
   "metadata": {},
   "outputs": [],
   "source": [
    "corpus = df.description_norm.values"
   ]
  },
  {
   "cell_type": "markdown",
   "metadata": {},
   "source": [
    "#### Creating TF/IDF vectorizer"
   ]
  },
  {
   "cell_type": "code",
   "execution_count": 6,
   "metadata": {},
   "outputs": [],
   "source": [
    "vectorizer = TfidfVectorizer(use_idf=True, ngram_range=(1,2), max_df=0.5, min_df=0.05)\n",
    "#ignore terms that appear in over 50% or less than 5% of documents\n",
    "tcorpus = vectorizer.fit_transform(corpus).toarray() \n",
    "#fit creates list of words/ngrams + IDF scores\n",
    "#transform creates matrix of TF/IDF scores per word/ngram\n",
    "#convert to array for cosine similarity step"
   ]
  },
  {
   "cell_type": "markdown",
   "metadata": {},
   "source": [
    "#### Creating cosine distance matrix"
   ]
  },
  {
   "cell_type": "code",
   "execution_count": 13,
   "metadata": {},
   "outputs": [],
   "source": [
    "def reduce_func(D_chunk, start):\n",
    "    neigh = [np.flatnonzero(d < 0.15) for d in D_chunk] #index positions of listings with a cosine distance less than 0.2\n",
    "    return neigh\n",
    "\n",
    "ghost_idx = [] #set up list of indices to use for slicing original df\n",
    "for chunk in pairwise_distances_chunked(tcorpus, metric='cosine', reduce_func=reduce_func): #each chunk is a list of arrays\n",
    "    ghost_idx.append([idx for idx, d in enumerate(chunk) if d.shape[0] >= 3])\n",
    "            \n",
    "    #if the length of an array (d.shape[0]) is greater than or equal to 3,\n",
    "    #the listing it corresponds to has low cosine distances from three or more listings,\n",
    "    #indicating a likely ghost hotel"
   ]
  },
  {
   "cell_type": "code",
   "execution_count": 14,
   "metadata": {},
   "outputs": [],
   "source": [
    "ghost_idx_flat = list(chain.from_iterable(ghost_idx)) #flatten ghost_idx, because right now there is a nested list for each chunk"
   ]
  },
  {
   "cell_type": "code",
   "execution_count": 15,
   "metadata": {},
   "outputs": [
    {
     "name": "stdout",
     "output_type": "stream",
     "text": [
      "7682 listings are suspected ghost hotels.\n"
     ]
    }
   ],
   "source": [
    "print(f'{len(ghost_idx_flat)} listings are suspected ghost hotels.')"
   ]
  },
  {
   "cell_type": "code",
   "execution_count": 16,
   "metadata": {},
   "outputs": [],
   "source": [
    "ghost_listings = df.iloc[ghost_idx_flat, :]"
   ]
  },
  {
   "cell_type": "code",
   "execution_count": 27,
   "metadata": {},
   "outputs": [
    {
     "data": {
      "text/html": [
       "<div>\n",
       "<style scoped>\n",
       "    .dataframe tbody tr th:only-of-type {\n",
       "        vertical-align: middle;\n",
       "    }\n",
       "\n",
       "    .dataframe tbody tr th {\n",
       "        vertical-align: top;\n",
       "    }\n",
       "\n",
       "    .dataframe thead th {\n",
       "        text-align: right;\n",
       "    }\n",
       "</style>\n",
       "<table border=\"1\" class=\"dataframe\">\n",
       "  <thead>\n",
       "    <tr style=\"text-align: right;\">\n",
       "      <th></th>\n",
       "      <th>description</th>\n",
       "      <th>host_id</th>\n",
       "      <th>calculated_host_listings_count</th>\n",
       "    </tr>\n",
       "    <tr>\n",
       "      <th>id</th>\n",
       "      <th></th>\n",
       "      <th></th>\n",
       "      <th></th>\n",
       "    </tr>\n",
       "  </thead>\n",
       "  <tbody>\n",
       "    <tr>\n",
       "      <th>5946100</th>\n",
       "      <td>Newly refurbished flat, on 2nd and 3rd floors of elegant Edwardian building with views of woodlands in an up-market part of London. 3 mins walk from Highgate station.&lt;br /&gt;&lt;br /&gt;&lt;b&gt;The space&lt;/b&gt;&lt;br /&gt;Quiet residential flat with parking, 3 minutes' walk from Highgate tube station on the Northern Line, 20 minutes from central London.&lt;br /&gt;&lt;br /&gt;&lt;b&gt;Guest access&lt;/b&gt;&lt;br /&gt;The whole flat, two bedrooms and one sitting/dinning room.&lt;br /&gt;&lt;br /&gt;&lt;b&gt;Other things to note&lt;/b&gt;&lt;br /&gt;There are two flights of stairs and the rooms are on different levels</td>\n",
       "      <td>30868653</td>\n",
       "      <td>3</td>\n",
       "    </tr>\n",
       "    <tr>\n",
       "      <th>8000622</th>\n",
       "      <td>Quiet private double bedroom in a very nice flatshare in the heart of Shoreditch. Topfloor flat with modern fitted kitchen open on the balcony. So much light! Nice shared bathroom and separated toilet.Sharing with busy permanent young professionals</td>\n",
       "      <td>1591664</td>\n",
       "      <td>21</td>\n",
       "    </tr>\n",
       "    <tr>\n",
       "      <th>15996748</th>\n",
       "      <td>The property is on North End Road,1 minute walk from West Kensington station.Central London is easy accessible. Big Ben,London Eye,Buckingham Palace etc all within 15 minutes by train. The property is close to all the local amenities and supermarkets. You will find great many cafes, shops ,bars and restaurant all within few steps .The property is  cleaned daily and kept tidy.Great base for solo travellers and couples for visiting the city centre.Enjoy the convenience by staying close to City&lt;br /&gt;&lt;br /&gt;&lt;b&gt;The space&lt;/b&gt;&lt;br /&gt;The private room is in the same flat as my other listing \"Private Your Second Home in London\". The flat has 3 rooms , 2 of which are listed on Airbnb. The third single room has a long term occupant ( professional lady ). The apartment bathroom and kitchen will be shared with the guest from the room and the lady. It will always be cleaned daily and kept tidy. We give free WiFi to all our guests. Fresh towels and linens provided&lt;br /&gt;&lt;br /&gt;&lt;b&gt;Guest access&lt;/b&gt;&lt;br /&gt;Gue</td>\n",
       "      <td>92601704</td>\n",
       "      <td>17</td>\n",
       "    </tr>\n",
       "    <tr>\n",
       "      <th>13250149</th>\n",
       "      <td>Cosy double bedroom located in the Eastend. Five minutes away from central line and hammersmith and city line. Located close to many parks and 24hr bus services and Queen Mary univeristy. Includes self catered breakfast. I also provide private long term stay to avoid any extra fees! feel free to contact me.&lt;br /&gt;&lt;br /&gt;&lt;b&gt;The space&lt;/b&gt;&lt;br /&gt;Breakfast included in price.&lt;br /&gt;&lt;br /&gt;&lt;b&gt;Guest access&lt;/b&gt;&lt;br /&gt;Shared bathroom, two toilets, shared kitchen</td>\n",
       "      <td>74356612</td>\n",
       "      <td>10</td>\n",
       "    </tr>\n",
       "    <tr>\n",
       "      <th>18408491</th>\n",
       "      <td>Traditional terrace house with architectural extension, located on a residential street away from the noise and traffic. 15 mins walk to the tube with easy links to Liverpool Street and the West End. The house is very light with generously sized rooms, period fire places wooden floor boards and architectural features. Close to The Olympic Park and Westfield shopping with lovely walks along the River Lea, Hackney Marshes, and Chatsworth Road market on a Sunday.&lt;br /&gt;&lt;br /&gt;&lt;b&gt;The space&lt;/b&gt;&lt;br /&gt;Clean, tidy with lots of character and nature around.&lt;br /&gt;The large bedroom you will be staying in has a double bed and original features. The room overlooks the beautiful south west facing garden. It is light and sunny in the day time and fills with a golden glow when the sun sets. Other features include, wooden floor boards, fire place and wooden double glazed sash window with blinds. The bathroom has a separate shower and a bath with brand new contemporary fittings. The architectural kitchen i</td>\n",
       "      <td>43775018</td>\n",
       "      <td>5</td>\n",
       "    </tr>\n",
       "  </tbody>\n",
       "</table>\n",
       "</div>"
      ],
      "text/plain": [
       "                                                                                                                                                                                                                                                                                                                                                                                                                                                                                                                                                                                                                                                                                                                                                                                                                                                                                                                                                                                                                                       description  \\\n",
       "id                                                                                                                                                                                                                                                                                                                                                                                                                                                                                                                                                                                                                                                                                                                                                                                                                                                                                                                                                                                                                                                   \n",
       "5946100                                                                                                                                                                                                                                                                                                                                                                                                                                                                             Newly refurbished flat, on 2nd and 3rd floors of elegant Edwardian building with views of woodlands in an up-market part of London. 3 mins walk from Highgate station.<br /><br /><b>The space</b><br />Quiet residential flat with parking, 3 minutes' walk from Highgate tube station on the Northern Line, 20 minutes from central London.<br /><br /><b>Guest access</b><br />The whole flat, two bedrooms and one sitting/dinning room.<br /><br /><b>Other things to note</b><br />There are two flights of stairs and the rooms are on different levels   \n",
       "8000622                                                                                                                                                                                                                                                                                                                                                                                                                                                                                                                                                                                                                                                                                                                                                                                   Quiet private double bedroom in a very nice flatshare in the heart of Shoreditch. Topfloor flat with modern fitted kitchen open on the balcony. So much light! Nice shared bathroom and separated toilet.Sharing with busy permanent young professionals   \n",
       "15996748  The property is on North End Road,1 minute walk from West Kensington station.Central London is easy accessible. Big Ben,London Eye,Buckingham Palace etc all within 15 minutes by train. The property is close to all the local amenities and supermarkets. You will find great many cafes, shops ,bars and restaurant all within few steps .The property is  cleaned daily and kept tidy.Great base for solo travellers and couples for visiting the city centre.Enjoy the convenience by staying close to City<br /><br /><b>The space</b><br />The private room is in the same flat as my other listing \"Private Your Second Home in London\". The flat has 3 rooms , 2 of which are listed on Airbnb. The third single room has a long term occupant ( professional lady ). The apartment bathroom and kitchen will be shared with the guest from the room and the lady. It will always be cleaned daily and kept tidy. We give free WiFi to all our guests. Fresh towels and linens provided<br /><br /><b>Guest access</b><br />Gue   \n",
       "13250149                                                                                                                                                                                                                                                                                                                                                                                                                                                                                                                                                                       Cosy double bedroom located in the Eastend. Five minutes away from central line and hammersmith and city line. Located close to many parks and 24hr bus services and Queen Mary univeristy. Includes self catered breakfast. I also provide private long term stay to avoid any extra fees! feel free to contact me.<br /><br /><b>The space</b><br />Breakfast included in price.<br /><br /><b>Guest access</b><br />Shared bathroom, two toilets, shared kitchen   \n",
       "18408491  Traditional terrace house with architectural extension, located on a residential street away from the noise and traffic. 15 mins walk to the tube with easy links to Liverpool Street and the West End. The house is very light with generously sized rooms, period fire places wooden floor boards and architectural features. Close to The Olympic Park and Westfield shopping with lovely walks along the River Lea, Hackney Marshes, and Chatsworth Road market on a Sunday.<br /><br /><b>The space</b><br />Clean, tidy with lots of character and nature around.<br />The large bedroom you will be staying in has a double bed and original features. The room overlooks the beautiful south west facing garden. It is light and sunny in the day time and fills with a golden glow when the sun sets. Other features include, wooden floor boards, fire place and wooden double glazed sash window with blinds. The bathroom has a separate shower and a bath with brand new contemporary fittings. The architectural kitchen i   \n",
       "\n",
       "           host_id  calculated_host_listings_count  \n",
       "id                                                  \n",
       "5946100   30868653                               3  \n",
       "8000622    1591664                              21  \n",
       "15996748  92601704                              17  \n",
       "13250149  74356612                              10  \n",
       "18408491  43775018                               5  "
      ]
     },
     "execution_count": 27,
     "metadata": {},
     "output_type": "execute_result"
    }
   ],
   "source": [
    "pd.set_option('display.max_colwidth', None)\n",
    "ghost_listings.sample(5)[['description', 'host_id', 'calculated_host_listings_count']]"
   ]
  },
  {
   "cell_type": "code",
   "execution_count": 25,
   "metadata": {},
   "outputs": [
    {
     "data": {
      "text/plain": [
       "297"
      ]
     },
     "execution_count": 25,
     "metadata": {},
     "output_type": "execute_result"
    }
   ],
   "source": [
    "ghost_listings[\n",
    "    ghost_listings['host_id'] == 33889201\n",
    "].shape[0]"
   ]
  },
  {
   "cell_type": "markdown",
   "metadata": {},
   "source": [
    "#### Previous approaches"
   ]
  },
  {
   "cell_type": "code",
   "execution_count": null,
   "metadata": {},
   "outputs": [],
   "source": [
    "cosine_distances = pd.DataFrame(squareform(pdist(tcorpus, metric='cosine')), index=keys, columns=keys)"
   ]
  },
  {
   "cell_type": "code",
   "execution_count": null,
   "metadata": {},
   "outputs": [],
   "source": [
    "cosine_distances.head(5)"
   ]
  },
  {
   "cell_type": "markdown",
   "metadata": {},
   "source": [
    "#### Identifying listings that have multiple low cosine distances"
   ]
  },
  {
   "cell_type": "markdown",
   "metadata": {},
   "source": [
    "My initial approach was to try to identify likely ghost hotels, but given that listings can appear in multiple clusters of varying lengths, it would be simpler to just identify _listings_ that are likely to be in ghost hotels"
   ]
  },
  {
   "cell_type": "code",
   "execution_count": null,
   "metadata": {},
   "outputs": [],
   "source": [
    "ghost_listings = cosine_distances[(cosine_distances < 0.2).sum(1) > 2].apply(lambda row: row[row < 0.2].index.tolist(), 1).tolist()"
   ]
  },
  {
   "cell_type": "code",
   "execution_count": null,
   "metadata": {},
   "outputs": [],
   "source": [
    "def FindMaxLength(lst): \n",
    "    maxList = max(lst, key = len) \n",
    "    maxLength = max(map(len, lst)) \n",
    "      \n",
    "    return maxList, maxLength\n",
    "  \n",
    "print(FindMaxLength(ghost_hotels)) "
   ]
  },
  {
   "cell_type": "code",
   "execution_count": null,
   "metadata": {},
   "outputs": [],
   "source": [
    "counts = [len(h) for h in ghost_hotels]\n",
    "sorted(counts, reverse=True)[:5]"
   ]
  },
  {
   "cell_type": "code",
   "execution_count": null,
   "metadata": {},
   "outputs": [],
   "source": [
    "ghost_listings[counts.index(60)]"
   ]
  },
  {
   "cell_type": "code",
   "execution_count": null,
   "metadata": {},
   "outputs": [],
   "source": [
    "ghost_hotels = set()\n",
    "for i in ghost_listings:\n",
    "    ghost_hotels.add(frozenset(i)) \n",
    "#the frozensets show that clusters of listings in different areas by the same host can have high cosine similarity\n",
    "#need to find a better threshold\n",
    "#but there are some ghost hotels that have cosine distances just under 0.2\n",
    "#maybe draw buffers around each listing and "
   ]
  },
  {
   "cell_type": "code",
   "execution_count": null,
   "metadata": {},
   "outputs": [],
   "source": [
    "len(ghost_hotels)"
   ]
  },
  {
   "cell_type": "markdown",
   "metadata": {},
   "source": [
    "#### Different approach - creating a set of individual listings likely to be part of ghost hotels"
   ]
  },
  {
   "cell_type": "code",
   "execution_count": null,
   "metadata": {},
   "outputs": [],
   "source": [
    "ghost_listings2 = cosine_distances[(cosine_distances < 0.2).sum(1) > 2].index.tolist()"
   ]
  },
  {
   "cell_type": "code",
   "execution_count": null,
   "metadata": {},
   "outputs": [],
   "source": [
    "df.loc[cosine_distances[cosine_distances[40187901] < 0.2].index, ['description', 'host_id']] #it's picking up on ghost hotels with multiple associated accounts!"
   ]
  },
  {
   "cell_type": "code",
   "execution_count": null,
   "metadata": {},
   "outputs": [],
   "source": []
  },
  {
   "cell_type": "code",
   "execution_count": null,
   "metadata": {},
   "outputs": [],
   "source": []
  }
 ],
 "metadata": {
  "kernelspec": {
   "display_name": "Python 3",
   "language": "python",
   "name": "python3"
  },
  "language_info": {
   "codemirror_mode": {
    "name": "ipython",
    "version": 3
   },
   "file_extension": ".py",
   "mimetype": "text/x-python",
   "name": "python",
   "nbconvert_exporter": "python",
   "pygments_lexer": "ipython3",
   "version": "3.7.8"
  }
 },
 "nbformat": 4,
 "nbformat_minor": 4
}
