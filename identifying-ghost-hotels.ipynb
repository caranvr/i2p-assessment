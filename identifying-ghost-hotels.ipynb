{
 "cells": [
  {
   "cell_type": "markdown",
   "metadata": {},
   "source": [
    "# Reproducible Analysis"
   ]
  },
  {
   "cell_type": "code",
   "execution_count": null,
   "metadata": {},
   "outputs": [],
   "source": [
    "import os\n",
    "import numpy as np\n",
    "import pandas as pd\n",
    "import geopandas as gpd\n",
    "import matplotlib.cm as cm\n",
    "import matplotlib.pyplot as plt\n",
    "import re\n",
    "from pysal.lib import weights\n",
    "\n",
    "from sklearn.feature_extraction.text import TfidfVectorizer\n",
    "from scipy.spatial.distance import pdist, squareform\n",
    "from sklearn.metrics import pairwise_distances_chunked\n",
    "from itertools import chain"
   ]
  },
  {
   "cell_type": "markdown",
   "metadata": {},
   "source": [
    "## Identifying ghost hotels"
   ]
  },
  {
   "cell_type": "markdown",
   "metadata": {},
   "source": [
    "### Loading and cleaning data"
   ]
  },
  {
   "cell_type": "code",
   "execution_count": null,
   "metadata": {},
   "outputs": [],
   "source": [
    "norm_df = pd.read_csv('https://github.com/jreades/i2p/blob/master/data/clean/2020-08-24-listings-with-nlp-subset.csv.gz?raw=true',\n",
    "                compression='gzip', dtype={'id':np.float64, 'listing_url':str, 'name':str, 'description':str, 'description_norm':str})\n",
    "ref_df = pd.read_csv('https://github.com/jreades/i2p/blob/master/data/src/2020-08-24-listings.csv.gz?raw=true',\n",
    "                    compression='gzip', usecols=['id', 'room_type', 'calculated_host_listings_count', 'calculated_host_listings_count_private_rooms', 'host_id', 'host_name', 'availability_365', 'latitude', 'longitude', 'price', 'number_of_reviews_ltm'],\n",
    "                    dtype={'id':np.float64,\n",
    "                           'room_type':str, \n",
    "                           'calculated_host_listings_count':np.float64,\n",
    "                           'calculated_host_listings_count_private_rooms':np.float64,\n",
    "                           'host_id':np.float64, \n",
    "                           'host_name':str, \n",
    "                           'availability_365':np.float64,\n",
    "                           'latitude':np.float64,\n",
    "                          'longitude':np.float64,\n",
    "                          'price':str,\n",
    "                          'number_of_reviews_ltm':np.float64})"
   ]
  },
  {
   "cell_type": "markdown",
   "metadata": {},
   "source": [
    "#### Joining df with normalised description to df with room type, then dropping hotel rooms, serviced apartments, and null normalised descriptions"
   ]
  },
  {
   "cell_type": "code",
   "execution_count": null,
   "metadata": {},
   "outputs": [],
   "source": [
    "df = pd.merge(norm_df, ref_df, on='id') #default is inner so we leave it\n",
    "df.drop(df[(df.room_type == 'Hotel room') |\n",
    "           (df.id.isna()) |\n",
    "           (df.calculated_host_listings_count.isna()) |\n",
    "           (df.latitude.isna())].index, inplace=True)\n",
    "\n",
    "#Converting columns\n",
    "df['price'] = df['price'].str.replace('$','').str.replace(',','').astype('float')\n",
    "ints = ['id', 'host_id', 'calculated_host_listings_count', 'calculated_host_listings_count_private_rooms', 'availability_365', 'number_of_reviews_ltm']\n",
    "for i in ints:\n",
    "    print(f\"Converting {i}\")\n",
    "    try:\n",
    "        df[i] = df[i].astype('int')\n",
    "    except ValueError as e:\n",
    "        print(\"\\tConverting to unsigned 16-bit integer.\")\n",
    "        df[i] = df[i].astype(pd.UInt16Dtype())\n",
    "\n",
    "#Setting custom index\n",
    "df.set_index('id', inplace=True)\n",
    "\n",
    "#Dropping non-revenue generating listings\n",
    "df.drop(df[df['number_of_reviews_ltm'] < 1].index, inplace=True)\n",
    "\n",
    "private_rooms = df[(df['calculated_host_listings_count_private_rooms'] >= 3) &\n",
    "                   (df['room_type'] == 'Private room') &\n",
    "                   (~df['description_norm'].isna())].copy()"
   ]
  },
  {
   "cell_type": "code",
   "execution_count": null,
   "metadata": {},
   "outputs": [],
   "source": [
    "print(f'There are {private_rooms.shape[0]} candidates for ghost listings, which make up {(private_rooms.shape[0]/df.shape[0])*100:.2f}% of revenue-generating listings in London.')"
   ]
  },
  {
   "cell_type": "code",
   "execution_count": null,
   "metadata": {},
   "outputs": [],
   "source": [
    "private_rooms.head(5)"
   ]
  },
  {
   "cell_type": "markdown",
   "metadata": {},
   "source": [
    "#### To filter or not to filter serviced apartments?"
   ]
  },
  {
   "cell_type": "markdown",
   "metadata": {},
   "source": [
    "Serviced apartments are an established type of tourist accommodation with similar characteristics to ghost hotels: their units are typically located in the same building, and units listed on Airbnb would likely have similar descriptions. However, established serviced apartments may have planning permission to operate as such, unlike ghost hotels. \n",
    "\n",
    "I experimented with filtering out listings that are likely to be legitimate serviced apartments before proceeding with text similarity analysis, but ultimately decided against it for the following reasons:\n",
    "1. Listings described as 'serviced apartments' or 'serviced accommodation' account for a small percentage of commercially-run Airbnb listings.\n",
    "2. Listings in buildings classed as 'residential' are still sometimes described as serviced apartments for marketing purposes, and there is no way to distinguish between these listings and legitimate serviced apartment listings."
   ]
  },
  {
   "cell_type": "code",
   "execution_count": null,
   "metadata": {},
   "outputs": [],
   "source": [
    "serviced = df[df.description.str.contains(r'(?:serviced (?:apartments?|accommodation)+)', regex=True, flags=re.IGNORECASE)][['description', 'name', 'calculated_host_listings_count', 'availability_365']]\n",
    "print(f'{(serviced.shape[0]/df.shape[0])*100:.2f}% of commercially-run Airbnb listings are described as serviced apartments.')"
   ]
  },
  {
   "cell_type": "markdown",
   "metadata": {},
   "source": [
    "### Text similarity"
   ]
  },
  {
   "cell_type": "code",
   "execution_count": null,
   "metadata": {},
   "outputs": [],
   "source": [
    "corpus = private_rooms.description_norm.values"
   ]
  },
  {
   "cell_type": "markdown",
   "metadata": {},
   "source": [
    "#### Creating TF/IDF vectorizer"
   ]
  },
  {
   "cell_type": "code",
   "execution_count": null,
   "metadata": {},
   "outputs": [],
   "source": [
    "vectorizer = TfidfVectorizer(use_idf=True, ngram_range=(1,2), max_df=0.5, min_df=0.05)\n",
    "#ignore terms that appear in over 50% or less than 5% of documents\n",
    "tcorpus = vectorizer.fit_transform(corpus).toarray() \n",
    "#fit creates list of words/ngrams + IDF scores\n",
    "#transform creates matrix of TF/IDF scores per word/ngram\n",
    "#convert to array for cosine similarity step"
   ]
  },
  {
   "cell_type": "markdown",
   "metadata": {},
   "source": [
    "#### Creating cosine distance matrix"
   ]
  },
  {
   "cell_type": "code",
   "execution_count": null,
   "metadata": {},
   "outputs": [],
   "source": [
    "def reduce_func(D_chunk, start):\n",
    "    neigh = [np.flatnonzero(d < 0.2) for d in D_chunk] #index positions of listings with a cosine distance less than 0.2\n",
    "    return neigh\n",
    "\n",
    "ghost_idx = [] #set up list of indices to use for slicing original df\n",
    "validation = [] #list of arrays, each containing int index of similar listings\n",
    "for chunk in pairwise_distances_chunked(tcorpus, metric='cosine', reduce_func=reduce_func): #each chunk is a list of arrays\n",
    "    for idx, d in enumerate(chunk):\n",
    "        if (d.shape[0] >= 3):\n",
    "            ghost_idx.append(idx)\n",
    "            validation.append(d)\n",
    "            \n",
    "    #if the length of an array (d.shape[0]) is greater than or equal to 3,\n",
    "    #the listing it corresponds to has low cosine distances from three or more listings,\n",
    "    #indicating a likely ghost hotel"
   ]
  },
  {
   "cell_type": "code",
   "execution_count": null,
   "metadata": {},
   "outputs": [],
   "source": [
    "len(validation)"
   ]
  },
  {
   "cell_type": "code",
   "execution_count": null,
   "metadata": {},
   "outputs": [],
   "source": [
    "pd.set_option('display.max_colwidth', None)\n",
    "df.iloc[validation[938]][['description', 'host_id', 'name', 'room_type', 'availability_365']]"
   ]
  },
  {
   "cell_type": "markdown",
   "metadata": {},
   "source": [
    "Some issues:\n",
    "- Some listing clusters really are multiple spare rooms in someone's house (tend to be 3-4 listings in these clusters, e.g. no. 42 + 46 for validation list, when length of array is set to greater than 3)\n",
    "- Some listing clusters are hotel rooms listed as private rooms (Crawford Suites, Central Hoxton)\n",
    "- Some really big listing clusters are just property management companies with rooms in a variety of locations (Sonder"
   ]
  },
  {
   "cell_type": "code",
   "execution_count": null,
   "metadata": {},
   "outputs": [],
   "source": [
    "print(f'{len(ghost_idx)} listings are suspected ghost hotels.')"
   ]
  },
  {
   "cell_type": "code",
   "execution_count": null,
   "metadata": {},
   "outputs": [],
   "source": [
    "ghost_listings = df.iloc[ghost_idx, :]"
   ]
  },
  {
   "cell_type": "code",
   "execution_count": null,
   "metadata": {},
   "outputs": [],
   "source": [
    "pd.set_option('display.max_colwidth', None)\n",
    "ghost_listings.sample(5)[['description', 'host_id', 'calculated_host_listings_count']]"
   ]
  },
  {
   "cell_type": "code",
   "execution_count": null,
   "metadata": {},
   "outputs": [],
   "source": [
    "ghost_listings[\n",
    "    ghost_listings['host_id'] == 33889201\n",
    "].shape[0]"
   ]
  },
  {
   "cell_type": "markdown",
   "metadata": {},
   "source": [
    "#### Previous approaches"
   ]
  },
  {
   "cell_type": "code",
   "execution_count": null,
   "metadata": {},
   "outputs": [],
   "source": [
    "keys = private_rooms.index\n",
    "cosine_distances = pd.DataFrame(squareform(pdist(tcorpus, metric='cosine')), index=keys, columns=keys)"
   ]
  },
  {
   "cell_type": "code",
   "execution_count": null,
   "metadata": {},
   "outputs": [],
   "source": [
    "cosine_distances.head(5)"
   ]
  },
  {
   "cell_type": "markdown",
   "metadata": {},
   "source": [
    "#### Identifying listings that have multiple low cosine distances"
   ]
  },
  {
   "cell_type": "markdown",
   "metadata": {},
   "source": [
    "My initial approach was to try to identify likely ghost hotels, but given that listings can appear in multiple clusters of varying lengths, it would be simpler to just identify _listings_ that are likely to be in ghost hotels"
   ]
  },
  {
   "cell_type": "code",
   "execution_count": null,
   "metadata": {},
   "outputs": [],
   "source": [
    "#Extract clusters of listings that have similar descriptions to over 2 other listings\n",
    "#2 because 1 will always be the listing itself, and the other could be another spare room in an apartment\n",
    "ghost_clusters = cosine_distances[(cosine_distances < 0.2).sum(1) > 2].apply(lambda row: row[row < 0.2].index.tolist(), 1).tolist()"
   ]
  },
  {
   "cell_type": "code",
   "execution_count": null,
   "metadata": {},
   "outputs": [],
   "source": [
    "#Individual listings that meet criteria\n",
    "ghost_listings = cosine_distances[(cosine_distances < 0.2).sum(1) > 2].index.tolist()"
   ]
  },
  {
   "cell_type": "code",
   "execution_count": null,
   "metadata": {},
   "outputs": [],
   "source": [
    "print(f'{len(ghost_listings)} private-room listings could be in ghost hotels.')"
   ]
  },
  {
   "cell_type": "code",
   "execution_count": null,
   "metadata": {},
   "outputs": [],
   "source": [
    "ghost_listings[0:5] #each cluster corresponds to a listing, and the lists are the listings it's textually similar to"
   ]
  },
  {
   "cell_type": "code",
   "execution_count": null,
   "metadata": {},
   "outputs": [],
   "source": [
    "ghost_hotels = set()\n",
    "for i in ghost_listings:\n",
    "    ghost_hotels.add(frozenset(i))\n",
    "#the frozensets show that clusters of listings in different areas by the same host can have high cosine similarity\n",
    "#need to find a better threshold\n",
    "#but there are some ghost hotels that have cosine distances just under 0.2"
   ]
  },
  {
   "cell_type": "code",
   "execution_count": null,
   "metadata": {},
   "outputs": [],
   "source": [
    "len(ghost_hotels) #to access indexes of clusters, use list(ghost_hotels)"
   ]
  },
  {
   "cell_type": "markdown",
   "metadata": {},
   "source": [
    "#### Mapping potential ghost hotels"
   ]
  },
  {
   "cell_type": "code",
   "execution_count": null,
   "metadata": {},
   "outputs": [],
   "source": [
    "gdf = gpd.GeoDataFrame(df, \n",
    "      geometry=gpd.points_from_xy(df['longitude'], df['latitude'], crs='epsg:4326'))"
   ]
  },
  {
   "cell_type": "code",
   "execution_count": null,
   "metadata": {},
   "outputs": [],
   "source": [
    "boros = gpd.read_file('https://github.com/jreades/i2p/blob/master/data/src/Boroughs.gpkg?raw=true')\n",
    "gdf = gdf.to_crs(boros.crs)"
   ]
  },
  {
   "cell_type": "code",
   "execution_count": null,
   "metadata": {},
   "outputs": [],
   "source": [
    "fig, ax = plt.subplots(1,1, figsize=(12,10))\n",
    "boros.plot(ax=ax, facecolor='white', edgecolor='grey', linewidth=0.5)\n",
    "gdf.loc[[14669947,\n",
    "            14670320,\n",
    "            25006184,\n",
    "            25006355,\n",
    "            25006549,\n",
    "            25783428,\n",
    "            25783658,\n",
    "            25990877,\n",
    "            28128269,\n",
    "            28666876,\n",
    "            28691606,\n",
    "            28691717,\n",
    "            29650854,\n",
    "            29651426,\n",
    "            29651702,\n",
    "            29652062,\n",
    "            30300299,\n",
    "            30300857,\n",
    "            30300980,\n",
    "            30954567,\n",
    "            31016260,\n",
    "            31016553,\n",
    "            32759229,\n",
    "            32759618,\n",
    "            34011187,\n",
    "            34011556,\n",
    "            34904405,\n",
    "            34971588,\n",
    "            35140390,\n",
    "            35420290,\n",
    "            35994552,\n",
    "            38383575,\n",
    "            38624690,\n",
    "            40187901]].plot(ax=ax)"
   ]
  },
  {
   "cell_type": "code",
   "execution_count": null,
   "metadata": {},
   "outputs": [],
   "source": [
    "ghost_gdf = gdf.loc[ghost_listings2]"
   ]
  },
  {
   "cell_type": "code",
   "execution_count": null,
   "metadata": {},
   "outputs": [],
   "source": [
    "type(ghost_listings)"
   ]
  },
  {
   "cell_type": "code",
   "execution_count": null,
   "metadata": {},
   "outputs": [],
   "source": [
    "test_dbw = weights.DistanceBand.from_dataframe(ghost_gdf, 300)"
   ]
  },
  {
   "cell_type": "code",
   "execution_count": null,
   "metadata": {},
   "outputs": [],
   "source": [
    "type(test_dbw)"
   ]
  },
  {
   "cell_type": "code",
   "execution_count": null,
   "metadata": {},
   "outputs": [],
   "source": [
    "test_dbw"
   ]
  },
  {
   "cell_type": "code",
   "execution_count": null,
   "metadata": {},
   "outputs": [],
   "source": [
    "#Use pairwise_distances_chunked to find the most similar listings to each listing,\n",
    "#then select only the ones with more than 2 other similar listings - array\n",
    "\n",
    "#For each listing with more than 2 other similar listings, calculate the distance band weights\n",
    "\n",
    "#Sort array of listings with more than 2 other textually similar listings based on the number of similar listings\n",
    "#Next step will be easier if you start with the clusters that are more likely to contain subsets\n",
    "\n",
    "#For each listing, compare distance band weights to list of similar listings, and extract clusters"
   ]
  }
 ],
 "metadata": {
  "kernelspec": {
   "display_name": "Python 3",
   "language": "python",
   "name": "python3"
  },
  "language_info": {
   "codemirror_mode": {
    "name": "ipython",
    "version": 3
   },
   "file_extension": ".py",
   "mimetype": "text/x-python",
   "name": "python",
   "nbconvert_exporter": "python",
   "pygments_lexer": "ipython3",
   "version": "3.7.8"
  }
 },
 "nbformat": 4,
 "nbformat_minor": 4
}
