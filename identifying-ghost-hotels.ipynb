{
 "cells": [
  {
   "cell_type": "markdown",
   "metadata": {},
   "source": [
    "# Reproducible Analysis"
   ]
  },
  {
   "cell_type": "code",
   "execution_count": 1,
   "metadata": {},
   "outputs": [],
   "source": [
    "import os\n",
    "import numpy as np\n",
    "import pandas as pd\n",
    "import geopandas as gpd\n",
    "import matplotlib.cm as cm\n",
    "import matplotlib.pyplot as plt\n",
    "import re\n",
    "\n",
    "from sklearn.feature_extraction.text import TfidfVectorizer\n",
    "from scipy.spatial.distance import pdist, squareform\n",
    "from sklearn.metrics import pairwise_distances_chunked"
   ]
  },
  {
   "cell_type": "markdown",
   "metadata": {},
   "source": [
    "## Identifying ghost hotels"
   ]
  },
  {
   "cell_type": "markdown",
   "metadata": {},
   "source": [
    "### Loading and cleaning data"
   ]
  },
  {
   "cell_type": "code",
   "execution_count": 2,
   "metadata": {},
   "outputs": [],
   "source": [
    "norm_df = pd.read_csv('https://github.com/jreades/i2p/blob/master/data/clean/2020-08-24-listings-with-nlp-subset.csv.gz?raw=true',\n",
    "                compression='gzip', dtype={'id':np.float64, 'listing_url':str, 'name':str, 'description':str, 'description_norm':str})\n",
    "ref_df = pd.read_csv('https://github.com/jreades/i2p/blob/master/data/src/2020-08-24-listings.csv.gz?raw=true',\n",
    "                    compression='gzip', usecols=['id', 'room_type', 'calculated_host_listings_count', 'host_id', 'host_name', 'availability_365'],\n",
    "                    dtype={'id':np.float64, 'room_type':str, 'calculated_host_listings_count':np.float64, 'host_id':np.float64, 'host_name':str, 'availability_365':np.float64})"
   ]
  },
  {
   "cell_type": "markdown",
   "metadata": {},
   "source": [
    "#### Joining df with normalised description to df with room type, then dropping hotel rooms, serviced apartments, and null normalised descriptions"
   ]
  },
  {
   "cell_type": "code",
   "execution_count": 3,
   "metadata": {},
   "outputs": [
    {
     "name": "stdout",
     "output_type": "stream",
     "text": [
      "Converting id\n",
      "Converting host_id\n",
      "Converting calculated_host_listings_count\n",
      "Converting availability_365\n"
     ]
    }
   ],
   "source": [
    "df = pd.merge(norm_df, ref_df, on='id') #default is inner so we leave it\n",
    "df.drop(df[(df.room_type == 'Hotel room') |\n",
    "           (df.id.isna()) |\n",
    "           (df.calculated_host_listings_count.isna()) |\n",
    "           (df.description.isna()) |\n",
    "           (df.description_norm.isna())].index, inplace=True)\n",
    "\n",
    "ints = ['id', 'host_id', 'calculated_host_listings_count', 'availability_365']\n",
    "for i in ints:\n",
    "    print(f\"Converting {i}\")\n",
    "    try:\n",
    "        df[i] = df[i].astype('int')\n",
    "    except ValueError as e:\n",
    "        print(\"\\tConverting to unsigned 16-bit integer.\")\n",
    "        df[i] = df[i].astype(pd.UInt16Dtype())\n",
    "\n",
    "df.drop(df[df['calculated_host_listings_count'] < 2].index, inplace=True)\n",
    "df.set_index('id', inplace=True)"
   ]
  },
  {
   "cell_type": "code",
   "execution_count": 4,
   "metadata": {},
   "outputs": [
    {
     "data": {
      "text/plain": [
       "32320"
      ]
     },
     "execution_count": 4,
     "metadata": {},
     "output_type": "execute_result"
    }
   ],
   "source": [
    "df.shape[0]"
   ]
  },
  {
   "cell_type": "markdown",
   "metadata": {},
   "source": [
    "#### To filter or not to filter serviced apartments?"
   ]
  },
  {
   "cell_type": "markdown",
   "metadata": {},
   "source": [
    "Serviced apartments are an established type of tourist accommodation with similar characteristics to ghost hotels: their units are typically located in the same building, and units listed on Airbnb would likely have similar descriptions. However, established serviced apartments may have planning permission to operate as such, unlike ghost hotels. \n",
    "\n",
    "I experimented with filtering out listings that are likely to be legitimate serviced apartments before proceeding with text similarity analysis, but ultimately decided against it for the following reasons:\n",
    "1. Listings described as 'serviced apartments' or 'serviced accommodation' account for a small percentage of commercially-run Airbnb listings.\n",
    "2. Listings in buildings classed as 'residential' are still sometimes described as serviced apartments for marketing purposes, and there is no way to distinguish between these listings and legitimate serviced apartment listings."
   ]
  },
  {
   "cell_type": "code",
   "execution_count": 5,
   "metadata": {},
   "outputs": [
    {
     "name": "stdout",
     "output_type": "stream",
     "text": [
      "1.46% of commercially-run Airbnb listings are described as serviced apartments.\n"
     ]
    },
    {
     "data": {
      "text/html": [
       "<div>\n",
       "<style scoped>\n",
       "    .dataframe tbody tr th:only-of-type {\n",
       "        vertical-align: middle;\n",
       "    }\n",
       "\n",
       "    .dataframe tbody tr th {\n",
       "        vertical-align: top;\n",
       "    }\n",
       "\n",
       "    .dataframe thead th {\n",
       "        text-align: right;\n",
       "    }\n",
       "</style>\n",
       "<table border=\"1\" class=\"dataframe\">\n",
       "  <thead>\n",
       "    <tr style=\"text-align: right;\">\n",
       "      <th></th>\n",
       "      <th>description</th>\n",
       "      <th>name</th>\n",
       "      <th>calculated_host_listings_count</th>\n",
       "      <th>availability_365</th>\n",
       "    </tr>\n",
       "    <tr>\n",
       "      <th>id</th>\n",
       "      <th></th>\n",
       "      <th></th>\n",
       "      <th></th>\n",
       "      <th></th>\n",
       "    </tr>\n",
       "  </thead>\n",
       "  <tbody>\n",
       "    <tr>\n",
       "      <th>33878786</th>\n",
       "      <td>Welcome to Central Hoxton Shoreditch the home of serviced apartments in Shoreditch, London. We promise to provide you with the value you deserve and space comfort and flexibility. Whether you are planning a weekend break in London or visiting for business purpose and familiy ...</td>\n",
       "      <td>Double Budget Room 2 Adults</td>\n",
       "      <td>9</td>\n",
       "      <td>365</td>\n",
       "    </tr>\n",
       "    <tr>\n",
       "      <th>41019108</th>\n",
       "      <td>Our beautiful studio flats are ideal to comfortably sleep 2 people, with fully-equipped kitchenettes, luxuriously bathrooms and beautifully designed interiors. &lt;br /&gt;Complimentary Wi-Fi, Central heating, Freeview TV, DVD Player, Kettle, Safe, Toaster, Iron, Hair dryer, Clothe...</td>\n",
       "      <td>Fantastic Studio Apartment Chelsea Green - CGA3</td>\n",
       "      <td>259</td>\n",
       "      <td>346</td>\n",
       "    </tr>\n",
       "    <tr>\n",
       "      <th>17432188</th>\n",
       "      <td>We have several units in the same building. Please contact us if you cannot find availability for your requested dates.&lt;br /&gt;&lt;br /&gt;Moments away from Borough &amp; Southwark Stations these smart serviced apartments are an ideal choice for both business and leisure travellers. You ...</td>\n",
       "      <td>SLG Southwark Executive 1 Bedroom Apartment - B</td>\n",
       "      <td>111</td>\n",
       "      <td>127</td>\n",
       "    </tr>\n",
       "    <tr>\n",
       "      <th>41922994</th>\n",
       "      <td>Self-isolation unit for key workers and anyone else looking for self isolation. Professionally cleaned by our in-house staff who are trained in proper techniques and will disinfect before your stay. Our staff are fully trained and will deep clean your apartment before and aft...</td>\n",
       "      <td>High Street Kensington apartment for 4</td>\n",
       "      <td>33</td>\n",
       "      <td>0</td>\n",
       "    </tr>\n",
       "    <tr>\n",
       "      <th>21879577</th>\n",
       "      <td>Our Stylish three bedrooms are situated in the vibrant area of Victoria. These elegant apartments are designed with with warm beige tones and bright windows. With a fully-equipped kitchen.  Everything is so centrally located and accessible for our guests to London.  These pro...</td>\n",
       "      <td>Stylish &amp; Modern 3 Bedroom in Central London</td>\n",
       "      <td>13</td>\n",
       "      <td>90</td>\n",
       "    </tr>\n",
       "  </tbody>\n",
       "</table>\n",
       "</div>"
      ],
      "text/plain": [
       "                                                                                                                                                                                                                                                                                      description  \\\n",
       "id                                                                                                                                                                                                                                                                                                  \n",
       "33878786  Welcome to Central Hoxton Shoreditch the home of serviced apartments in Shoreditch, London. We promise to provide you with the value you deserve and space comfort and flexibility. Whether you are planning a weekend break in London or visiting for business purpose and familiy ...   \n",
       "41019108  Our beautiful studio flats are ideal to comfortably sleep 2 people, with fully-equipped kitchenettes, luxuriously bathrooms and beautifully designed interiors. <br />Complimentary Wi-Fi, Central heating, Freeview TV, DVD Player, Kettle, Safe, Toaster, Iron, Hair dryer, Clothe...   \n",
       "17432188  We have several units in the same building. Please contact us if you cannot find availability for your requested dates.<br /><br />Moments away from Borough & Southwark Stations these smart serviced apartments are an ideal choice for both business and leisure travellers. You ...   \n",
       "41922994  Self-isolation unit for key workers and anyone else looking for self isolation. Professionally cleaned by our in-house staff who are trained in proper techniques and will disinfect before your stay. Our staff are fully trained and will deep clean your apartment before and aft...   \n",
       "21879577  Our Stylish three bedrooms are situated in the vibrant area of Victoria. These elegant apartments are designed with with warm beige tones and bright windows. With a fully-equipped kitchen.  Everything is so centrally located and accessible for our guests to London.  These pro...   \n",
       "\n",
       "                                                     name  \\\n",
       "id                                                          \n",
       "33878786                      Double Budget Room 2 Adults   \n",
       "41019108  Fantastic Studio Apartment Chelsea Green - CGA3   \n",
       "17432188  SLG Southwark Executive 1 Bedroom Apartment - B   \n",
       "41922994           High Street Kensington apartment for 4   \n",
       "21879577     Stylish & Modern 3 Bedroom in Central London   \n",
       "\n",
       "          calculated_host_listings_count  availability_365  \n",
       "id                                                          \n",
       "33878786                               9               365  \n",
       "41019108                             259               346  \n",
       "17432188                             111               127  \n",
       "41922994                              33                 0  \n",
       "21879577                              13                90  "
      ]
     },
     "execution_count": 5,
     "metadata": {},
     "output_type": "execute_result"
    }
   ],
   "source": [
    "pd.set_option('display.max_colwidth', 280)\n",
    "serviced = df[df.description.str.contains(r'(?:serviced (?:apartments?|accommodation)+)', regex=True, flags=re.IGNORECASE)][['description', 'name', 'calculated_host_listings_count', 'availability_365']]\n",
    "print(f'{(serviced.shape[0]/df.shape[0])*100:.2f}% of commercially-run Airbnb listings are described as serviced apartments.')\n",
    "serviced.sample(5)"
   ]
  },
  {
   "cell_type": "markdown",
   "metadata": {},
   "source": [
    "### Text similarity"
   ]
  },
  {
   "cell_type": "code",
   "execution_count": 6,
   "metadata": {},
   "outputs": [],
   "source": [
    "corpus = df.description_norm.values"
   ]
  },
  {
   "cell_type": "markdown",
   "metadata": {},
   "source": [
    "#### Creating TF/IDF vectorizer"
   ]
  },
  {
   "cell_type": "code",
   "execution_count": 7,
   "metadata": {},
   "outputs": [],
   "source": [
    "vectorizer = TfidfVectorizer(use_idf=True, ngram_range=(1,2), max_df=0.5, min_df=0.05)\n",
    "#ignore terms that appear in over 50% or less than 5% of documents\n",
    "tcorpus = vectorizer.fit_transform(corpus).toarray() \n",
    "#fit creates list of words/ngrams + IDF scores\n",
    "#transform creates matrix of TF/IDF scores per word/ngram\n",
    "#convert to array for cosine similarity step"
   ]
  },
  {
   "cell_type": "markdown",
   "metadata": {},
   "source": [
    "#### Creating cosine distance matrix"
   ]
  },
  {
   "cell_type": "code",
   "execution_count": null,
   "metadata": {},
   "outputs": [],
   "source": [
    "tcorpus.shape"
   ]
  },
  {
   "cell_type": "code",
   "execution_count": 8,
   "metadata": {},
   "outputs": [],
   "source": [
    "def reduce_func(D_chunk, start):\n",
    "    neigh = [np.flatnonzero(d < 0.2) for d in D_chunk] #index positions of listings with a cosine similarity less than 0.2\n",
    "    return neigh\n",
    "\n",
    "#for chunk in pairwise_distances_chunked(tcorpus, metric='cosine', reduce_func=reduce_func):\n",
    "    #find index positions of rows with len(neigh) > 2"
   ]
  },
  {
   "cell_type": "code",
   "execution_count": 9,
   "metadata": {},
   "outputs": [],
   "source": [
    "D_chunk = next(pairwise_distances_chunked(tcorpus, metric='cosine', reduce_func=reduce_func))"
   ]
  },
  {
   "cell_type": "code",
   "execution_count": 14,
   "metadata": {},
   "outputs": [
    {
     "data": {
      "text/plain": [
       "array([  3, 624])"
      ]
     },
     "execution_count": 14,
     "metadata": {},
     "output_type": "execute_result"
    }
   ],
   "source": [
    "D_chunk[3]"
   ]
  },
  {
   "cell_type": "code",
   "execution_count": null,
   "metadata": {},
   "outputs": [],
   "source": [
    "cosine_distances = pd.DataFrame(squareform(pdist(tcorpus, metric='cosine')), index=keys, columns=keys)"
   ]
  },
  {
   "cell_type": "code",
   "execution_count": null,
   "metadata": {},
   "outputs": [],
   "source": [
    "cosine_distances.head(5)"
   ]
  },
  {
   "cell_type": "markdown",
   "metadata": {},
   "source": [
    "#### Identifying listings that have multiple low cosine distances"
   ]
  },
  {
   "cell_type": "markdown",
   "metadata": {},
   "source": [
    "My initial approach was to try to identify likely ghost hotels, but given that listings can appear in multiple clusters of varying lengths, it would be simpler to just identify _listings_ that are likely to be in ghost hotels"
   ]
  },
  {
   "cell_type": "code",
   "execution_count": null,
   "metadata": {},
   "outputs": [],
   "source": [
    "ghost_listings = cosine_distances[(cosine_distances < 0.2).sum(1) > 2].apply(lambda row: row[row < 0.2].index.tolist(), 1).tolist()"
   ]
  },
  {
   "cell_type": "code",
   "execution_count": null,
   "metadata": {},
   "outputs": [],
   "source": [
    "def FindMaxLength(lst): \n",
    "    maxList = max(lst, key = len) \n",
    "    maxLength = max(map(len, lst)) \n",
    "      \n",
    "    return maxList, maxLength\n",
    "  \n",
    "print(FindMaxLength(ghost_hotels)) "
   ]
  },
  {
   "cell_type": "code",
   "execution_count": null,
   "metadata": {},
   "outputs": [],
   "source": [
    "counts = [len(h) for h in ghost_hotels]\n",
    "sorted(counts, reverse=True)[:5]"
   ]
  },
  {
   "cell_type": "code",
   "execution_count": null,
   "metadata": {},
   "outputs": [],
   "source": [
    "ghost_listings[counts.index(60)]"
   ]
  },
  {
   "cell_type": "code",
   "execution_count": null,
   "metadata": {},
   "outputs": [],
   "source": [
    "ghost_hotels = set()\n",
    "for i in ghost_listings:\n",
    "    ghost_hotels.add(frozenset(i)) \n",
    "#the frozensets show that clusters of listings in different areas by the same host can have high cosine similarity\n",
    "#need to find a better threshold\n",
    "#but there are some ghost hotels that have cosine distances just under 0.2\n",
    "#maybe draw buffers around each listing and "
   ]
  },
  {
   "cell_type": "code",
   "execution_count": null,
   "metadata": {},
   "outputs": [],
   "source": [
    "len(ghost_hotels)"
   ]
  },
  {
   "cell_type": "markdown",
   "metadata": {},
   "source": [
    "#### Different approach - creating a set of individual listings likely to be part of ghost hotels"
   ]
  },
  {
   "cell_type": "code",
   "execution_count": null,
   "metadata": {},
   "outputs": [],
   "source": [
    "ghost_listings2 = cosine_distances[(cosine_distances < 0.2).sum(1) > 2].index.tolist()"
   ]
  },
  {
   "cell_type": "code",
   "execution_count": null,
   "metadata": {},
   "outputs": [],
   "source": [
    "df.loc[cosine_distances[cosine_distances[40187901] < 0.2].index, ['description', 'host_id']] #it's picking up on ghost hotels with multiple associated accounts!"
   ]
  },
  {
   "cell_type": "code",
   "execution_count": null,
   "metadata": {},
   "outputs": [],
   "source": []
  },
  {
   "cell_type": "code",
   "execution_count": null,
   "metadata": {},
   "outputs": [],
   "source": []
  }
 ],
 "metadata": {
  "kernelspec": {
   "display_name": "Python 3",
   "language": "python",
   "name": "python3"
  },
  "language_info": {
   "codemirror_mode": {
    "name": "ipython",
    "version": 3
   },
   "file_extension": ".py",
   "mimetype": "text/x-python",
   "name": "python",
   "nbconvert_exporter": "python",
   "pygments_lexer": "ipython3",
   "version": "3.7.8"
  }
 },
 "nbformat": 4,
 "nbformat_minor": 4
}
