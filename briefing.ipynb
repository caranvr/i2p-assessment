{
 "cells": [
  {
   "cell_type": "markdown",
   "metadata": {},
   "source": [
    "# Executive Briefing"
   ]
  },
  {
   "cell_type": "markdown",
   "metadata": {},
   "source": [
    "## Introduction"
   ]
  },
  {
   "cell_type": "markdown",
   "metadata": {},
   "source": [
    "Since 2015, short-term letting of entire homes in London has been limited to 90 nights per year, a move to protect residential housing supply from the growing home sharing market. However, a recent _Wired_ investigation (Temperton, 2020) has found that some commercial short-term rental (STR) operators are turning entire apartment blocks into \"ghost hotels\" to skirt these regulations. Flats in each ghost hotel are listed on Airbnb at different periods throughout the year, or listed multiple times with mirrored photos and slightly altered titles, allowing STR operators to profit from these listings year-round. \n",
    "\n",
    "The density of STRs in ghost hotels in particular poses an issue, as high concentrations of STRs in a given area have been shown to negatively impact long-term residents' quality of life. Residents of Lisbon's Alfama district, where 14 apartment blocks had been converted to ghost hotels by 2015, complained of disruption from the renovation of flats for use as STRs, and the disintegration of community relations \n",
    "\n",
    "### Why are ghost hotels a problem?\n",
    "\n",
    "### Aims of this report\n"
   ]
  },
  {
   "cell_type": "markdown",
   "metadata": {},
   "source": [
    "- Introduce concept of ghost hotels\n",
    "    - McGill paper definition - private-room listings by the same host that are close enough to each other to be in the same building\n",
    "    - Private rooms can be used as short-term rentals for longer than 90 days in London, but the prevalence of ghost hotels suggests that frequently-rented private rooms can be just as harmful for residential communities as frequently-rented entire homes\n",
    "- Why should policymakers be worried about ghost hotels?\n",
    "    - Buy-to-let investment for Airbnb generally: buying new buildings to invest in short-term rentals squeezes supply of housing for long-term residents, exacerbating existing affordability crisis (Schafer and Braun, 2016; GLA, 2020; GLA, 2016)\n",
    "    - Ghost hotels specifically: a high concentration of Airbnb listings in a small area has a negative impact on quality of life - residents feel displaced from their own neighbourhoods --> effect documented in Lisbon's Alfama district, where 14 apartment blocks were effectively ghost hotels in 2016 (Cocola-Gant and Gago, 2018) and Amsterdam's canal district (Pinkster and Boterman, 2017)\n",
    "        - Lisbon: renovation of flats for conversion to short-term rentals was disruptive, and residents did not benefit from improvements\n",
    "        - Both:\n",
    "            - Overcrowding\n",
    "            - More commercial businesses geared towards tourists, at the expense of businesses that support everyday life\n",
    "            - Disintegration of community relations as neighbourhood becomes more populated by people with no investment in the neighbourhood\n",
    "- Aims of this analysis\n",
    "    - Augmenting spatial analysis with a text similarity measure to identify listings that are likely to be part of ghost hotels, which overcomes the limitations of solely using spatial analysis to do so\n",
    "    - Provide an overview of ghost hotels' share of the Airbnb market, and how this has changed since Covid-19\n",
    "    - Identify characteristics of areas with high densities of ghost hotels (as a proportion of overall Airbnb listings or housing stock?) to inform potential avenues of enforcement (e.g. close inspection of transactions)"
   ]
  },
  {
   "cell_type": "code",
   "execution_count": null,
   "metadata": {},
   "outputs": [],
   "source": []
  }
 ],
 "metadata": {
  "kernelspec": {
   "display_name": "Python 3",
   "language": "python",
   "name": "python3"
  },
  "language_info": {
   "codemirror_mode": {
    "name": "ipython",
    "version": 3
   },
   "file_extension": ".py",
   "mimetype": "text/x-python",
   "name": "python",
   "nbconvert_exporter": "python",
   "pygments_lexer": "ipython3",
   "version": "3.7.8"
  }
 },
 "nbformat": 4,
 "nbformat_minor": 4
}
