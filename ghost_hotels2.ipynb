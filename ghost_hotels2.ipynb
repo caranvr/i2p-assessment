{
 "cells": [
  {
   "cell_type": "markdown",
   "metadata": {},
   "source": [
    "# Identifying ghost hotels"
   ]
  },
  {
   "cell_type": "code",
   "execution_count": 1,
   "metadata": {},
   "outputs": [],
   "source": [
    "import os\n",
    "import numpy as np\n",
    "import pandas as pd\n",
    "import geopandas as gpd\n",
    "import matplotlib.cm as cm\n",
    "import matplotlib.pyplot as plt\n",
    "import re\n",
    "from pysal.lib import weights\n",
    "\n",
    "from sklearn.feature_extraction.text import TfidfVectorizer\n",
    "from scipy.spatial.distance import pdist, squareform\n",
    "from sklearn.cluster import DBSCAN\n",
    "from numbers import Number"
   ]
  },
  {
   "cell_type": "code",
   "execution_count": 2,
   "metadata": {},
   "outputs": [],
   "source": [
    "#Using a dataset with pre-normalised descriptions to reduce computational intensity\n",
    "norm_df = pd.read_csv('https://github.com/jreades/i2p/blob/master/data/clean/2020-08-24-listings-with-nlp-subset.csv.gz?raw=true',\n",
    "                compression='gzip', dtype={'id':np.float64, 'name':str, 'listing_url':str, 'name':str, 'description':str, 'description_norm':str})\n",
    "\n",
    "#Dataset with additional info\n",
    "ref_df = pd.read_csv('https://github.com/jreades/i2p/blob/master/data/src/2020-08-24-listings.csv.gz?raw=true',\n",
    "                    compression='gzip', usecols=['id', 'room_type', 'calculated_host_listings_count', 'calculated_host_listings_count_entire_homes', 'calculated_host_listings_count_private_rooms', 'host_id', 'host_name', 'latitude', 'longitude', 'price', 'number_of_reviews_ltm', 'number_of_reviews_l30d', 'minimum_nights'],\n",
    "                    dtype={'id':np.float64,\n",
    "                           'room_type':str, \n",
    "                           'calculated_host_listings_count':np.float64,\n",
    "                           'calculated_host_listings_count_entire_homes':np.float64,\n",
    "                           'calculated_host_listings_count_private_rooms':np.float64,\n",
    "                           'host_id':np.float64, \n",
    "                           'host_name':str, \n",
    "                           'latitude':np.float64,\n",
    "                          'longitude':np.float64,\n",
    "                          'price':str,\n",
    "                          'number_of_reviews_ltm':np.float64,\n",
    "                           'number_of_reviews_l30d':np.float64,\n",
    "                          'minimum_nights':np.float64})"
   ]
  },
  {
   "cell_type": "code",
   "execution_count": 3,
   "metadata": {},
   "outputs": [
    {
     "name": "stdout",
     "output_type": "stream",
     "text": [
      "0.78% of listings cannot be used in the analysis, and will be dropped\n",
      "Converting id\n",
      "Converting host_id\n",
      "Converting calculated_host_listings_count\n",
      "Converting calculated_host_listings_count_entire_homes\n",
      "Converting calculated_host_listings_count_private_rooms\n",
      "Converting number_of_reviews_l30d\n",
      "Converting number_of_reviews_ltm\n",
      "Converting minimum_nights\n"
     ]
    }
   ],
   "source": [
    "## Cleaning data\n",
    "df = pd.merge(norm_df, ref_df, on='id') #default is inner so we leave it\n",
    "problematic_listings = df[(df.room_type == 'Hotel room') |\n",
    "           (df.id.isna()) |\n",
    "           (df.calculated_host_listings_count.isna()) |\n",
    "           (df.latitude.isna())]\n",
    "print(f'{(problematic_listings.shape[0]/df.shape[0])*100:.2f}% of listings cannot be used in the analysis, and will be dropped')\n",
    "df.drop(problematic_listings.index, inplace=True)\n",
    "\n",
    "#Converting columns\n",
    "df['price'] = df['price'].str.replace('$','').str.replace(',','').astype('float')\n",
    "ints = ['id', 'host_id', 'calculated_host_listings_count', 'calculated_host_listings_count_entire_homes', 'calculated_host_listings_count_private_rooms', 'number_of_reviews_l30d', 'number_of_reviews_ltm', 'minimum_nights']\n",
    "for i in ints:\n",
    "    print(f\"Converting {i}\")\n",
    "    try:\n",
    "        df[i] = df[i].astype('int')\n",
    "    except ValueError as e:\n",
    "        print(\"\\tConverting to unsigned 16-bit integer.\")\n",
    "        df[i] = df[i].astype(pd.UInt16Dtype())\n",
    "\n",
    "#Setting custom index\n",
    "df.set_index('id', inplace=True)"
   ]
  },
  {
   "cell_type": "code",
   "execution_count": 4,
   "metadata": {},
   "outputs": [
    {
     "name": "stdout",
     "output_type": "stream",
     "text": [
      "1097 listings had abnormally high prices that may skew the revenue analysis, and will be dropped\n"
     ]
    }
   ],
   "source": [
    "#Dropping listings with abnormally high prices for their room type\n",
    "eh_cutoff = df[\n",
    "    df['room_type'] == 'Entire home/apt'\n",
    "].price.quantile(.985)\n",
    "\n",
    "prv_cutoff = df[\n",
    "    df['room_type'] == 'Private room'\n",
    "].price.quantile(.985)\n",
    "\n",
    "abnormal_prices = df[\n",
    "    ((df['room_type'] == 'Entire home/apt') & (df['price'] >= eh_cutoff)) |\n",
    "    ((df['room_type'] == 'Private room') & (df['price'] >= prv_cutoff))\n",
    "]\n",
    "\n",
    "print(f'{abnormal_prices.shape[0]} listings had abnormally high prices that may skew the revenue analysis, and will be dropped')\n",
    "df.drop(abnormal_prices.index, inplace=True)"
   ]
  },
  {
   "cell_type": "code",
   "execution_count": 5,
   "metadata": {},
   "outputs": [],
   "source": [
    "#Finding revenue from revenue-generating listings\n",
    "def get_revenue(minimum_nights:int, number_of_reviews_ltm:int, price:float) -> float:\n",
    "    s = 5.3 #average stay in London, based on GLA report\n",
    "    if minimum_nights > s: #hosts can set a minimum nights stay of longer than 5.3 nights\n",
    "        s = minimum_nights\n",
    "    b = 2 * number_of_reviews_ltm #assumes that 50% of bookings result in reviews, based on Inside Airbnb model\n",
    "    occupancy = s*b #estimates number of nights property was occupied\n",
    "    if occupancy > 255: #building on GLA report, occupancy is capped at 255 nights\n",
    "        occupancy = 255\n",
    "    p = price \n",
    "    rev = occupancy * p #revenue is multiplied by the nightly price and number of nights occupied\n",
    "    return rev\n",
    "\n",
    "df['revenue'] = df.apply(lambda x: get_revenue(x.minimum_nights, x.number_of_reviews_ltm, x.price), axis=1)\n",
    "df['aug20_revenue'] = df.apply(lambda x: get_revenue(x.minimum_nights, x.number_of_reviews_l30d, x.price), axis=1)"
   ]
  },
  {
   "cell_type": "code",
   "execution_count": 6,
   "metadata": {},
   "outputs": [
    {
     "name": "stdout",
     "output_type": "stream",
     "text": [
      "54.07% of listings did not generate revenue in the past year, and will be dropped\n",
      "33304 listings will be used in the analysis\n"
     ]
    }
   ],
   "source": [
    "#Dropping non-revenue generating listings and listings with abnormal prices, which indicate lack of availability or typos\n",
    "non_revenue = df[df['revenue'] == 0]\n",
    "\n",
    "print(f'{(non_revenue.shape[0]/df.shape[0])*100:.2f}% of listings did not generate revenue in the past year, and will be dropped')\n",
    "\n",
    "df.drop(non_revenue.index, inplace=True)\n",
    "print(f'{df.shape[0]} listings will be used in the analysis')"
   ]
  },
  {
   "cell_type": "markdown",
   "metadata": {},
   "source": [
    "## Ghost hotel extraction"
   ]
  },
  {
   "cell_type": "code",
   "execution_count": 7,
   "metadata": {},
   "outputs": [],
   "source": [
    "def ghost_hotels(df:pd.DataFrame, room_type:str) -> pd.DataFrame:\n",
    "    '''This function isolates potential ghost listings and performs textual + spatial cluster analysis.\n",
    "    Use the original listings df as the input, and assign the output of this function to a new df,\n",
    "    which will contain ghost listings with their ghost hotel IDs.\n",
    "    Change the room_type depending on whether you want to analyse entire-home ghost hotels or private-room ghost hotels.'''\n",
    "    if room_type == 'Entire home/apt':\n",
    "        potential_ghosts = df[(df['calculated_host_listings_count_entire_homes'] >= 2) &\n",
    "                       (df['room_type'] == room_type) &\n",
    "                       (~df['description_norm'].isna())].copy()\n",
    "    elif room_type == 'Private room':\n",
    "        potential_ghosts = df[(df['calculated_host_listings_count_private_rooms'] > 2) &\n",
    "                             (df['room_type'] == room_type) &\n",
    "                             (~df['description_norm'].isna())].copy()\n",
    "    print(f'There are {potential_ghosts.shape[0]} candidates for {room_type} ghost listings.')\n",
    "    \n",
    "    print('Running textual similarity analysis...')\n",
    "    corpus = potential_ghosts.description_norm.values\n",
    "    vectorizer = TfidfVectorizer(use_idf=True, ngram_range=(1,2), max_df=0.5, min_df=0.05)\n",
    "    #ignore terms that appear in over 50% or less than 5% of documents to save memory\n",
    "    tcorpus = vectorizer.fit_transform(corpus).toarray() \n",
    "    #fit creates list of words/ngrams + IDF scores\n",
    "    #transform creates matrix of TF/IDF scores per word/ngram\n",
    "    #convert to array for cosine similarity step\n",
    "    \n",
    "    #Cosine distance analysis\n",
    "    keys = potential_ghosts.index #allows cosine distance calculator output to be indexed by listing ID, which makes analysis easier\n",
    "    cosine_distances = pd.DataFrame(squareform(pdist(tcorpus, metric='cosine')), index=keys, columns=keys)\n",
    "    \n",
    "    #Filtering down to listings that meet criteria for textual similarity with multiple listings\n",
    "    ghost_listings = cosine_distances[(cosine_distances < 0.2).sum(1) > 2].index.tolist()\n",
    "    ghost_listings_mat = cosine_distances.loc[ghost_listings, ghost_listings]\n",
    "    print(f'{ghost_listings_mat.shape[0]} listings had more than 1 textually similar listing, and will be used in the text clustering process.')\n",
    "    \n",
    "    #Set up data frame to store clustering results, which has all the columns in the original df\n",
    "    results = potential_ghosts.loc[ghost_listings,]\n",
    "    \n",
    "    #Function for implementing both textual and spatial cluster analysis\n",
    "    def db_cluster(df1, df2, eps:Number, metric:str, name:str):\n",
    "        '''Implements DBSCAN clustering algorithm on df1 and stores results in df2'''\n",
    "        print(f'Running {name} analysis...')\n",
    "        output = DBSCAN(eps=eps, min_samples=3, metric=metric).fit(df1)\n",
    "        s = pd.Series(output.labels_, index=df2.index, name=name) #create series assigning listings to clusters\n",
    "        df2[name] = s #assign series to results df     \n",
    "        noise = df2[df2[name] == -1] #identify listings that weren't in clusters\n",
    "        print(f'Dropping {noise.shape[0]} listings that do not belong to a cluster')\n",
    "        df2.drop(noise.index, inplace=True)\n",
    "        return df2 #returns filtered df, with only listings that are in clusters\n",
    "    \n",
    "    #Textual DBSCAN\n",
    "    results = db_cluster(ghost_listings_mat, results, 0.2, 'precomputed', 'text_dbscan')\n",
    "    \n",
    "    #Spatial DBSCAN\n",
    "    spatial_dbs_listings = results[['latitude', 'longitude']] #isolate latitude/longitude pairs\n",
    "    spatial_dbs_listings = spatial_dbs_listings.apply(np.radians) #convert coordinates to radians for use in DBSCAN clustering\n",
    "    \n",
    "    e = 0.3/6371.0088 #divide maximum distance (in km) between two listings that could be in the same building by km per radian\n",
    "    results = db_cluster(spatial_dbs_listings, results, e, 'haversine', 'geo_dbscan')\n",
    "    \n",
    "    #Identify potential hotels by grouping results df by combination of clusters\n",
    "    #We assume that potential hotels are in the same spatial and textual clusters\n",
    "    hotels = results.groupby(['geo_dbscan','text_dbscan']).size().reset_index().rename(columns={0:'count'})\n",
    "    print(f'There are {hotels.shape[0]} potential {room_type} ghost hotels in London.')\n",
    "    \n",
    "    #Match hotels to listings\n",
    "    hotels['hotel_id'] = hotels.index.values   \n",
    "    results['id'] = results.index.values #the merge can reset the index, which we don't want\n",
    "    final_results = results.merge(hotels, how='left').set_index('id')\n",
    "    print(f'{final_results.shape[0]} {room_type} listings are in potential ghost hotels, which account for {(final_results.shape[0]/df.shape[0])*100:.2f}% of revenue-generating listings')\n",
    "    \n",
    "    #Free up memory so this function can be run on other listing datasets or another room type\n",
    "    del(tcorpus)\n",
    "    del(cosine_distances)\n",
    "    \n",
    "    return final_results"
   ]
  },
  {
   "cell_type": "code",
   "execution_count": 8,
   "metadata": {},
   "outputs": [
    {
     "name": "stdout",
     "output_type": "stream",
     "text": [
      "There are 9273 candidates for Entire home/apt ghost listings.\n",
      "Running textual similarity analysis...\n",
      "2658 listings had more than 1 textually similar listing, and will be used in the text clustering process.\n",
      "Running text_dbscan analysis...\n",
      "Dropping 34 listings that do not belong to a cluster\n",
      "Running geo_dbscan analysis...\n",
      "Dropping 98 listings that do not belong to a cluster\n",
      "There are 494 potential Entire home/apt ghost hotels in London.\n",
      "2526 Entire home/apt listings are in potential ghost hotels, which account for 7.58% of revenue-generating listings\n"
     ]
    }
   ],
   "source": [
    "#Find entire-home ghost hotels\n",
    "entire_home_ghosts = ghost_hotels(df, 'Entire home/apt')"
   ]
  },
  {
   "cell_type": "markdown",
   "metadata": {},
   "source": [
    "Before the analysis, we have to exclude listings from Sonder, a serviced apartment company that is licensed to run as a hotel. This clustering analysis identified Sonder's listings as potential ghost hotels. "
   ]
  },
  {
   "cell_type": "code",
   "execution_count": 9,
   "metadata": {},
   "outputs": [
    {
     "name": "stdout",
     "output_type": "stream",
     "text": [
      "2380 listings are in suspected ghost hotels.\n"
     ]
    }
   ],
   "source": [
    "entire_home_ghosts.drop(entire_home_ghosts[\n",
    "    entire_home_ghosts['host_name'].str.contains('Sonder')\n",
    "].index, inplace=True)\n",
    "\n",
    "print(f'{entire_home_ghosts.shape[0]} listings are in suspected ghost hotels.')"
   ]
  },
  {
   "cell_type": "code",
   "execution_count": 10,
   "metadata": {},
   "outputs": [
    {
     "name": "stdout",
     "output_type": "stream",
     "text": [
      "There are 3640 candidates for Private room ghost listings.\n",
      "Running textual similarity analysis...\n",
      "1527 listings had more than 1 textually similar listing, and will be used in the text clustering process.\n",
      "Running text_dbscan analysis...\n",
      "Dropping 24 listings that do not belong to a cluster\n",
      "Running geo_dbscan analysis...\n",
      "Dropping 29 listings that do not belong to a cluster\n",
      "There are 329 potential Private room ghost hotels in London.\n",
      "1474 Private room listings are in potential ghost hotels, which account for 4.43% of revenue-generating listings\n"
     ]
    }
   ],
   "source": [
    "#Find private-room ghost hotels\n",
    "private_room_ghosts = ghost_hotels(df, 'Private room')"
   ]
  },
  {
   "cell_type": "markdown",
   "metadata": {},
   "source": [
    "## Market Analysis"
   ]
  },
  {
   "cell_type": "markdown",
   "metadata": {},
   "source": [
    "### Composition of the ghost hotel market"
   ]
  },
  {
   "cell_type": "code",
   "execution_count": 28,
   "metadata": {},
   "outputs": [],
   "source": [
    "ghost_hotels_total = pd.concat([entire_home_ghosts, private_room_ghosts])\n",
    "ghost_hotels_total['Hotel type'] = np.where(ghost_hotels_total.index.isin(entire_home_ghosts.index.values.tolist()), 'Entire home/apt', 'Private room')"
   ]
  },
  {
   "cell_type": "code",
   "execution_count": 29,
   "metadata": {},
   "outputs": [],
   "source": [
    "hotel_type_grouped = ghost_hotels_total.groupby('Hotel type').agg({'count': ['count', 'median', 'max'], 'hotel_id': 'nunique', 'revenue': 'sum', 'aug20_revenue':'sum'})\n",
    "hotel_type_grouped.columns = [' '.join(col).strip() for col in hotel_type_grouped.columns.values]"
   ]
  },
  {
   "cell_type": "code",
   "execution_count": 30,
   "metadata": {},
   "outputs": [
    {
     "data": {
      "text/html": [
       "<div>\n",
       "<style scoped>\n",
       "    .dataframe tbody tr th:only-of-type {\n",
       "        vertical-align: middle;\n",
       "    }\n",
       "\n",
       "    .dataframe tbody tr th {\n",
       "        vertical-align: top;\n",
       "    }\n",
       "\n",
       "    .dataframe thead th {\n",
       "        text-align: right;\n",
       "    }\n",
       "</style>\n",
       "<table border=\"1\" class=\"dataframe\">\n",
       "  <thead>\n",
       "    <tr style=\"text-align: right;\">\n",
       "      <th></th>\n",
       "      <th>count count</th>\n",
       "      <th>count median</th>\n",
       "      <th>count max</th>\n",
       "      <th>hotel_id nunique</th>\n",
       "      <th>revenue sum</th>\n",
       "      <th>aug20_revenue sum</th>\n",
       "    </tr>\n",
       "    <tr>\n",
       "      <th>Hotel type</th>\n",
       "      <th></th>\n",
       "      <th></th>\n",
       "      <th></th>\n",
       "      <th></th>\n",
       "      <th></th>\n",
       "      <th></th>\n",
       "    </tr>\n",
       "  </thead>\n",
       "  <tbody>\n",
       "    <tr>\n",
       "      <th>Entire home/apt</th>\n",
       "      <td>2380</td>\n",
       "      <td>6</td>\n",
       "      <td>53</td>\n",
       "      <td>486</td>\n",
       "      <td>2.017499e+07</td>\n",
       "      <td>713001.296</td>\n",
       "    </tr>\n",
       "    <tr>\n",
       "      <th>Private room</th>\n",
       "      <td>1474</td>\n",
       "      <td>4</td>\n",
       "      <td>31</td>\n",
       "      <td>329</td>\n",
       "      <td>7.644745e+06</td>\n",
       "      <td>202662.862</td>\n",
       "    </tr>\n",
       "  </tbody>\n",
       "</table>\n",
       "</div>"
      ],
      "text/plain": [
       "                 count count  count median  count max  hotel_id nunique  \\\n",
       "Hotel type                                                                \n",
       "Entire home/apt         2380             6         53               486   \n",
       "Private room            1474             4         31               329   \n",
       "\n",
       "                  revenue sum  aug20_revenue sum  \n",
       "Hotel type                                        \n",
       "Entire home/apt  2.017499e+07         713001.296  \n",
       "Private room     7.644745e+06         202662.862  "
      ]
     },
     "execution_count": 30,
     "metadata": {},
     "output_type": "execute_result"
    }
   ],
   "source": [
    "hotel_type_grouped"
   ]
  },
  {
   "cell_type": "code",
   "execution_count": 31,
   "metadata": {},
   "outputs": [],
   "source": [
    "hotel_type_grouped['revenue sum'] = hotel_type_grouped['revenue sum'].astype('int64')\n",
    "hotel_type_grouped['aug20_revenue sum'] = hotel_type_grouped['aug20_revenue sum'].round(decimals=2)\n",
    "\n",
    "hotel_type_grouped = hotel_type_grouped.rename(columns={\"count count\": \"Number of listings\",\n",
    "                                   \"count median\": \"Median number of listings per hotel\",\n",
    "                                   \"count max\": \"Maximum number of listings per hotel\",\n",
    "                                  \"hotel_id nunique\": \"Number of hotels\",\n",
    "                                  \"revenue sum\": \"Revenue earned between August 2019 and August 2020 (GBP)\",\n",
    "                                    \"aug20_revenue sum\": \"Revenue earned in August 2020 (GBP)\"})"
   ]
  },
  {
   "cell_type": "markdown",
   "metadata": {},
   "source": [
    "### How much of the total revenue from Airbnb in London was generated by ghost hotels between 2019 and 2020?"
   ]
  },
  {
   "cell_type": "code",
   "execution_count": null,
   "metadata": {},
   "outputs": [],
   "source": [
    "def revenue_analysis(df1, df2):\n",
    "    '''This function analyses ghost-hotel listings' share of listings and revenue compared to entire-home listings\n",
    "    and Airbnb listings in total.\n",
    "    df1 is the full df of revenue-generating listings, and df2 is the df of suspected ghost-hotel listings.'''\n",
    "    \n",
    "    df1['is_ghost_listing'] = df1.index.isin(df2.index.values) #produce boolean series indicating whether or not a listing is a ghost-hotel listing\n",
    "    entire_homes = df1[df1['room_type'] == 'Entire home/apt'] #isolate entire home listings\n",
    "    \n",
    "    def get_stat_table(df, name):\n",
    "        '''This helper function produces the table used for the revenue analysis.\n",
    "        name = df1 name if comparing to all listings, entire_homes if comp'''\n",
    "    "
   ]
  },
  {
   "cell_type": "code",
   "execution_count": null,
   "metadata": {},
   "outputs": [],
   "source": [
    "ghost_listings_total = entire_home_ghosts.index.values.tolist() + private_room_ghosts.index.values.tolist()\n",
    "df['is_ghost_listing'] = df.index.isin(ghost_listings_total)"
   ]
  },
  {
   "cell_type": "code",
   "execution_count": null,
   "metadata": {},
   "outputs": [],
   "source": [
    "#Necessary information:\n",
    "# - % of listings\n",
    "# - % of revenue\n",
    "ghost_vs_total = df.groupby('is_ghost_listing').agg({'revenue': ['count', 'sum', 'median']})\n",
    "ghost_vs_total.columns = ghost_vs_total.columns.droplevel(0)"
   ]
  },
  {
   "cell_type": "code",
   "execution_count": null,
   "metadata": {},
   "outputs": [],
   "source": [
    "ghost_vs_total"
   ]
  },
  {
   "cell_type": "code",
   "execution_count": null,
   "metadata": {},
   "outputs": [],
   "source": [
    "print(f\"\"\"Ghost hotel listings make up {(ghost_vs_total['count'].values[1]/df.shape[0])*100:.2f}% of Airbnb listings in London,\n",
    "and accounted for {(ghost_vs_total['sum'].values[1]/df['revenue'].sum())*100:.2f}% of total revenue produced from August 2019 to August 2020.\"\"\")"
   ]
  },
  {
   "cell_type": "markdown",
   "metadata": {},
   "source": [
    "### How much of the revenue from entire-home listings was generated by ghost hotels between 2019 and 2020?"
   ]
  },
  {
   "cell_type": "code",
   "execution_count": null,
   "metadata": {},
   "outputs": [],
   "source": [
    "entire_homes = df[df['room_type'] == 'Entire home/apt']\n",
    "\n",
    "ghost_vs_entirehomes = entire_homes.groupby('is_ghost_listing').agg({'revenue': ['count', 'sum', 'mean', 'min', 'max', 'median']})\n",
    "ghost_vs_entirehomes.columns = ghost_vs_entirehomes.columns.droplevel(0)a\n",
    "\n",
    "prop_entirehome_list = (ghost_vs_entirehomes['count'].values[1]/entire_homes.shape[0])*100\n",
    "prop_entirehome_rev = (ghost_vs_entirehomes['sum'].values[1]/entire_homes['revenue'].sum())*100\n",
    "\n",
    "print(f'Ghost hotels make up {prop_entirehome_list:.2f}% of entire home listings in London, and accounted for {prop_entirehome_rev:.2f}% of revenue generated from August 2019-2020.')"
   ]
  },
  {
   "cell_type": "markdown",
   "metadata": {},
   "source": [
    "### How much of the revenue from private-room listings was generated by ghost hotels between 2019 and 2020?"
   ]
  },
  {
   "cell_type": "code",
   "execution_count": null,
   "metadata": {},
   "outputs": [],
   "source": [
    "private_rooms = df[df['room_type'] == 'Private room']\n",
    "ghost_vs_private_rooms = private_rooms.groupby('is_ghost_listing').agg({'revenue': ['count', 'sum', 'median']})"
   ]
  },
  {
   "cell_type": "code",
   "execution_count": null,
   "metadata": {},
   "outputs": [],
   "source": [
    "ghost_vs_private_rooms.columns = ghost_vs_private_rooms.columns.droplevel(0)"
   ]
  },
  {
   "cell_type": "code",
   "execution_count": null,
   "metadata": {},
   "outputs": [],
   "source": [
    "ghost_vs_private_rooms"
   ]
  },
  {
   "cell_type": "code",
   "execution_count": null,
   "metadata": {},
   "outputs": [],
   "source": [
    "prop_prv_list = (ghost_vs_private_rooms['count'].values[1]/private_rooms.shape[0])*100\n",
    "prop_prv_rev = (ghost_vs_private_rooms['sum'].values[1]/private_rooms['revenue'].sum())*100\n",
    "\n",
    "print(f'Ghost hotels make up {prop_prv_list:.2f}% of private-room listings in London, and accounted for {prop_prv_rev:.2f}% of revenue in 2019-2020.')"
   ]
  },
  {
   "cell_type": "markdown",
   "metadata": {},
   "source": [
    "## The spatial bits!"
   ]
  },
  {
   "cell_type": "code",
   "execution_count": null,
   "metadata": {},
   "outputs": [],
   "source": [
    "gdf = gpd.GeoDataFrame(df, \n",
    "      geometry=gpd.points_from_xy(df['longitude'], df['latitude'], crs='epsg:4326'))\n",
    "boros = gpd.read_file('https://github.com/jreades/i2p/blob/master/data/src/Boroughs.gpkg?raw=true')\n",
    "gdf = gdf.to_crs(boros.crs) #reproject so that we can map it later"
   ]
  },
  {
   "cell_type": "markdown",
   "metadata": {},
   "source": [
    "### Mapping ghost hotels"
   ]
  },
  {
   "cell_type": "code",
   "execution_count": null,
   "metadata": {},
   "outputs": [],
   "source": [
    "geo_ghost_prv = pd.merge(private_room_ghosts, gdf, how='left', left_index=True, right_index=True)[['geometry', 'hotel_id', 'count']]\n",
    "geo_ghost_eh = pd.merge(entire_home_ghosts, gdf, how='left', left_index=True, right_index=True)[['geometry', 'hotel_id', 'count']]"
   ]
  },
  {
   "cell_type": "code",
   "execution_count": null,
   "metadata": {},
   "outputs": [],
   "source": [
    "geo_ghost_eh = gpd.GeoDataFrame(geo_ghost_eh, geometry='geometry', crs='epsg:27700')\n",
    "geo_ghost_prv = gpd.GeoDataFrame(geo_ghost_prv, geometry='geometry', crs='epsg:27700') #a for loop didn't work for this for some reason\n",
    "\n",
    "fig, axes = plt.subplots(1,2, figsize=(15,10))\n",
    "boros.plot(ax=axes[0])\n",
    "boros.plot(ax=axes[1])\n",
    "geo_ghost_eh.plot(ax=axes[0], column='count', legend=True)\n",
    "geo_ghost_prv.plot(ax=axes[1], column='count', legend=True)"
   ]
  },
  {
   "cell_type": "code",
   "execution_count": null,
   "metadata": {},
   "outputs": [],
   "source": [
    "geo_ghost_prv[['count']].plot.hist(bins=50)"
   ]
  },
  {
   "cell_type": "code",
   "execution_count": null,
   "metadata": {},
   "outputs": [],
   "source": [
    "geo_ghost_eh[['count']].plot.hist(bins=50)"
   ]
  },
  {
   "cell_type": "markdown",
   "metadata": {},
   "source": [
    "### Mapping percentage of listings in each borough that are ghost hotels"
   ]
  },
  {
   "cell_type": "code",
   "execution_count": null,
   "metadata": {},
   "outputs": [],
   "source": [
    "#Get LSOAs and extract LSOAs that are in London\n",
    "lsoas = gpd.read_file('https://github.com/caranvr/i2p-assessment/blob/main/Lower_Layer_Super_Output_Area__December_2011__EW_BSC_V2-shp.zip?raw=true')\n",
    "\n",
    "#Dissolve borough boundaries by London boundary\n",
    "ldn = gpd.GeoDataFrame(gpd.GeoSeries(data=boros.unary_union, crs='epsg:27700')).rename(columns={0:'original'})\n",
    "ldn['geometry'] = ldn.original.buffer(250)\n",
    "ldn = ldn.set_geometry('geometry')\n",
    "\n",
    "ldn_lsoas = gpd.sjoin(lsoas, ldn, op='within')\n",
    "del(lsoas)"
   ]
  },
  {
   "cell_type": "code",
   "execution_count": null,
   "metadata": {},
   "outputs": [],
   "source": [
    "#Extract boroughs\n",
    "ldn_lsoas['Borough'] = ldn_lsoas.LSOA11NM.str.replace(r'\\s\\d{3}\\w+$','',regex=True)\n",
    "\n",
    "print(ldn_lsoas.Borough.unique())\n",
    "print(len(ldn_lsoas.Borough.unique()))\n",
    "print(ldn_lsoas.shape)"
   ]
  },
  {
   "cell_type": "code",
   "execution_count": null,
   "metadata": {},
   "outputs": [],
   "source": [
    "gdf_la = gpd.sjoin(gdf, boros, op='within', how='left')\n",
    "gdf_la.drop(columns=['index_right','HECTARES','NONLD_AREA','ONS_INNER'], inplace=True)"
   ]
  },
  {
   "cell_type": "code",
   "execution_count": null,
   "metadata": {},
   "outputs": [],
   "source": [
    "#Drop listings that fall on the border between boroughs - there are only 5\n",
    "gdf_la.drop(index=gdf_la[gdf_la.NAME.isnull()].index.values, axis=1, inplace=True) #5\n",
    "print(gdf_la.shape)"
   ]
  },
  {
   "cell_type": "code",
   "execution_count": null,
   "metadata": {},
   "outputs": [],
   "source": [
    "gdf_la.groupby('NAME').is_ghost_listing.apply(lambda x: (x.sum()/x.count())*100).plot.hist(bins=)"
   ]
  },
  {
   "cell_type": "markdown",
   "metadata": {},
   "source": [
    "### Mapping percentage of ghost-hotel listings in each LSOA"
   ]
  },
  {
   "cell_type": "code",
   "execution_count": null,
   "metadata": {},
   "outputs": [],
   "source": [
    "ldn_lsoas.drop(columns='index_right', inplace=True)\n",
    "listings_with_lsoas = gpd.sjoin(\n",
    "            gdf, \n",
    "            ldn_lsoas, \n",
    "            op='within')"
   ]
  },
  {
   "cell_type": "code",
   "execution_count": null,
   "metadata": {},
   "outputs": [],
   "source": [
    "listings_with_lsoas.columns"
   ]
  },
  {
   "cell_type": "code",
   "execution_count": null,
   "metadata": {},
   "outputs": [],
   "source": [
    "lsoa_ghost_pc = listings_with_lsoas.groupby('LSOA11CD').is_ghost_listing.apply(lambda x: (x.sum()/x.count())*100)"
   ]
  },
  {
   "cell_type": "code",
   "execution_count": null,
   "metadata": {},
   "outputs": [],
   "source": [
    "lsoa_ghost_pc.head()"
   ]
  },
  {
   "cell_type": "code",
   "execution_count": null,
   "metadata": {},
   "outputs": [],
   "source": [
    "ldn_lsoas.set_index('LSOA11CD', inplace=True)"
   ]
  },
  {
   "cell_type": "code",
   "execution_count": null,
   "metadata": {},
   "outputs": [],
   "source": [
    "ldn_lsoas = pd.concat([ldn_lsoas, lsoa_ghost_pc], axis=1)"
   ]
  },
  {
   "cell_type": "code",
   "execution_count": null,
   "metadata": {},
   "outputs": [],
   "source": [
    "ldn_lsoas.columns"
   ]
  },
  {
   "cell_type": "code",
   "execution_count": null,
   "metadata": {},
   "outputs": [],
   "source": [
    "fig, ax = plt.subplots(1,1, figsize=(12,10))\n",
    "ldn_lsoas.plot(column='is_ghost_listing', ax=ax, legend=True)"
   ]
  },
  {
   "cell_type": "code",
   "execution_count": null,
   "metadata": {},
   "outputs": [],
   "source": [
    "ldn_lsoas[\n",
    "    ldn_lsoas['is_ghost_listing'] == ldn_lsoas['is_ghost_listing'].max()\n",
    "]"
   ]
  },
  {
   "cell_type": "markdown",
   "metadata": {},
   "source": [
    "### Mapping % of properties in each LSOA that are ghost listings"
   ]
  },
  {
   "cell_type": "code",
   "execution_count": null,
   "metadata": {},
   "outputs": [],
   "source": [
    "lsoa_properties = pd.read_csv('https://github.com/caranvr/i2p-assessment/blob/main/Table_CTSOP4_1_2020.csv?raw=true')"
   ]
  },
  {
   "cell_type": "markdown",
   "metadata": {},
   "source": [
    "# Executive Briefing"
   ]
  },
  {
   "cell_type": "markdown",
   "metadata": {},
   "source": [
    "## Background"
   ]
  },
  {
   "cell_type": "markdown",
   "metadata": {},
   "source": [
    "Since 2015, short-term letting of entire homes in London has been limited to 90 nights per year, a move to protect residential housing supply from the growing home-sharing market (Cosh, 2020). Airbnb has enforced this rule since 2017, automatically suspending bookings for entire-home listings that been booked for 90 days in a year (KeyNest, 2019). However, recent media and policy investigations have identified a new way for commercial short-term rental (STR) operators to skirt this regulation: the operation of 'ghost hotels', which are clusters of unlicensed STRs in the same building. \n",
    "\n",
    "Ghost hotels can take two different forms, which take advantage of different loopholes in London's STR limit. The first type of ghost hotel is the **entire-home ghost hotel**. These ghost hotels consist of multiple flats in the same building, each of which are either listed on home-sharing platforms at different times of the year, or listed multiple times with mirrored photos to avoid detection. This ensures that while no individual flat is let – or recorded as having been let – for more than 90 days per year, operators can profit from listings year-round. A recent _Wired_ investigation found that some of London's entire-home ghost hotels operate at a similar scale to traditional hotels: a ghost hotel block in Battersea, which has since been removed from Airbnb, consisted of at least twenty flats (Temperton, 2020). \n",
    "\n",
    "The second type of ghost hotel is the **private-room ghost hotel**, which was first identified in New York City by urban policy researchers at McGill University (Wachsmuth _et al._, 2018). These ghost hotels encompass one or more apartments in a building, with each room listed separately on Airbnb. In London, private-room ghost hotels take advantage of the fact that only entire-home listings are monitored on Airbnb (KeyNest, 2019). \n",
    "\n",
    "### Why focus on ghost hotels?\n",
    "\n",
    "The existence of private-room ghost hotels in London suggests that STRs are putting more pressure on the city's housing market than is estimated. In the latest Greater London Authority (GLA) report on short-term lettings, the proportion of dwelling stock made up of entire-home listings is used as an indicator of how much housing supply has been lost to Airbnb (Cosh, 2020). This metric does not include flats that have been converted to multiple private-room listings (Wachsmuth _et al._, 2018). With an understanding of the extent of private-room ghost hotels, policymakers can improve the accuracy of housing supply estimates, which are important for housing and STR policy.\n",
    "\n",
    "Analysing the extent of ghost hotels more broadly is also important, but for ensuring the health of London's communities. While commercial operators of spatially dispersed STRs may violate London's short-term letting laws in similar ways to ghost hotel operators, the density of STRs in ghost hotels, regardless of type, poses a unique threat to local residents' quality of life. In Lisbon and Amsterdam, residents of neighbourhoods with high concentrations of STRs have complained of overcrowding; construction noise from conversions of flats to STRs; the replacement of local shops and restaurants with tourist-oriented businesses; and disintegration of community relations as long-term residents are replaced by travelers (Pinkster and Boterman, 2017; Cocola-Gant and Gago, 2018).\n",
    "\n",
    "### Report objectives\n",
    "\n",
    "- Evaluate which form of ghost hotel is a larger threat to local quality of life in London\n",
    "    - Analyse position of each type of ghost hotel in the local Airbnb market (each type analysed separately)\n",
    "    - Analyse the spatial distribution of ghost-hotel listings (combined)\n",
    "    - \n",
    "\n",
    "## The ghost hotel market\n",
    "\n",
    "In August 2020, there were a total of 815 ghost hotels in London, comprising 3,854 listings. Between August 2019 and August 2020, these hotels generated over 27.5 million GBP in revenue.\n",
    "\n",
    "The market is dominated by entire-home ghost hotels: while entire-home ghost hotels make up only a slim majority (59.6%) of all ghost hotels in London, they earned 72.5% of total revenue between August 2019 and August 2020. Covid-19 does not appear to have reversed this trend, with entire-home ghost hotels earning 77.8% of ghost-hotel revenue in August 2020. "
   ]
  },
  {
   "cell_type": "code",
   "execution_count": 33,
   "metadata": {},
   "outputs": [
    {
     "data": {
      "text/html": [
       "<div>\n",
       "<style scoped>\n",
       "    .dataframe tbody tr th:only-of-type {\n",
       "        vertical-align: middle;\n",
       "    }\n",
       "\n",
       "    .dataframe tbody tr th {\n",
       "        vertical-align: top;\n",
       "    }\n",
       "\n",
       "    .dataframe thead th {\n",
       "        text-align: right;\n",
       "    }\n",
       "</style>\n",
       "<table border=\"1\" class=\"dataframe\">\n",
       "  <thead>\n",
       "    <tr style=\"text-align: right;\">\n",
       "      <th></th>\n",
       "      <th>Number of listings</th>\n",
       "      <th>Median number of listings per hotel</th>\n",
       "      <th>Maximum number of listings per hotel</th>\n",
       "      <th>Number of hotels</th>\n",
       "      <th>Revenue earned between August 2019 and August 2020 (GBP)</th>\n",
       "      <th>Revenue earned in August 2020 (GBP)</th>\n",
       "    </tr>\n",
       "    <tr>\n",
       "      <th>Hotel type</th>\n",
       "      <th></th>\n",
       "      <th></th>\n",
       "      <th></th>\n",
       "      <th></th>\n",
       "      <th></th>\n",
       "      <th></th>\n",
       "    </tr>\n",
       "  </thead>\n",
       "  <tbody>\n",
       "    <tr>\n",
       "      <th>Entire home/apt</th>\n",
       "      <td>2380</td>\n",
       "      <td>6</td>\n",
       "      <td>53</td>\n",
       "      <td>486</td>\n",
       "      <td>20174986</td>\n",
       "      <td>713001.30</td>\n",
       "    </tr>\n",
       "    <tr>\n",
       "      <th>Private room</th>\n",
       "      <td>1474</td>\n",
       "      <td>4</td>\n",
       "      <td>31</td>\n",
       "      <td>329</td>\n",
       "      <td>7644745</td>\n",
       "      <td>202662.86</td>\n",
       "    </tr>\n",
       "  </tbody>\n",
       "</table>\n",
       "</div>"
      ],
      "text/plain": [
       "                 Number of listings  Median number of listings per hotel  \\\n",
       "Hotel type                                                                 \n",
       "Entire home/apt                2380                                    6   \n",
       "Private room                   1474                                    4   \n",
       "\n",
       "                 Maximum number of listings per hotel  Number of hotels  \\\n",
       "Hotel type                                                                \n",
       "Entire home/apt                                    53               486   \n",
       "Private room                                       31               329   \n",
       "\n",
       "                 Revenue earned between August 2019 and August 2020 (GBP)  \\\n",
       "Hotel type                                                                  \n",
       "Entire home/apt                                           20174986          \n",
       "Private room                                               7644745          \n",
       "\n",
       "                 Revenue earned in August 2020 (GBP)  \n",
       "Hotel type                                            \n",
       "Entire home/apt                            713001.30  \n",
       "Private room                               202662.86  "
      ]
     },
     "execution_count": 33,
     "metadata": {},
     "output_type": "execute_result"
    }
   ],
   "source": [
    "hotel_type_grouped"
   ]
  },
  {
   "cell_type": "markdown",
   "metadata": {},
   "source": [
    "## Position of ghost hotels in the Airbnb market: private-room ghost hotels\n",
    "\n"
   ]
  },
  {
   "cell_type": "markdown",
   "metadata": {},
   "source": [
    "## Ghost hotels are concentrated in areas with low overall Airbnb density"
   ]
  },
  {
   "cell_type": "markdown",
   "metadata": {},
   "source": [
    "Necessary information:\n",
    "- Both types of ghost hotels are considered together in this analysis, as they have similar impacts on local quality of life\n",
    "- **Map of ghost hotels, colored according to the number of listings associated with the ghost hotel**"
   ]
  },
  {
   "cell_type": "markdown",
   "metadata": {},
   "source": [
    "## Ghost hotels are associated with new-build developments"
   ]
  },
  {
   "cell_type": "code",
   "execution_count": null,
   "metadata": {},
   "outputs": [],
   "source": [
    "private_room_ghosts.groupby('hotel_id').revenue.sum().sort_values(ascending=False)[0:10]"
   ]
  },
  {
   "cell_type": "code",
   "execution_count": null,
   "metadata": {},
   "outputs": [],
   "source": [
    "private_room_ghosts[\n",
    "    private_room_ghosts['hotel_id'] == 90\n",
    "]"
   ]
  },
  {
   "cell_type": "code",
   "execution_count": null,
   "metadata": {},
   "outputs": [],
   "source": [
    "entire_home_ghosts.groupby('hotel_id').revenue.sum().sort_values(ascending=False)[0:10]"
   ]
  },
  {
   "cell_type": "code",
   "execution_count": null,
   "metadata": {},
   "outputs": [],
   "source": [
    "entire_home_ghosts[\n",
    "    entire_home_ghosts['hotel_id'] == 46\n",
    "]"
   ]
  },
  {
   "cell_type": "code",
   "execution_count": null,
   "metadata": {},
   "outputs": [],
   "source": []
  }
 ],
 "metadata": {
  "kernelspec": {
   "display_name": "Python 3",
   "language": "python",
   "name": "python3"
  },
  "language_info": {
   "codemirror_mode": {
    "name": "ipython",
    "version": 3
   },
   "file_extension": ".py",
   "mimetype": "text/x-python",
   "name": "python",
   "nbconvert_exporter": "python",
   "pygments_lexer": "ipython3",
   "version": "3.7.8"
  }
 },
 "nbformat": 4,
 "nbformat_minor": 4
}
