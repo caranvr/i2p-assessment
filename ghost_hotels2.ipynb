{
 "cells": [
  {
   "cell_type": "markdown",
   "metadata": {},
   "source": [
    "# Identifying ghost hotels"
   ]
  },
  {
   "cell_type": "code",
   "execution_count": 1,
   "metadata": {},
   "outputs": [],
   "source": [
    "import os\n",
    "import numpy as np\n",
    "import pandas as pd\n",
    "import geopandas as gpd\n",
    "import matplotlib.cm as cm\n",
    "import matplotlib.pyplot as plt\n",
    "import re\n",
    "from pysal.lib import weights\n",
    "\n",
    "from sklearn.feature_extraction.text import TfidfVectorizer\n",
    "from scipy.spatial.distance import pdist, squareform\n",
    "from sklearn.metrics import pairwise_distances_chunked\n",
    "from sklearn.cluster import DBSCAN\n",
    "from numbers import Number\n",
    "from geopy.distance import great_circle\n",
    "from shapely.geometry import MultiPoint"
   ]
  },
  {
   "cell_type": "code",
   "execution_count": 2,
   "metadata": {},
   "outputs": [],
   "source": [
    "norm_df = pd.read_csv('https://github.com/jreades/i2p/blob/master/data/clean/2020-08-24-listings-with-nlp-subset.csv.gz?raw=true',\n",
    "                compression='gzip', dtype={'id':np.float64, 'listing_url':str, 'name':str, 'description':str, 'description_norm':str})\n",
    "ref_df = pd.read_csv('https://github.com/jreades/i2p/blob/master/data/src/2020-08-24-listings.csv.gz?raw=true',\n",
    "                    compression='gzip', usecols=['id', 'room_type', 'calculated_host_listings_count', 'calculated_host_listings_count_entire_homes', 'host_id', 'host_name', 'availability_365', 'latitude', 'longitude', 'price', 'number_of_reviews_ltm', 'minimum_nights'],\n",
    "                    dtype={'id':np.float64,\n",
    "                           'room_type':str, \n",
    "                           'calculated_host_listings_count':np.float64,\n",
    "                           'calculated_host_listings_count_entire_homes':np.float64,\n",
    "                           'host_id':np.float64, \n",
    "                           'host_name':str, \n",
    "                           'availability_365':np.float64,\n",
    "                           'latitude':np.float64,\n",
    "                          'longitude':np.float64,\n",
    "                          'price':str,\n",
    "                          'number_of_reviews_ltm':np.float64,\n",
    "                          'minimum_nights':np.float64})"
   ]
  },
  {
   "cell_type": "code",
   "execution_count": 24,
   "metadata": {},
   "outputs": [
    {
     "name": "stdout",
     "output_type": "stream",
     "text": [
      "0.78% of listings cannot be used in the analysis, and will be dropped\n",
      "Converting id\n",
      "Converting host_id\n",
      "Converting calculated_host_listings_count\n",
      "Converting calculated_host_listings_count_entire_homes\n",
      "Converting availability_365\n",
      "Converting number_of_reviews_ltm\n",
      "Converting minimum_nights\n"
     ]
    }
   ],
   "source": [
    "df = pd.merge(norm_df, ref_df, on='id') #default is inner so we leave it\n",
    "problematic_listings = df[(df.room_type == 'Hotel room') |\n",
    "           (df.id.isna()) |\n",
    "           (df.calculated_host_listings_count.isna()) |\n",
    "           (df.latitude.isna())]\n",
    "print(f'{(problematic_listings.shape[0]/df.shape[0])*100:.2f}% of listings cannot be used in the analysis, and will be dropped')\n",
    "df.drop(problematic_listings.index, inplace=True)\n",
    "\n",
    "#Converting columns\n",
    "df['price'] = df['price'].str.replace('$','').str.replace(',','').astype('float')\n",
    "ints = ['id', 'host_id', 'calculated_host_listings_count', 'calculated_host_listings_count_entire_homes', 'availability_365', 'number_of_reviews_ltm', 'minimum_nights']\n",
    "for i in ints:\n",
    "    print(f\"Converting {i}\")\n",
    "    try:\n",
    "        df[i] = df[i].astype('int')\n",
    "    except ValueError as e:\n",
    "        print(\"\\tConverting to unsigned 16-bit integer.\")\n",
    "        df[i] = df[i].astype(pd.UInt16Dtype())\n",
    "\n",
    "#Setting custom index\n",
    "df.set_index('id', inplace=True)"
   ]
  },
  {
   "cell_type": "code",
   "execution_count": 13,
   "metadata": {},
   "outputs": [
    {
     "data": {
      "text/plain": [
       "<AxesSubplot:ylabel='Frequency'>"
      ]
     },
     "execution_count": 13,
     "metadata": {},
     "output_type": "execute_result"
    },
    {
     "data": {
      "image/png": "[encoded data removed]",
      "text/plain": [
       "<Figure size 432x288 with 1 Axes>"
      ]
     },
     "metadata": {
      "needs_background": "light"
     },
     "output_type": "display_data"
    }
   ],
   "source": [
    "#Find values of abnormally priced listings\n",
    "pd.Series(sorted(df['price'].values, reverse=True)[:100]).plot.hist(bins=100) #some listings have abnormally high values"
   ]
  },
  {
   "cell_type": "code",
   "execution_count": 25,
   "metadata": {},
   "outputs": [
    {
     "name": "stdout",
     "output_type": "stream",
     "text": [
      "0.01% of listings had abnormally high prices that may skew the revenue analysis, and will be dropped\n"
     ]
    }
   ],
   "source": [
    "#Dropping listings with abnormally high prices\n",
    "abnormal_prices = df[df['price'] > 10000]\n",
    "print(f'{(abnormal_prices.shape[0]/df.shape[0])*100:.2f}% of listings had abnormally high prices that may skew the revenue analysis, and will be dropped')\n",
    "df.drop(abnormal_prices.index, inplace=True)"
   ]
  },
  {
   "cell_type": "code",
   "execution_count": 26,
   "metadata": {},
   "outputs": [],
   "source": [
    "#Finding revenue from revenue-generating listings\n",
    "def get_revenue(minimum_nights:int, number_of_reviews_ltm:int, price:float) -> float:\n",
    "    s = 5.3 #average stay in London, based on GLA report\n",
    "    if minimum_nights > s: #hosts can set a minimum nights stay of longer than 5.3 nights\n",
    "        s = minimum_nights\n",
    "    b = 2 * number_of_reviews_ltm #assumes that 50% of bookings result in reviews, based on Inside Airbnb model\n",
    "    occupancy = s*b #estimates number of nights property was occupied\n",
    "    if occupancy > 255: #building on GLA report, occupancy is capped at 255 nights\n",
    "        occupancy = 255\n",
    "    p = price \n",
    "    rev = occupancy * p #revenue is multiplied by the nightly price and number of nights occupied\n",
    "    return rev\n",
    "\n",
    "df['revenue'] = df.apply(lambda x: get_revenue(x.minimum_nights, x.number_of_reviews_ltm, x.price), axis=1)"
   ]
  },
  {
   "cell_type": "code",
   "execution_count": 27,
   "metadata": {},
   "outputs": [
    {
     "name": "stdout",
     "output_type": "stream",
     "text": [
      "54.38% of listings did not generate revenue in the past year, and will be dropped\n",
      "33578 listings will be used in the analysis\n"
     ]
    }
   ],
   "source": [
    "#Dropping non-revenue generating listings and listings with abnormal prices, which indicate lack of availability or typos\n",
    "non_revenue = df[df['revenue'] == 0]\n",
    "\n",
    "print(f'{(non_revenue.shape[0]/df.shape[0])*100:.2f}% of listings did not generate revenue in the past year, and will be dropped')\n",
    "\n",
    "df.drop(non_revenue.index, inplace=True)\n",
    "print(f'{df.shape[0]} listings will be used in the analysis')"
   ]
  },
  {
   "cell_type": "markdown",
   "metadata": {},
   "source": [
    "## Ghost hotel extraction"
   ]
  },
  {
   "cell_type": "code",
   "execution_count": 31,
   "metadata": {},
   "outputs": [],
   "source": [
    "def ghost_hotels(df):\n",
    "    '''This function isolates potential ghost listings and performs textual + spatial cluster analysis.\n",
    "    Use the original listings df as the input, and assign the output of this function to a new df'''\n",
    "    potential_ghosts = df[(df['calculated_host_listings_count_entire_homes'] >= 2) &\n",
    "                   (df['room_type'] == 'Entire home/apt') &\n",
    "                   (~df['description_norm'].isna())].copy()\n",
    "    print(f'There are {potential_ghosts.shape[0]} candidates for ghost listings, which make up {(potential_ghosts.shape[0]/df.shape[0])*100:.2f}% of revenue-generating listings in London.')\n",
    "    \n",
    "    print('Running textual similarity analysis...')\n",
    "    corpus = potential_ghosts.description_norm.values\n",
    "    vectorizer = TfidfVectorizer(use_idf=True, ngram_range=(1,2), max_df=0.5, min_df=0.05)\n",
    "    #ignore terms that appear in over 50% or less than 5% of documents to save memory\n",
    "    tcorpus = vectorizer.fit_transform(corpus).toarray() \n",
    "    #fit creates list of words/ngrams + IDF scores\n",
    "    #transform creates matrix of TF/IDF scores per word/ngram\n",
    "    #convert to array for cosine similarity step\n",
    "    \n",
    "    #Cosine distance analysis\n",
    "    keys = potential_ghosts.index #allows cosine distance calculator output to be indexed by listing ID, which makes analysis easier\n",
    "    cosine_distances = pd.DataFrame(squareform(pdist(tcorpus, metric='cosine')), index=keys, columns=keys)\n",
    "    \n",
    "    #Filtering down to listings that meet criteria for textual similarity with multiple listings\n",
    "    ghost_listings = cosine_distances[(cosine_distances < 0.2).sum(1) > 2].index.tolist()\n",
    "    ghost_listings_mat = cosine_distances.loc[ghost_listings, ghost_listings]\n",
    "    print(f'{ghost_listings_mat.shape[0]} listings had more than 1 textually similar listing, and will be used in the text clustering process.')\n",
    "    \n",
    "    #Set up data frame to store clustering results, which has all the columns in the original df\n",
    "    results = potential_ghosts.loc[ghost_listings,]\n",
    "    \n",
    "    #Function for implementing both textual and spatial cluster analysis\n",
    "    def db_cluster(df1, df2, eps:Number, metric:str, name:str):\n",
    "        '''Implements DBSCAN clustering algorithm on df1 and stores results in df2'''\n",
    "        print(f'Running {name} analysis...')\n",
    "        output = DBSCAN(eps=eps, min_samples=3, metric=metric).fit(df1)\n",
    "        s = pd.Series(output.labels_, index=df2.index, name=name) #create series assigning listings to clusters\n",
    "        df2[name] = s #assign series to results df\n",
    "        print(s.value_counts()) #visualise number of listings per cluster\n",
    "        \n",
    "        noise = df2[df2[name] == -1] #identify listings that weren't in clusters\n",
    "        print(f'Dropping {noise.shape[0]} listings that do not belong to a cluster')\n",
    "        df2.drop(noise.index, inplace=True)\n",
    "        return df2 #returns filtered df, with only listings that are in clusters\n",
    "    \n",
    "    #Textual DBSCAN\n",
    "    results = db_cluster(ghost_listings_mat, results, 0.2, 'precomputed', 'text_dbscan')\n",
    "    \n",
    "    #Spatial DBSCAN\n",
    "    spatial_dbs_listings = results[['latitude', 'longitude']] #isolate latitude/longitude pairs\n",
    "    spatial_dbs_listings = spatial_dbs_listings.apply(np.radians) #convert coordinates to radians for use in DBSCAN clustering\n",
    "    \n",
    "    e = 0.3/6371.0088 #divide maximum distance (in km) between two listings that could be in the same building by km per radian\n",
    "    results = db_cluster(spatial_dbs_listings, results, e, 'haversine', 'geo_dbscan')\n",
    "    \n",
    "    #Identify potential hotels by grouping results df by combination of clusters\n",
    "    #We assume that potential hotels are in the same spatial and textual clusters\n",
    "    hotels = results.groupby(['geo_dbscan','text_dbscan']).size().reset_index().rename(columns={0:'count'})\n",
    "    print(f'There are {hotels.shape[0]} potential ghost hotels in London.')\n",
    "    \n",
    "    #Match hotels to listings\n",
    "    hotels['hotel_id'] = hotels.index.values   \n",
    "    results['id'] = results.index.values #the merge can reset the index, which we don't want\n",
    "    final_results = results.merge(hotels, how='left').set_index('id')\n",
    "    print(f'{final_results.shape[0]} listings are in potential ghost hotels, which account for {(final_results.shape[0]/df.shape[0])*100:.2f}% of revenue-generating listings')\n",
    "    \n",
    "    #Free up memory so this function can be run on other listing datasets\n",
    "    del(tcorpus)\n",
    "    del(cosine_distances)\n",
    "    \n",
    "    return final_results"
   ]
  },
  {
   "cell_type": "code",
   "execution_count": 32,
   "metadata": {},
   "outputs": [
    {
     "name": "stdout",
     "output_type": "stream",
     "text": [
      "There are 9419 candidates for ghost listings, which make up 28.05% of revenue-generating listings in London.\n",
      "Running textual similarity analysis...\n",
      "2687 listings had more than 1 textually similar listing, and will be used in the text clustering process.\n",
      "Running text_dbscan analysis...\n",
      " 139    147\n",
      " 202    107\n",
      " 148     50\n",
      " 293     42\n",
      "-1       36\n",
      "       ... \n",
      " 15       3\n",
      " 11       3\n",
      " 7        3\n",
      " 5        3\n",
      " 0        3\n",
      "Name: text_dbscan, Length: 414, dtype: int64\n",
      "Dropping 36 listings that do not belong to a cluster\n",
      "Running geo_dbscan analysis...\n",
      " 1      652\n",
      " 8      289\n",
      " 10     196\n",
      " 11     164\n",
      "-1       98\n",
      "       ... \n",
      " 86       3\n",
      " 84       3\n",
      " 72       3\n",
      " 70       3\n",
      " 128      3\n",
      "Name: geo_dbscan, Length: 130, dtype: int64\n",
      "Dropping 98 listings that do not belong to a cluster\n",
      "There are 496 potential ghost hotels in London.\n",
      "2553 listings are in potential ghost hotels, which account for 7.603193% of revenue-generating listings\n"
     ]
    }
   ],
   "source": [
    "ghost_hotels_20 = ghost_hotels(df)"
   ]
  },
  {
   "cell_type": "markdown",
   "metadata": {},
   "source": [
    "Before the analysis, we have to exclude listings from Sonder, a serviced apartment company that is licensed to run as a hotel. This clustering analysis identified Sonder's listings as potential ghost hotels. "
   ]
  },
  {
   "cell_type": "code",
   "execution_count": 78,
   "metadata": {},
   "outputs": [
    {
     "name": "stdout",
     "output_type": "stream",
     "text": [
      "2406 listings are in suspected ghost hotels.\n"
     ]
    }
   ],
   "source": [
    "ghost_hotels_20.drop(ghost_hotels_20[\n",
    "    ghost_hotels_20['host_name'].str.contains('Sonder')\n",
    "].index, inplace=True)\n",
    "\n",
    "print(f'{ghost_hotels_20.shape[0]} listings are in suspected ghost hotels.')"
   ]
  },
  {
   "cell_type": "markdown",
   "metadata": {},
   "source": [
    "## Revenue analysis"
   ]
  },
  {
   "cell_type": "markdown",
   "metadata": {},
   "source": [
    "### How much of the total revenue from Airbnb in London was generated by ghost hotels between 2019 and 2020?"
   ]
  },
  {
   "cell_type": "code",
   "execution_count": null,
   "metadata": {},
   "outputs": [],
   "source": [
    "def revenue_analysis(df1, df2):\n",
    "    '''This function analyses ghost-hotel listings' share of listings and revenue compared to entire-home listings\n",
    "    and Airbnb listings in total.\n",
    "    df1 is the full df of revenue-generating listings, and df2 is the df of suspected ghost-hotel listings.'''\n",
    "    \n",
    "    df1['is_ghost_listing'] = df1.index.isin(df2.index.values) #produce boolean series indicating whether or not a listing is a ghost-hotel listing\n",
    "    entire_homes = df1[df1['room_type'] == 'Entire home/apt'] #isolate entire home listings\n",
    "    \n",
    "    def get_stat_table(df, name):\n",
    "        '''This helper function produces the table used for the revenue analysis.\n",
    "        name = df1 name if comparing to all listings, entire_homes if comp'''\n",
    "    "
   ]
  },
  {
   "cell_type": "code",
   "execution_count": 79,
   "metadata": {},
   "outputs": [],
   "source": [
    "df['is_ghost_listing'] = df.index.isin(ghost_hotels_20.index.values)"
   ]
  },
  {
   "cell_type": "code",
   "execution_count": 80,
   "metadata": {},
   "outputs": [],
   "source": [
    "#Necessary information:\n",
    "# - % of listings\n",
    "# - % of revenue\n",
    "ghost_vs_total = df.groupby('is_ghost_listing').agg({'revenue': ['count', 'sum', 'mean', 'min', 'max', 'median']})\n",
    "ghost_vs_total.columns = ghost_vs_total.columns.droplevel(0)"
   ]
  },
  {
   "cell_type": "code",
   "execution_count": 81,
   "metadata": {},
   "outputs": [
    {
     "data": {
      "text/html": [
       "<div>\n",
       "<style scoped>\n",
       "    .dataframe tbody tr th:only-of-type {\n",
       "        vertical-align: middle;\n",
       "    }\n",
       "\n",
       "    .dataframe tbody tr th {\n",
       "        vertical-align: top;\n",
       "    }\n",
       "\n",
       "    .dataframe thead th {\n",
       "        text-align: right;\n",
       "    }\n",
       "</style>\n",
       "<table border=\"1\" class=\"dataframe\">\n",
       "  <thead>\n",
       "    <tr style=\"text-align: right;\">\n",
       "      <th></th>\n",
       "      <th>count</th>\n",
       "      <th>sum</th>\n",
       "      <th>mean</th>\n",
       "      <th>min</th>\n",
       "      <th>max</th>\n",
       "      <th>median</th>\n",
       "    </tr>\n",
       "    <tr>\n",
       "      <th>is_ghost_listing</th>\n",
       "      <th></th>\n",
       "      <th></th>\n",
       "      <th></th>\n",
       "      <th></th>\n",
       "      <th></th>\n",
       "      <th></th>\n",
       "    </tr>\n",
       "  </thead>\n",
       "  <tbody>\n",
       "    <tr>\n",
       "      <th>False</th>\n",
       "      <td>31172</td>\n",
       "      <td>2.105272e+08</td>\n",
       "      <td>6753.727399</td>\n",
       "      <td>84.8</td>\n",
       "      <td>2040000.0</td>\n",
       "      <td>3498.0</td>\n",
       "    </tr>\n",
       "    <tr>\n",
       "      <th>True</th>\n",
       "      <td>2406</td>\n",
       "      <td>2.197859e+07</td>\n",
       "      <td>9134.909600</td>\n",
       "      <td>148.4</td>\n",
       "      <td>483232.8</td>\n",
       "      <td>5289.4</td>\n",
       "    </tr>\n",
       "  </tbody>\n",
       "</table>\n",
       "</div>"
      ],
      "text/plain": [
       "                  count           sum         mean    min        max  median\n",
       "is_ghost_listing                                                            \n",
       "False             31172  2.105272e+08  6753.727399   84.8  2040000.0  3498.0\n",
       "True               2406  2.197859e+07  9134.909600  148.4   483232.8  5289.4"
      ]
     },
     "execution_count": 81,
     "metadata": {},
     "output_type": "execute_result"
    }
   ],
   "source": [
    "ghost_vs_total"
   ]
  },
  {
   "cell_type": "code",
   "execution_count": 82,
   "metadata": {},
   "outputs": [
    {
     "name": "stdout",
     "output_type": "stream",
     "text": [
      "Entire-home ghost hotel listings make up 10.44% of Airbnb listings in London,\n",
      "and accounted for 7.72% of total revenue produced from August 2019 to August 2020.\n"
     ]
    }
   ],
   "source": [
    "print(f\"\"\"Entire-home ghost hotel listings make up {(ghost_vs_total['sum'].values[1]/ghost_vs_total['sum'].values[0])*100:.2f}% of Airbnb listings in London,\n",
    "and accounted for {(ghost_vs_total['count'].values[1]/ghost_vs_total['count'].values[0])*100:.2f}% of total revenue produced from August 2019 to August 2020.\"\"\")"
   ]
  },
  {
   "cell_type": "markdown",
   "metadata": {},
   "source": [
    "### How much of the revenue from entire-home listings was generated by ghost hotels between 2019 and 2020?"
   ]
  },
  {
   "cell_type": "code",
   "execution_count": 83,
   "metadata": {},
   "outputs": [],
   "source": [
    "entire_homes = df[df['room_type'] == 'Entire home/apt']"
   ]
  },
  {
   "cell_type": "code",
   "execution_count": 84,
   "metadata": {},
   "outputs": [],
   "source": [
    "ghost_vs_entirehomes = entire_homes.groupby('is_ghost_listing').agg({'revenue': ['count', 'sum', 'mean', 'min', 'max', 'median']})\n",
    "ghost_vs_entirehomes.columns = ghost_vs_entirehomes.columns.droplevel(0)"
   ]
  },
  {
   "cell_type": "code",
   "execution_count": 85,
   "metadata": {},
   "outputs": [
    {
     "data": {
      "text/html": [
       "<div>\n",
       "<style scoped>\n",
       "    .dataframe tbody tr th:only-of-type {\n",
       "        vertical-align: middle;\n",
       "    }\n",
       "\n",
       "    .dataframe tbody tr th {\n",
       "        vertical-align: top;\n",
       "    }\n",
       "\n",
       "    .dataframe thead th {\n",
       "        text-align: right;\n",
       "    }\n",
       "</style>\n",
       "<table border=\"1\" class=\"dataframe\">\n",
       "  <thead>\n",
       "    <tr style=\"text-align: right;\">\n",
       "      <th></th>\n",
       "      <th>count</th>\n",
       "      <th>sum</th>\n",
       "      <th>mean</th>\n",
       "      <th>min</th>\n",
       "      <th>max</th>\n",
       "      <th>median</th>\n",
       "    </tr>\n",
       "    <tr>\n",
       "      <th>is_ghost_listing</th>\n",
       "      <th></th>\n",
       "      <th></th>\n",
       "      <th></th>\n",
       "      <th></th>\n",
       "      <th></th>\n",
       "      <th></th>\n",
       "    </tr>\n",
       "  </thead>\n",
       "  <tbody>\n",
       "    <tr>\n",
       "      <th>False</th>\n",
       "      <td>17400</td>\n",
       "      <td>1.499614e+08</td>\n",
       "      <td>8618.472051</td>\n",
       "      <td>212.0</td>\n",
       "      <td>239717.304</td>\n",
       "      <td>4706.4</td>\n",
       "    </tr>\n",
       "    <tr>\n",
       "      <th>True</th>\n",
       "      <td>2406</td>\n",
       "      <td>2.197859e+07</td>\n",
       "      <td>9134.909600</td>\n",
       "      <td>148.4</td>\n",
       "      <td>483232.800</td>\n",
       "      <td>5289.4</td>\n",
       "    </tr>\n",
       "  </tbody>\n",
       "</table>\n",
       "</div>"
      ],
      "text/plain": [
       "                  count           sum         mean    min         max  median\n",
       "is_ghost_listing                                                             \n",
       "False             17400  1.499614e+08  8618.472051  212.0  239717.304  4706.4\n",
       "True               2406  2.197859e+07  9134.909600  148.4  483232.800  5289.4"
      ]
     },
     "execution_count": 85,
     "metadata": {},
     "output_type": "execute_result"
    }
   ],
   "source": [
    "ghost_vs_entirehomes"
   ]
  },
  {
   "cell_type": "code",
   "execution_count": 86,
   "metadata": {},
   "outputs": [
    {
     "name": "stdout",
     "output_type": "stream",
     "text": [
      "Ghost hotel listings make up 14.66% of entire-home listings in London,\n",
      "and accounted for 13.83% of total revenue produced by entire-home listings from August 2019 to August 2020.\n"
     ]
    }
   ],
   "source": [
    "print(f\"\"\"Ghost hotel listings make up {(ghost_vs_entirehomes['sum'].values[1]/ghost_vs_entirehomes['sum'].values[0])*100:.2f}% of entire-home listings in London,\n",
    "and accounted for {(ghost_vs_entirehomes['count'].values[1]/ghost_vs_entirehomes['count'].values[0])*100:.2f}% of total revenue produced by entire-home listings from August 2019 to August 2020.\"\"\")"
   ]
  },
  {
   "cell_type": "markdown",
   "metadata": {},
   "source": [
    "## The spatial bits!"
   ]
  },
  {
   "cell_type": "code",
   "execution_count": 87,
   "metadata": {},
   "outputs": [],
   "source": [
    "gdf = gpd.GeoDataFrame(df, \n",
    "      geometry=gpd.points_from_xy(df['longitude'], df['latitude'], crs='epsg:4326'))\n",
    "boros = gpd.read_file('https://github.com/jreades/i2p/blob/master/data/src/Boroughs.gpkg?raw=true')\n",
    "gdf = gdf.to_crs(boros.crs) #reproject so that we can map it later"
   ]
  },
  {
   "cell_type": "markdown",
   "metadata": {},
   "source": [
    "### Mapping ghost hotels"
   ]
  },
  {
   "cell_type": "code",
   "execution_count": 126,
   "metadata": {},
   "outputs": [],
   "source": [
    "geo_ghost_hotels = pd.merge(ghost_hotels_20, gdf, how='left', left_index=True, right_index=True)[['geometry', 'hotel_id', 'count']]"
   ]
  },
  {
   "cell_type": "code",
   "execution_count": 130,
   "metadata": {},
   "outputs": [
    {
     "data": {
      "text/plain": [
       "<AxesSubplot:>"
      ]
     },
     "execution_count": 130,
     "metadata": {},
     "output_type": "execute_result"
    },
    {
     "data": {
      "image/png": "[encoded data removed]",
      "text/plain": [
       "<Figure size 864x720 with 2 Axes>"
      ]
     },
     "metadata": {
      "needs_background": "light"
     },
     "output_type": "display_data"
    }
   ],
   "source": [
    "geo_ghost_hotels = gpd.GeoDataFrame(\n",
    "    geo_ghost_hotels, geometry='geometry', crs='epsg:27700')\n",
    "\n",
    "\n",
    "fig, ax = plt.subplots(1,1, figsize=(12,10))\n",
    "boros.plot(ax=ax)\n",
    "geo_ghost_hotels.plot(ax=ax, column='count', legend=True)"
   ]
  },
  {
   "cell_type": "code",
   "execution_count": 132,
   "metadata": {},
   "outputs": [
    {
     "data": {
      "text/plain": [
       "<AxesSubplot:ylabel='Frequency'>"
      ]
     },
     "execution_count": 132,
     "metadata": {},
     "output_type": "execute_result"
    },
    {
     "data": {
      "image/png": "[encoded data removed]",
      "text/plain": [
       "<Figure size 432x288 with 1 Axes>"
      ]
     },
     "metadata": {
      "needs_background": "light"
     },
     "output_type": "display_data"
    }
   ],
   "source": [
    "geo_ghost_hotels[['count']].plot.hist()"
   ]
  },
  {
   "cell_type": "markdown",
   "metadata": {},
   "source": [
    "### Mapping percentage of listings in each MSOA that are ghost hotels"
   ]
  },
  {
   "cell_type": "code",
   "execution_count": null,
   "metadata": {},
   "outputs": [],
   "source": [
    "#Get MSOAs and extract MSOAs that are in London\n",
    "msoas = gpd.read_file('https://github.com/jreades/i2p/blob/master/data/src/Middle_Layer_Super_Output_Areas__December_2011__EW_BGC_V2-shp.zip?raw=true')\n",
    "\n",
    "#Dissolve borough boundaries by London boundary\n",
    "ldn = gpd.GeoDataFrame(gpd.GeoSeries(data=boros.unary_union, crs='epsg:27700')).rename(columns={0:'original'})\n",
    "ldn['geometry'] = ldn.original.buffer(250)\n",
    "ldn = ldn.set_geometry('geometry')\n",
    "\n",
    "ldn_msoas = gpd.sjoin(msoas, ldn, op='within')\n",
    "del(msoas)"
   ]
  }
 ],
 "metadata": {
  "kernelspec": {
   "display_name": "Python 3",
   "language": "python",
   "name": "python3"
  },
  "language_info": {
   "codemirror_mode": {
    "name": "ipython",
    "version": 3
   },
   "file_extension": ".py",
   "mimetype": "text/x-python",
   "name": "python",
   "nbconvert_exporter": "python",
   "pygments_lexer": "ipython3",
   "version": "3.7.8"
  }
 },
 "nbformat": 4,
 "nbformat_minor": 4
}
