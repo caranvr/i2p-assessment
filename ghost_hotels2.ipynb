{
 "cells": [
  {
   "cell_type": "markdown",
   "metadata": {},
   "source": [
    "# Identifying ghost hotels"
   ]
  },
  {
   "cell_type": "code",
   "execution_count": 1,
   "metadata": {},
   "outputs": [],
   "source": [
    "import os\n",
    "import numpy as np\n",
    "import pandas as pd\n",
    "import geopandas as gpd\n",
    "import matplotlib.cm as cm\n",
    "import matplotlib.pyplot as plt\n",
    "import re\n",
    "from pysal.lib import weights\n",
    "\n",
    "from sklearn.feature_extraction.text import TfidfVectorizer\n",
    "from scipy.spatial.distance import pdist, squareform\n",
    "from sklearn.cluster import DBSCAN\n",
    "from numbers import Number"
   ]
  },
  {
   "cell_type": "code",
   "execution_count": 2,
   "metadata": {},
   "outputs": [],
   "source": [
    "#Using a dataset with pre-normalised descriptions to reduce computational intensity\n",
    "norm_df = pd.read_csv('https://github.com/jreades/i2p/blob/master/data/clean/2020-08-24-listings-with-nlp-subset.csv.gz?raw=true',\n",
    "                compression='gzip', dtype={'id':np.float64, 'name':str, 'listing_url':str, 'name':str, 'description':str, 'description_norm':str})\n",
    "\n",
    "#Dataset with additional info\n",
    "ref_df = pd.read_csv('https://github.com/jreades/i2p/blob/master/data/src/2020-08-24-listings.csv.gz?raw=true',\n",
    "                    compression='gzip', usecols=['id', 'room_type', 'calculated_host_listings_count', 'calculated_host_listings_count_entire_homes', 'calculated_host_listings_count_private_rooms', 'host_id', 'host_name', 'availability_365', 'latitude', 'longitude', 'price', 'number_of_reviews_ltm', 'minimum_nights'],\n",
    "                    dtype={'id':np.float64,\n",
    "                           'room_type':str, \n",
    "                           'calculated_host_listings_count':np.float64,\n",
    "                           'calculated_host_listings_count_entire_homes':np.float64,\n",
    "                           'calculated_host_listings_count_private_rooms':np.float64,\n",
    "                           'host_id':np.float64, \n",
    "                           'host_name':str, \n",
    "                           'availability_365':np.float64,\n",
    "                           'latitude':np.float64,\n",
    "                          'longitude':np.float64,\n",
    "                          'price':str,\n",
    "                          'number_of_reviews_ltm':np.float64,\n",
    "                          'minimum_nights':np.float64})"
   ]
  },
  {
   "cell_type": "code",
   "execution_count": 3,
   "metadata": {},
   "outputs": [
    {
     "name": "stdout",
     "output_type": "stream",
     "text": [
      "0.78% of listings cannot be used in the analysis, and will be dropped\n",
      "Converting id\n",
      "Converting host_id\n",
      "Converting calculated_host_listings_count\n",
      "Converting calculated_host_listings_count_entire_homes\n",
      "Converting calculated_host_listings_count_private_rooms\n",
      "Converting availability_365\n",
      "Converting number_of_reviews_ltm\n",
      "Converting minimum_nights\n"
     ]
    }
   ],
   "source": [
    "df = pd.merge(norm_df, ref_df, on='id') #default is inner so we leave it\n",
    "problematic_listings = df[(df.room_type == 'Hotel room') |\n",
    "           (df.id.isna()) |\n",
    "           (df.calculated_host_listings_count.isna()) |\n",
    "           (df.latitude.isna())]\n",
    "print(f'{(problematic_listings.shape[0]/df.shape[0])*100:.2f}% of listings cannot be used in the analysis, and will be dropped')\n",
    "df.drop(problematic_listings.index, inplace=True)\n",
    "\n",
    "#Converting columns\n",
    "df['price'] = df['price'].str.replace('$','').str.replace(',','').astype('float')\n",
    "ints = ['id', 'host_id', 'calculated_host_listings_count', 'calculated_host_listings_count_entire_homes', 'calculated_host_listings_count_private_rooms', 'availability_365', 'number_of_reviews_ltm', 'minimum_nights']\n",
    "for i in ints:\n",
    "    print(f\"Converting {i}\")\n",
    "    try:\n",
    "        df[i] = df[i].astype('int')\n",
    "    except ValueError as e:\n",
    "        print(\"\\tConverting to unsigned 16-bit integer.\")\n",
    "        df[i] = df[i].astype(pd.UInt16Dtype())\n",
    "\n",
    "#Setting custom index\n",
    "df.set_index('id', inplace=True)"
   ]
  },
  {
   "cell_type": "code",
   "execution_count": 4,
   "metadata": {},
   "outputs": [
    {
     "name": "stdout",
     "output_type": "stream",
     "text": [
      "748 listings had abnormally high prices that may skew the revenue analysis, and will be dropped\n"
     ]
    }
   ],
   "source": [
    "#Dropping listings with abnormally high prices for their room type\n",
    "eh_cutoff = df[\n",
    "    df['room_type'] == 'Entire home/apt'\n",
    "].price.quantile(.99)\n",
    "\n",
    "prv_cutoff = df[\n",
    "    df['room_type'] == 'Private room'\n",
    "].price.quantile(.99)\n",
    "\n",
    "abnormal_prices = df[\n",
    "    ((df['room_type'] == 'Entire home/apt') & (df['price'] >= eh_cutoff)) |\n",
    "    ((df['room_type'] == 'Private room') & (df['price'] >= prv_cutoff))\n",
    "]\n",
    "\n",
    "print(f'{abnormal_prices.shape[0]} listings had abnormally high prices that may skew the revenue analysis, and will be dropped')\n",
    "df.drop(abnormal_prices.index, inplace=True)"
   ]
  },
  {
   "cell_type": "code",
   "execution_count": 5,
   "metadata": {},
   "outputs": [],
   "source": [
    "#Finding revenue from revenue-generating listings\n",
    "def get_revenue(minimum_nights:int, number_of_reviews_ltm:int, price:float) -> float:\n",
    "    s = 5.3 #average stay in London, based on GLA report\n",
    "    if minimum_nights > s: #hosts can set a minimum nights stay of longer than 5.3 nights\n",
    "        s = minimum_nights\n",
    "    b = 2 * number_of_reviews_ltm #assumes that 50% of bookings result in reviews, based on Inside Airbnb model\n",
    "    occupancy = s*b #estimates number of nights property was occupied\n",
    "    if occupancy > 255: #building on GLA report, occupancy is capped at 255 nights\n",
    "        occupancy = 255\n",
    "    p = price \n",
    "    rev = occupancy * p #revenue is multiplied by the nightly price and number of nights occupied\n",
    "    return rev\n",
    "\n",
    "df['revenue'] = df.apply(lambda x: get_revenue(x.minimum_nights, x.number_of_reviews_ltm, x.price), axis=1)"
   ]
  },
  {
   "cell_type": "code",
   "execution_count": 6,
   "metadata": {},
   "outputs": [
    {
     "name": "stdout",
     "output_type": "stream",
     "text": [
      "54.17% of listings did not generate revenue in the past year, and will be dropped\n",
      "33390 listings will be used in the analysis\n"
     ]
    }
   ],
   "source": [
    "#Dropping non-revenue generating listings and listings with abnormal prices, which indicate lack of availability or typos\n",
    "non_revenue = df[df['revenue'] == 0]\n",
    "\n",
    "print(f'{(non_revenue.shape[0]/df.shape[0])*100:.2f}% of listings did not generate revenue in the past year, and will be dropped')\n",
    "\n",
    "df.drop(non_revenue.index, inplace=True)\n",
    "print(f'{df.shape[0]} listings will be used in the analysis')"
   ]
  },
  {
   "cell_type": "markdown",
   "metadata": {},
   "source": [
    "## Ghost hotel extraction"
   ]
  },
  {
   "cell_type": "code",
   "execution_count": 7,
   "metadata": {},
   "outputs": [],
   "source": [
    "def ghost_hotels(df:pd.DataFrame, room_type:str) -> pd.DataFrame:\n",
    "    '''This function isolates potential ghost listings and performs textual + spatial cluster analysis.\n",
    "    Use the original listings df as the input, and assign the output of this function to a new df,\n",
    "    which will contain ghost listings with their ghost hotel IDs.\n",
    "    Change the room_type depending on whether you want to analyse entire-home ghost hotels or private-room ghost hotels.'''\n",
    "    if room_type == 'Entire home/apt':\n",
    "        potential_ghosts = df[(df['calculated_host_listings_count_entire_homes'] >= 2) &\n",
    "                       (df['room_type'] == room_type) &\n",
    "                       (~df['description_norm'].isna())].copy()\n",
    "    elif room_type == 'Private room':\n",
    "        potential_ghosts = df[(df['calculated_host_listings_count_private_rooms'] > 2) &\n",
    "                             (df['room_type'] == room_type) &\n",
    "                             (~df['description_norm'].isna())].copy()\n",
    "    print(f'There are {potential_ghosts.shape[0]} candidates for {room_type} ghost listings.')\n",
    "    \n",
    "    print('Running textual similarity analysis...')\n",
    "    corpus = potential_ghosts.description_norm.values\n",
    "    vectorizer = TfidfVectorizer(use_idf=True, ngram_range=(1,2), max_df=0.5, min_df=0.05)\n",
    "    #ignore terms that appear in over 50% or less than 5% of documents to save memory\n",
    "    tcorpus = vectorizer.fit_transform(corpus).toarray() \n",
    "    #fit creates list of words/ngrams + IDF scores\n",
    "    #transform creates matrix of TF/IDF scores per word/ngram\n",
    "    #convert to array for cosine similarity step\n",
    "    \n",
    "    #Cosine distance analysis\n",
    "    keys = potential_ghosts.index #allows cosine distance calculator output to be indexed by listing ID, which makes analysis easier\n",
    "    cosine_distances = pd.DataFrame(squareform(pdist(tcorpus, metric='cosine')), index=keys, columns=keys)\n",
    "    \n",
    "    #Filtering down to listings that meet criteria for textual similarity with multiple listings\n",
    "    ghost_listings = cosine_distances[(cosine_distances < 0.2).sum(1) > 2].index.tolist()\n",
    "    ghost_listings_mat = cosine_distances.loc[ghost_listings, ghost_listings]\n",
    "    print(f'{ghost_listings_mat.shape[0]} listings had more than 1 textually similar listing, and will be used in the text clustering process.')\n",
    "    \n",
    "    #Set up data frame to store clustering results, which has all the columns in the original df\n",
    "    results = potential_ghosts.loc[ghost_listings,]\n",
    "    \n",
    "    #Function for implementing both textual and spatial cluster analysis\n",
    "    def db_cluster(df1, df2, eps:Number, metric:str, name:str):\n",
    "        '''Implements DBSCAN clustering algorithm on df1 and stores results in df2'''\n",
    "        print(f'Running {name} analysis...')\n",
    "        output = DBSCAN(eps=eps, min_samples=3, metric=metric).fit(df1)\n",
    "        s = pd.Series(output.labels_, index=df2.index, name=name) #create series assigning listings to clusters\n",
    "        df2[name] = s #assign series to results df     \n",
    "        noise = df2[df2[name] == -1] #identify listings that weren't in clusters\n",
    "        print(f'Dropping {noise.shape[0]} listings that do not belong to a cluster')\n",
    "        df2.drop(noise.index, inplace=True)\n",
    "        return df2 #returns filtered df, with only listings that are in clusters\n",
    "    \n",
    "    #Textual DBSCAN\n",
    "    results = db_cluster(ghost_listings_mat, results, 0.2, 'precomputed', 'text_dbscan')\n",
    "    \n",
    "    #Spatial DBSCAN\n",
    "    spatial_dbs_listings = results[['latitude', 'longitude']] #isolate latitude/longitude pairs\n",
    "    spatial_dbs_listings = spatial_dbs_listings.apply(np.radians) #convert coordinates to radians for use in DBSCAN clustering\n",
    "    \n",
    "    e = 0.3/6371.0088 #divide maximum distance (in km) between two listings that could be in the same building by km per radian\n",
    "    results = db_cluster(spatial_dbs_listings, results, e, 'haversine', 'geo_dbscan')\n",
    "    \n",
    "    #Identify potential hotels by grouping results df by combination of clusters\n",
    "    #We assume that potential hotels are in the same spatial and textual clusters\n",
    "    hotels = results.groupby(['geo_dbscan','text_dbscan']).size().reset_index().rename(columns={0:'count'})\n",
    "    print(f'There are {hotels.shape[0]} potential {room_type} ghost hotels in London.')\n",
    "    \n",
    "    #Match hotels to listings\n",
    "    hotels['hotel_id'] = hotels.index.values   \n",
    "    results['id'] = results.index.values #the merge can reset the index, which we don't want\n",
    "    final_results = results.merge(hotels, how='left').set_index('id')\n",
    "    print(f'{final_results.shape[0]} {room_type} listings are in potential ghost hotels, which account for {(final_results.shape[0]/df.shape[0])*100:.2f}% of revenue-generating listings')\n",
    "    \n",
    "    #Free up memory so this function can be run on other listing datasets or another room type\n",
    "    del(tcorpus)\n",
    "    del(cosine_distances)\n",
    "    \n",
    "    return final_results"
   ]
  },
  {
   "cell_type": "code",
   "execution_count": 8,
   "metadata": {},
   "outputs": [
    {
     "name": "stdout",
     "output_type": "stream",
     "text": [
      "There are 9319 candidates for Entire home/apt ghost listings.\n",
      "Running textual similarity analysis...\n",
      "2664 listings had more than 1 textually similar listing, and will be used in the text clustering process.\n",
      "Running text_dbscan analysis...\n",
      "Dropping 35 listings that do not belong to a cluster\n",
      "Running geo_dbscan analysis...\n",
      "Dropping 98 listings that do not belong to a cluster\n",
      "There are 495 potential Entire home/apt ghost hotels in London.\n",
      "2531 Entire home/apt listings are in potential ghost hotels, which account for 7.58% of revenue-generating listings\n"
     ]
    }
   ],
   "source": [
    "entire_home_ghosts = ghost_hotels(df, 'Entire home/apt')"
   ]
  },
  {
   "cell_type": "markdown",
   "metadata": {},
   "source": [
    "Before the analysis, we have to exclude listings from Sonder, a serviced apartment company that is licensed to run as a hotel. This clustering analysis identified Sonder's listings as potential ghost hotels. "
   ]
  },
  {
   "cell_type": "code",
   "execution_count": 9,
   "metadata": {},
   "outputs": [
    {
     "name": "stdout",
     "output_type": "stream",
     "text": [
      "2384 listings are in suspected ghost hotels.\n"
     ]
    }
   ],
   "source": [
    "entire_home_ghosts.drop(entire_home_ghosts[\n",
    "    entire_home_ghosts['host_name'].str.contains('Sonder')\n",
    "].index, inplace=True)\n",
    "\n",
    "print(f'{entire_home_ghosts.shape[0]} listings are in suspected ghost hotels.')"
   ]
  },
  {
   "cell_type": "code",
   "execution_count": 10,
   "metadata": {},
   "outputs": [
    {
     "name": "stdout",
     "output_type": "stream",
     "text": [
      "There are 3645 candidates for Private room ghost listings.\n",
      "Running textual similarity analysis...\n",
      "1532 listings had more than 1 textually similar listing, and will be used in the text clustering process.\n",
      "Running text_dbscan analysis...\n",
      "Dropping 23 listings that do not belong to a cluster\n",
      "Running geo_dbscan analysis...\n",
      "Dropping 29 listings that do not belong to a cluster\n",
      "There are 331 potential Private room ghost hotels in London.\n",
      "1480 Private room listings are in potential ghost hotels, which account for 4.43% of revenue-generating listings\n"
     ]
    }
   ],
   "source": [
    "private_room_ghosts = ghost_hotels(df, 'Private room')"
   ]
  },
  {
   "cell_type": "markdown",
   "metadata": {},
   "source": [
    "## Revenue analysis"
   ]
  },
  {
   "cell_type": "markdown",
   "metadata": {},
   "source": [
    "### How much of the total revenue from Airbnb in London was generated by ghost hotels between 2019 and 2020?"
   ]
  },
  {
   "cell_type": "code",
   "execution_count": null,
   "metadata": {},
   "outputs": [],
   "source": [
    "def revenue_analysis(df1, df2):\n",
    "    '''This function analyses ghost-hotel listings' share of listings and revenue compared to entire-home listings\n",
    "    and Airbnb listings in total.\n",
    "    df1 is the full df of revenue-generating listings, and df2 is the df of suspected ghost-hotel listings.'''\n",
    "    \n",
    "    df1['is_ghost_listing'] = df1.index.isin(df2.index.values) #produce boolean series indicating whether or not a listing is a ghost-hotel listing\n",
    "    entire_homes = df1[df1['room_type'] == 'Entire home/apt'] #isolate entire home listings\n",
    "    \n",
    "    def get_stat_table(df, name):\n",
    "        '''This helper function produces the table used for the revenue analysis.\n",
    "        name = df1 name if comparing to all listings, entire_homes if comp'''\n",
    "    "
   ]
  },
  {
   "cell_type": "code",
   "execution_count": 11,
   "metadata": {},
   "outputs": [],
   "source": [
    "ghost_listings_total = entire_home_ghosts.index.values.tolist() + private_room_ghosts.index.values.tolist()\n",
    "df['is_ghost_listing'] = df.index.isin(ghost_listings_total)"
   ]
  },
  {
   "cell_type": "code",
   "execution_count": 12,
   "metadata": {},
   "outputs": [],
   "source": [
    "#Necessary information:\n",
    "# - % of listings\n",
    "# - % of revenue\n",
    "ghost_vs_total = df.groupby('is_ghost_listing').agg({'revenue': ['count', 'sum', 'median']})\n",
    "ghost_vs_total.columns = ghost_vs_total.columns.droplevel(0)"
   ]
  },
  {
   "cell_type": "code",
   "execution_count": 13,
   "metadata": {},
   "outputs": [
    {
     "data": {
      "text/html": [
       "<div>\n",
       "<style scoped>\n",
       "    .dataframe tbody tr th:only-of-type {\n",
       "        vertical-align: middle;\n",
       "    }\n",
       "\n",
       "    .dataframe tbody tr th {\n",
       "        vertical-align: top;\n",
       "    }\n",
       "\n",
       "    .dataframe thead th {\n",
       "        text-align: right;\n",
       "    }\n",
       "</style>\n",
       "<table border=\"1\" class=\"dataframe\">\n",
       "  <thead>\n",
       "    <tr style=\"text-align: right;\">\n",
       "      <th></th>\n",
       "      <th>count</th>\n",
       "      <th>sum</th>\n",
       "      <th>median</th>\n",
       "    </tr>\n",
       "    <tr>\n",
       "      <th>is_ghost_listing</th>\n",
       "      <th></th>\n",
       "      <th></th>\n",
       "      <th></th>\n",
       "    </tr>\n",
       "  </thead>\n",
       "  <tbody>\n",
       "    <tr>\n",
       "      <th>False</th>\n",
       "      <td>29526</td>\n",
       "      <td>1.917851e+08</td>\n",
       "      <td>3498.000</td>\n",
       "    </tr>\n",
       "    <tr>\n",
       "      <th>True</th>\n",
       "      <td>3864</td>\n",
       "      <td>2.820418e+07</td>\n",
       "      <td>4539.474</td>\n",
       "    </tr>\n",
       "  </tbody>\n",
       "</table>\n",
       "</div>"
      ],
      "text/plain": [
       "                  count           sum    median\n",
       "is_ghost_listing                               \n",
       "False             29526  1.917851e+08  3498.000\n",
       "True               3864  2.820418e+07  4539.474"
      ]
     },
     "execution_count": 13,
     "metadata": {},
     "output_type": "execute_result"
    }
   ],
   "source": [
    "ghost_vs_total"
   ]
  },
  {
   "cell_type": "code",
   "execution_count": 14,
   "metadata": {},
   "outputs": [
    {
     "name": "stdout",
     "output_type": "stream",
     "text": [
      "Ghost hotel listings make up 11.57% of Airbnb listings in London,\n",
      "and accounted for 12.82% of total revenue produced from August 2019 to August 2020.\n"
     ]
    }
   ],
   "source": [
    "print(f\"\"\"Ghost hotel listings make up {(ghost_vs_total['count'].values[1]/df.shape[0])*100:.2f}% of Airbnb listings in London,\n",
    "and accounted for {(ghost_vs_total['sum'].values[1]/df['revenue'].sum())*100:.2f}% of total revenue produced from August 2019 to August 2020.\"\"\")"
   ]
  },
  {
   "cell_type": "markdown",
   "metadata": {},
   "source": [
    "### How much of the revenue from entire-home listings was generated by ghost hotels between 2019 and 2020?"
   ]
  },
  {
   "cell_type": "code",
   "execution_count": 15,
   "metadata": {},
   "outputs": [],
   "source": [
    "entire_homes = df[df['room_type'] == 'Entire home/apt']"
   ]
  },
  {
   "cell_type": "code",
   "execution_count": 16,
   "metadata": {},
   "outputs": [],
   "source": [
    "ghost_vs_entirehomes = entire_homes.groupby('is_ghost_listing').agg({'revenue': ['count', 'sum', 'mean', 'min', 'max', 'median']})\n",
    "ghost_vs_entirehomes.columns = ghost_vs_entirehomes.columns.droplevel(0)"
   ]
  },
  {
   "cell_type": "code",
   "execution_count": 17,
   "metadata": {},
   "outputs": [
    {
     "data": {
      "text/html": [
       "<div>\n",
       "<style scoped>\n",
       "    .dataframe tbody tr th:only-of-type {\n",
       "        vertical-align: middle;\n",
       "    }\n",
       "\n",
       "    .dataframe tbody tr th {\n",
       "        vertical-align: top;\n",
       "    }\n",
       "\n",
       "    .dataframe thead th {\n",
       "        text-align: right;\n",
       "    }\n",
       "</style>\n",
       "<table border=\"1\" class=\"dataframe\">\n",
       "  <thead>\n",
       "    <tr style=\"text-align: right;\">\n",
       "      <th></th>\n",
       "      <th>count</th>\n",
       "      <th>sum</th>\n",
       "      <th>mean</th>\n",
       "      <th>min</th>\n",
       "      <th>max</th>\n",
       "      <th>median</th>\n",
       "    </tr>\n",
       "    <tr>\n",
       "      <th>is_ghost_listing</th>\n",
       "      <th></th>\n",
       "      <th></th>\n",
       "      <th></th>\n",
       "      <th></th>\n",
       "      <th></th>\n",
       "      <th></th>\n",
       "    </tr>\n",
       "  </thead>\n",
       "  <tbody>\n",
       "    <tr>\n",
       "      <th>False</th>\n",
       "      <td>17300</td>\n",
       "      <td>1.437185e+08</td>\n",
       "      <td>8307.425556</td>\n",
       "      <td>212.0</td>\n",
       "      <td>175695.0</td>\n",
       "      <td>4664.0</td>\n",
       "    </tr>\n",
       "    <tr>\n",
       "      <th>True</th>\n",
       "      <td>2384</td>\n",
       "      <td>2.025501e+07</td>\n",
       "      <td>8496.229589</td>\n",
       "      <td>148.4</td>\n",
       "      <td>81916.8</td>\n",
       "      <td>5278.8</td>\n",
       "    </tr>\n",
       "  </tbody>\n",
       "</table>\n",
       "</div>"
      ],
      "text/plain": [
       "                  count           sum         mean    min       max  median\n",
       "is_ghost_listing                                                           \n",
       "False             17300  1.437185e+08  8307.425556  212.0  175695.0  4664.0\n",
       "True               2384  2.025501e+07  8496.229589  148.4   81916.8  5278.8"
      ]
     },
     "execution_count": 17,
     "metadata": {},
     "output_type": "execute_result"
    }
   ],
   "source": [
    "ghost_vs_entirehomes"
   ]
  },
  {
   "cell_type": "code",
   "execution_count": 18,
   "metadata": {},
   "outputs": [
    {
     "name": "stdout",
     "output_type": "stream",
     "text": [
      "Ghost hotels make up 12.11% of entire home listings in London, and accounted for 12.35% of revenue generated from August 2019-2020.\n"
     ]
    }
   ],
   "source": [
    "prop_entirehome_list = (ghost_vs_entirehomes['count'].values[1]/entire_homes.shape[0])*100\n",
    "prop_entirehome_rev = (ghost_vs_entirehomes['sum'].values[1]/entire_homes['revenue'].sum())*100\n",
    "\n",
    "print(f'Ghost hotels make up {prop_entirehome_list:.2f}% of entire home listings in London, and accounted for {prop_entirehome_rev:.2f}% of revenue generated from August 2019-2020.')"
   ]
  },
  {
   "cell_type": "markdown",
   "metadata": {},
   "source": [
    "### How much of the revenue from private-room listings was generated by ghost hotels between 2019 and 2020?"
   ]
  },
  {
   "cell_type": "code",
   "execution_count": 19,
   "metadata": {},
   "outputs": [],
   "source": [
    "private_rooms = df[df['room_type'] == 'Private room']\n",
    "ghost_vs_private_rooms = private_rooms.groupby('is_ghost_listing').agg({'revenue': ['count', 'sum', 'median']})"
   ]
  },
  {
   "cell_type": "code",
   "execution_count": 20,
   "metadata": {},
   "outputs": [],
   "source": [
    "ghost_vs_private_rooms.columns = ghost_vs_private_rooms.columns.droplevel(0)"
   ]
  },
  {
   "cell_type": "code",
   "execution_count": 21,
   "metadata": {},
   "outputs": [
    {
     "data": {
      "text/html": [
       "<div>\n",
       "<style scoped>\n",
       "    .dataframe tbody tr th:only-of-type {\n",
       "        vertical-align: middle;\n",
       "    }\n",
       "\n",
       "    .dataframe tbody tr th {\n",
       "        vertical-align: top;\n",
       "    }\n",
       "\n",
       "    .dataframe thead th {\n",
       "        text-align: right;\n",
       "    }\n",
       "</style>\n",
       "<table border=\"1\" class=\"dataframe\">\n",
       "  <thead>\n",
       "    <tr style=\"text-align: right;\">\n",
       "      <th></th>\n",
       "      <th>count</th>\n",
       "      <th>sum</th>\n",
       "      <th>median</th>\n",
       "    </tr>\n",
       "    <tr>\n",
       "      <th>is_ghost_listing</th>\n",
       "      <th></th>\n",
       "      <th></th>\n",
       "      <th></th>\n",
       "    </tr>\n",
       "  </thead>\n",
       "  <tbody>\n",
       "    <tr>\n",
       "      <th>False</th>\n",
       "      <td>12044</td>\n",
       "      <td>4.769425e+07</td>\n",
       "      <td>2120.0</td>\n",
       "    </tr>\n",
       "    <tr>\n",
       "      <th>True</th>\n",
       "      <td>1480</td>\n",
       "      <td>7.949168e+06</td>\n",
       "      <td>3498.0</td>\n",
       "    </tr>\n",
       "  </tbody>\n",
       "</table>\n",
       "</div>"
      ],
      "text/plain": [
       "                  count           sum  median\n",
       "is_ghost_listing                             \n",
       "False             12044  4.769425e+07  2120.0\n",
       "True               1480  7.949168e+06  3498.0"
      ]
     },
     "execution_count": 21,
     "metadata": {},
     "output_type": "execute_result"
    }
   ],
   "source": [
    "ghost_vs_private_rooms"
   ]
  },
  {
   "cell_type": "code",
   "execution_count": 43,
   "metadata": {},
   "outputs": [
    {
     "name": "stdout",
     "output_type": "stream",
     "text": [
      "Ghost hotels make up 11.13% of private-room listings in London, and accounted for 15.44% of revenue in 2019-2020.\n"
     ]
    }
   ],
   "source": [
    "prop_prv_list = (ghost_vs_private_rooms['count'].values[1]/private_rooms.shape[0])*100\n",
    "prop_prv_rev = (ghost_vs_private_rooms['sum'].values[1]/private_rooms['revenue'].sum())*100\n",
    "\n",
    "print(f'Ghost hotels make up {prop_prv_list:.2f}% of private-room listings in London, and accounted for {prop_prv_rev:.2f}% of revenue in 2019-2020.')"
   ]
  },
  {
   "cell_type": "markdown",
   "metadata": {},
   "source": [
    "## The spatial bits!"
   ]
  },
  {
   "cell_type": "code",
   "execution_count": 44,
   "metadata": {},
   "outputs": [],
   "source": [
    "gdf = gpd.GeoDataFrame(df, \n",
    "      geometry=gpd.points_from_xy(df['longitude'], df['latitude'], crs='epsg:4326'))\n",
    "boros = gpd.read_file('https://github.com/jreades/i2p/blob/master/data/src/Boroughs.gpkg?raw=true')\n",
    "gdf = gdf.to_crs(boros.crs) #reproject so that we can map it later"
   ]
  },
  {
   "cell_type": "markdown",
   "metadata": {},
   "source": [
    "### Mapping ghost hotels"
   ]
  },
  {
   "cell_type": "code",
   "execution_count": 48,
   "metadata": {},
   "outputs": [],
   "source": [
    "geo_ghost_prv = pd.merge(private_room_ghosts, gdf, how='left', left_index=True, right_index=True)[['geometry', 'hotel_id', 'count']]\n",
    "geo_ghost_eh = pd.merge(entire_home_ghosts, gdf, how='left', left_index=True, right_index=True)[['geometry', 'hotel_id', 'count']]"
   ]
  },
  {
   "cell_type": "code",
   "execution_count": 63,
   "metadata": {},
   "outputs": [
    {
     "data": {
      "text/plain": [
       "<AxesSubplot:>"
      ]
     },
     "execution_count": 63,
     "metadata": {},
     "output_type": "execute_result"
    },
    {
     "data": {
      "image/png": "[encoded data removed]",
      "text/plain": [
       "<Figure size 1080x720 with 4 Axes>"
      ]
     },
     "metadata": {
      "needs_background": "light"
     },
     "output_type": "display_data"
    }
   ],
   "source": [
    "geo_ghost_eh = gpd.GeoDataFrame(geo_ghost_eh, geometry='geometry', crs='epsg:27700')\n",
    "geo_ghost_prv = gpd.GeoDataFrame(geo_ghost_prv, geometry='geometry', crs='epsg:27700') #a for loop didn't work for this for some reason\n",
    "\n",
    "fig, axes = plt.subplots(1,2, figsize=(15,10))\n",
    "boros.plot(ax=axes[0])\n",
    "boros.plot(ax=axes[1])\n",
    "geo_ghost_eh.plot(ax=axes[0], column='count', legend=True)\n",
    "geo_ghost_prv.plot(ax=axes[1], column='count', legend=True)"
   ]
  },
  {
   "cell_type": "code",
   "execution_count": 57,
   "metadata": {},
   "outputs": [
    {
     "data": {
      "text/plain": [
       "<AxesSubplot:ylabel='Frequency'>"
      ]
     },
     "execution_count": 57,
     "metadata": {},
     "output_type": "execute_result"
    },
    {
     "data": {
      "image/png": "[encoded data removed]",
      "text/plain": [
       "<Figure size 432x288 with 1 Axes>"
      ]
     },
     "metadata": {
      "needs_background": "light"
     },
     "output_type": "display_data"
    }
   ],
   "source": [
    "geo_ghost_prv[['count']].plot.hist(bins=50)"
   ]
  },
  {
   "cell_type": "code",
   "execution_count": 69,
   "metadata": {},
   "outputs": [
    {
     "data": {
      "text/plain": [
       "<AxesSubplot:ylabel='Frequency'>"
      ]
     },
     "execution_count": 69,
     "metadata": {},
     "output_type": "execute_result"
    },
    {
     "data": {
      "image/png": "[encoded data removed]",
      "text/plain": [
       "<Figure size 432x288 with 1 Axes>"
      ]
     },
     "metadata": {
      "needs_background": "light"
     },
     "output_type": "display_data"
    }
   ],
   "source": [
    "geo_ghost_eh[['count']].plot.hist(bins=50)"
   ]
  },
  {
   "cell_type": "markdown",
   "metadata": {},
   "source": [
    "### Mapping percentage of listings in each borough that are ghost hotels"
   ]
  },
  {
   "cell_type": "code",
   "execution_count": 58,
   "metadata": {},
   "outputs": [],
   "source": [
    "#Get LSOAs and extract LSOAs that are in London\n",
    "lsoas = gpd.read_file('https://github.com/caranvr/i2p-assessment/blob/main/Lower_Layer_Super_Output_Area__December_2011__EW_BSC_V2-shp.zip?raw=true')\n",
    "\n",
    "#Dissolve borough boundaries by London boundary\n",
    "ldn = gpd.GeoDataFrame(gpd.GeoSeries(data=boros.unary_union, crs='epsg:27700')).rename(columns={0:'original'})\n",
    "ldn['geometry'] = ldn.original.buffer(250)\n",
    "ldn = ldn.set_geometry('geometry')\n",
    "\n",
    "ldn_lsoas = gpd.sjoin(lsoas, ldn, op='within')\n",
    "del(lsoas)"
   ]
  },
  {
   "cell_type": "code",
   "execution_count": null,
   "metadata": {},
   "outputs": [],
   "source": [
    "#Extract boroughs\n",
    "ldn_lsoas['Borough'] = ldn_lsoas.LSOA11NM.str.replace(r'\\s\\d{3}\\w+$','',regex=True)\n",
    "\n",
    "print(ldn_lsoas.Borough.unique())\n",
    "print(len(ldn_lsoas.Borough.unique()))\n",
    "print(ldn_lsoas.shape)"
   ]
  },
  {
   "cell_type": "code",
   "execution_count": null,
   "metadata": {},
   "outputs": [],
   "source": [
    "gdf_la = gpd.sjoin(gdf, boros, op='within', how='left')\n",
    "gdf_la.drop(columns=['index_right','HECTARES','NONLD_AREA','ONS_INNER'], inplace=True)"
   ]
  },
  {
   "cell_type": "code",
   "execution_count": null,
   "metadata": {},
   "outputs": [],
   "source": [
    "#Drop listings that fall on the border between boroughs - there are only 5\n",
    "gdf_la.drop(index=gdf_la[gdf_la.NAME.isnull()].index.values, axis=1, inplace=True) #5\n",
    "print(gdf_la.shape)"
   ]
  },
  {
   "cell_type": "code",
   "execution_count": null,
   "metadata": {},
   "outputs": [],
   "source": [
    "gdf_la.groupby('NAME').is_ghost_listing.apply(lambda x: (x.sum()/x.count())*100).plot.hist(bins=)"
   ]
  },
  {
   "cell_type": "markdown",
   "metadata": {},
   "source": [
    "### Mapping percentage of ghost-hotel listings in each LSOA"
   ]
  },
  {
   "cell_type": "code",
   "execution_count": 59,
   "metadata": {},
   "outputs": [],
   "source": [
    "ldn_lsoas.drop(columns='index_right', inplace=True)\n",
    "listings_with_lsoas = gpd.sjoin(\n",
    "            gdf, \n",
    "            ldn_lsoas, \n",
    "            op='within')"
   ]
  },
  {
   "cell_type": "code",
   "execution_count": null,
   "metadata": {},
   "outputs": [],
   "source": [
    "listings_with_lsoas.columns"
   ]
  },
  {
   "cell_type": "code",
   "execution_count": null,
   "metadata": {},
   "outputs": [],
   "source": [
    "lsoa_ghost_pc = listings_with_lsoas.groupby('LSOA11CD').is_ghost_listing.apply(lambda x: (x.sum()/x.count())*100)"
   ]
  },
  {
   "cell_type": "code",
   "execution_count": null,
   "metadata": {},
   "outputs": [],
   "source": [
    "lsoa_ghost_pc.head()"
   ]
  },
  {
   "cell_type": "code",
   "execution_count": null,
   "metadata": {},
   "outputs": [],
   "source": [
    "ldn_lsoas.set_index('LSOA11CD', inplace=True)"
   ]
  },
  {
   "cell_type": "code",
   "execution_count": null,
   "metadata": {},
   "outputs": [],
   "source": [
    "ldn_lsoas = pd.concat([ldn_lsoas, lsoa_ghost_pc], axis=1)"
   ]
  },
  {
   "cell_type": "code",
   "execution_count": null,
   "metadata": {},
   "outputs": [],
   "source": [
    "ldn_lsoas.columns"
   ]
  },
  {
   "cell_type": "code",
   "execution_count": null,
   "metadata": {},
   "outputs": [],
   "source": [
    "fig, ax = plt.subplots(1,1, figsize=(12,10))\n",
    "ldn_lsoas.plot(column='is_ghost_listing', ax=ax, legend=True)"
   ]
  },
  {
   "cell_type": "code",
   "execution_count": null,
   "metadata": {},
   "outputs": [],
   "source": [
    "ldn_lsoas[\n",
    "    ldn_lsoas['is_ghost_listing'] == ldn_lsoas['is_ghost_listing'].max()\n",
    "]"
   ]
  },
  {
   "cell_type": "markdown",
   "metadata": {},
   "source": [
    "### Mapping % of properties in each LSOA that are ghost listings"
   ]
  },
  {
   "cell_type": "code",
   "execution_count": null,
   "metadata": {},
   "outputs": [],
   "source": [
    "lsoa_properties = pd.read_csv('https://github.com/caranvr/i2p-assessment/blob/main/Table_CTSOP4_1_2020.csv?raw=true')"
   ]
  },
  {
   "cell_type": "markdown",
   "metadata": {},
   "source": [
    "# Executive Briefing"
   ]
  },
  {
   "cell_type": "markdown",
   "metadata": {},
   "source": [
    "## Background"
   ]
  },
  {
   "cell_type": "markdown",
   "metadata": {},
   "source": [
    "Since 2015, short-term letting of entire homes in London has been limited to 90 nights per year, a move to protect residential housing supply from the growing home-sharing market (Cosh, 2020). Airbnb has enforced this rule since 2017, automatically suspending bookings for entire-home listings that been booked for 90 days in a year (KeyNest, 2019). However, recent media and policy investigations have identified a new way for commercial short-term rental (STR) operators to skirt this regulation: the operation of 'ghost hotels', which are clusters of unlicensed STRs in the same building. \n",
    "\n",
    "Ghost hotels can take two different forms, which take advantage of different loopholes in London's STR limit. The first type of ghost hotel is the **entire-home ghost hotel**. These ghost hotels consist of multiple flats in the same building, each of which are either listed on home-sharing platforms at different times of the year, or listed multiple times with mirrored photos to avoid detection. This ensures that while no individual flat is let – or recorded as having been let – for more than 90 days per year, operators can profit from listings year-round. A recent _Wired_ investigation found that some of London's entire-home ghost hotels operate at a similar scale to traditional hotels: a ghost hotel block in Battersea, which has since been removed from Airbnb, consisted of at least twenty flats (Temperton, 2020). \n",
    "\n",
    "The second type of ghost hotel is the **private-room ghost hotel**, which was first identified in New York City by urban policy researchers at McGill University (Wachsmuth _et al._, 2018). These ghost hotels encompass one or more apartments in a building, with each room listed separately on Airbnb. In London, private-room ghost hotels take advantage of the fact that only entire-home listings are monitored on Airbnb (KeyNest, 2019). \n",
    "\n",
    "### Impact of ghost hotels\n",
    "\n",
    "While spatially dispersed commercial Airbnb listings may violate London's short-term letting laws in similar ways, the density of STRs in ghost hotels poses a unique threat to local residents' quality of life. In Lisbon and Amsterdam, residents of neighbourhoods with high concentrations of STRs have complained of overcrowding; construction noise from conversions of flats to STRs; the replacement of local shops and restaurants with tourist-oriented businesses; and disintegration of community relations as long-term residents are replaced by travelers (Pinkster and Boterman, 2017; Cocola-Gant and Gago, 2018). \n",
    "\n",
    "### Aims of this report\n",
    "\n",
    "- Evaluate which form of ghost hotel is a larger threat to local quality of life in London\n",
    "    - Analyse position of each type of ghost hotel in the local Airbnb market (each type analysed separately)\n",
    "    - Analyse the spatial distribution of ghost-hotel listings (combined)\n",
    "    - \n",
    "\n",
    "## Ghost hotels are a small but lucrative portion of London's Airbnb market\n",
    "Necessary information:\n",
    "- Extent of ghost hotel listings is slightly lower than in New York City\n",
    "    - Both types of ghost hotels combined composed 11.67% of London's active listings in August 2020\n",
    "    - Separately, entire-home and private-room ghost hotel listings composed similar proportions of listings with their respective room types\n",
    "- However, both private-room and entire-home ghost hotel listings earned more on average than other listings of their respective room types\n",
    "    - Especially pronounced for private-room listings: the median revenue for private-room listings in ghost hotels was 67% higher than for other private-room listings\n",
    "    - **Create grouped box plot of revenue**"
   ]
  },
  {
   "cell_type": "markdown",
   "metadata": {},
   "source": [
    "## Ghost hotels are concentrated in areas with low overall Airbnb density"
   ]
  },
  {
   "cell_type": "markdown",
   "metadata": {},
   "source": [
    "Necessary information:\n",
    "- Both types of ghost hotels are considered together in this analysis, as they have similar impacts on local quality of life\n",
    "- **Map of ghost hotels, colored according to the number of listings associated with the ghost hotel**"
   ]
  },
  {
   "cell_type": "markdown",
   "metadata": {},
   "source": [
    "## Ghost hotels are associated with new-build developments"
   ]
  },
  {
   "cell_type": "code",
   "execution_count": 22,
   "metadata": {},
   "outputs": [
    {
     "data": {
      "text/plain": [
       "hotel_id\n",
       "281    292307.40\n",
       "238    250658.25\n",
       "90     182440.60\n",
       "180    163116.06\n",
       "92     160454.67\n",
       "265    148230.40\n",
       "98     143345.70\n",
       "276    140598.45\n",
       "128    121856.80\n",
       "224    121847.60\n",
       "Name: revenue, dtype: float64"
      ]
     },
     "execution_count": 22,
     "metadata": {},
     "output_type": "execute_result"
    }
   ],
   "source": [
    "private_room_ghosts.groupby('hotel_id').revenue.sum().sort_values(ascending=False)[0:10]"
   ]
  },
  {
   "cell_type": "code",
   "execution_count": 26,
   "metadata": {},
   "outputs": [
    {
     "data": {
      "text/html": [
       "<div>\n",
       "<style scoped>\n",
       "    .dataframe tbody tr th:only-of-type {\n",
       "        vertical-align: middle;\n",
       "    }\n",
       "\n",
       "    .dataframe tbody tr th {\n",
       "        vertical-align: top;\n",
       "    }\n",
       "\n",
       "    .dataframe thead th {\n",
       "        text-align: right;\n",
       "    }\n",
       "</style>\n",
       "<table border=\"1\" class=\"dataframe\">\n",
       "  <thead>\n",
       "    <tr style=\"text-align: right;\">\n",
       "      <th></th>\n",
       "      <th>listing_url</th>\n",
       "      <th>name</th>\n",
       "      <th>description</th>\n",
       "      <th>description_norm</th>\n",
       "      <th>host_id</th>\n",
       "      <th>host_name</th>\n",
       "      <th>latitude</th>\n",
       "      <th>longitude</th>\n",
       "      <th>room_type</th>\n",
       "      <th>price</th>\n",
       "      <th>...</th>\n",
       "      <th>availability_365</th>\n",
       "      <th>number_of_reviews_ltm</th>\n",
       "      <th>calculated_host_listings_count</th>\n",
       "      <th>calculated_host_listings_count_entire_homes</th>\n",
       "      <th>calculated_host_listings_count_private_rooms</th>\n",
       "      <th>revenue</th>\n",
       "      <th>text_dbscan</th>\n",
       "      <th>geo_dbscan</th>\n",
       "      <th>count</th>\n",
       "      <th>hotel_id</th>\n",
       "    </tr>\n",
       "    <tr>\n",
       "      <th>id</th>\n",
       "      <th></th>\n",
       "      <th></th>\n",
       "      <th></th>\n",
       "      <th></th>\n",
       "      <th></th>\n",
       "      <th></th>\n",
       "      <th></th>\n",
       "      <th></th>\n",
       "      <th></th>\n",
       "      <th></th>\n",
       "      <th></th>\n",
       "      <th></th>\n",
       "      <th></th>\n",
       "      <th></th>\n",
       "      <th></th>\n",
       "      <th></th>\n",
       "      <th></th>\n",
       "      <th></th>\n",
       "      <th></th>\n",
       "      <th></th>\n",
       "      <th></th>\n",
       "    </tr>\n",
       "  </thead>\n",
       "  <tbody>\n",
       "    <tr>\n",
       "      <th>21175319</th>\n",
       "      <td>https://www.airbnb.com/rooms/21175319</td>\n",
       "      <td>C-3) Massive Room in Prime Location</td>\n",
       "      <td>This 4 bedroom VINTAGE House  near Mornington ...</td>\n",
       "      <td>bedroom vintage house near mornington crescent...</td>\n",
       "      <td>136482864</td>\n",
       "      <td>Hasan</td>\n",
       "      <td>51.53517</td>\n",
       "      <td>-0.13763</td>\n",
       "      <td>Private room</td>\n",
       "      <td>84.0</td>\n",
       "      <td>...</td>\n",
       "      <td>0</td>\n",
       "      <td>19</td>\n",
       "      <td>15</td>\n",
       "      <td>1</td>\n",
       "      <td>14</td>\n",
       "      <td>16917.6</td>\n",
       "      <td>113</td>\n",
       "      <td>24</td>\n",
       "      <td>11</td>\n",
       "      <td>90</td>\n",
       "    </tr>\n",
       "    <tr>\n",
       "      <th>26763103</th>\n",
       "      <td>https://www.airbnb.com/rooms/26763103</td>\n",
       "      <td>London House 1</td>\n",
       "      <td>This 4 bedroom VINTAGE House  near Mornington ...</td>\n",
       "      <td>bedroom vintage house near mornington crescent...</td>\n",
       "      <td>201244309</td>\n",
       "      <td>Ali</td>\n",
       "      <td>51.53593</td>\n",
       "      <td>-0.13590</td>\n",
       "      <td>Private room</td>\n",
       "      <td>74.0</td>\n",
       "      <td>...</td>\n",
       "      <td>36</td>\n",
       "      <td>31</td>\n",
       "      <td>27</td>\n",
       "      <td>2</td>\n",
       "      <td>25</td>\n",
       "      <td>18870.0</td>\n",
       "      <td>113</td>\n",
       "      <td>24</td>\n",
       "      <td>11</td>\n",
       "      <td>90</td>\n",
       "    </tr>\n",
       "    <tr>\n",
       "      <th>36446046</th>\n",
       "      <td>https://www.airbnb.com/rooms/36446046</td>\n",
       "      <td>3)Budget Friendly Room in Camden Town.</td>\n",
       "      <td>4 Bedroom Flat in Camden Town. This listing is...</td>\n",
       "      <td>bedroom flat camden town listing one room hous...</td>\n",
       "      <td>201244309</td>\n",
       "      <td>Ali</td>\n",
       "      <td>51.53910</td>\n",
       "      <td>-0.13844</td>\n",
       "      <td>Private room</td>\n",
       "      <td>45.0</td>\n",
       "      <td>...</td>\n",
       "      <td>0</td>\n",
       "      <td>21</td>\n",
       "      <td>27</td>\n",
       "      <td>2</td>\n",
       "      <td>25</td>\n",
       "      <td>10017.0</td>\n",
       "      <td>113</td>\n",
       "      <td>24</td>\n",
       "      <td>11</td>\n",
       "      <td>90</td>\n",
       "    </tr>\n",
       "    <tr>\n",
       "      <th>36448123</th>\n",
       "      <td>https://www.airbnb.com/rooms/36448123</td>\n",
       "      <td>4) Double Room in Camden</td>\n",
       "      <td>4 Bedroom Flat in Camden Town. This listing is...</td>\n",
       "      <td>bedroom flat camden town listing one room hous...</td>\n",
       "      <td>201244309</td>\n",
       "      <td>Ali</td>\n",
       "      <td>51.53751</td>\n",
       "      <td>-0.13887</td>\n",
       "      <td>Private room</td>\n",
       "      <td>51.0</td>\n",
       "      <td>...</td>\n",
       "      <td>0</td>\n",
       "      <td>19</td>\n",
       "      <td>27</td>\n",
       "      <td>2</td>\n",
       "      <td>25</td>\n",
       "      <td>10271.4</td>\n",
       "      <td>113</td>\n",
       "      <td>24</td>\n",
       "      <td>11</td>\n",
       "      <td>90</td>\n",
       "    </tr>\n",
       "    <tr>\n",
       "      <th>36448329</th>\n",
       "      <td>https://www.airbnb.com/rooms/36448329</td>\n",
       "      <td>1)  Private Room in Camden for 4 People.</td>\n",
       "      <td>4 Bedroom Flat in Camden Town. This listing is...</td>\n",
       "      <td>bedroom flat camden town listing one room hous...</td>\n",
       "      <td>201244309</td>\n",
       "      <td>Ali</td>\n",
       "      <td>51.53825</td>\n",
       "      <td>-0.13893</td>\n",
       "      <td>Private room</td>\n",
       "      <td>55.0</td>\n",
       "      <td>...</td>\n",
       "      <td>0</td>\n",
       "      <td>16</td>\n",
       "      <td>27</td>\n",
       "      <td>2</td>\n",
       "      <td>25</td>\n",
       "      <td>9328.0</td>\n",
       "      <td>113</td>\n",
       "      <td>24</td>\n",
       "      <td>11</td>\n",
       "      <td>90</td>\n",
       "    </tr>\n",
       "    <tr>\n",
       "      <th>36719596</th>\n",
       "      <td>https://www.airbnb.com/rooms/36719596</td>\n",
       "      <td>London House 4</td>\n",
       "      <td>This 4 bedroom VINTAGE House  near Mornington ...</td>\n",
       "      <td>bedroom vintage house near mornington crescent...</td>\n",
       "      <td>201244309</td>\n",
       "      <td>Ali</td>\n",
       "      <td>51.53403</td>\n",
       "      <td>-0.13649</td>\n",
       "      <td>Private room</td>\n",
       "      <td>45.0</td>\n",
       "      <td>...</td>\n",
       "      <td>0</td>\n",
       "      <td>28</td>\n",
       "      <td>27</td>\n",
       "      <td>2</td>\n",
       "      <td>25</td>\n",
       "      <td>11475.0</td>\n",
       "      <td>113</td>\n",
       "      <td>24</td>\n",
       "      <td>11</td>\n",
       "      <td>90</td>\n",
       "    </tr>\n",
       "    <tr>\n",
       "      <th>38750966</th>\n",
       "      <td>https://www.airbnb.com/rooms/38750966</td>\n",
       "      <td>T1)Budget Friendly Small Room in Camden Town</td>\n",
       "      <td>4 Bedroom Flat in Camden Town. This listing is...</td>\n",
       "      <td>bedroom flat camden town listing one room hous...</td>\n",
       "      <td>136482864</td>\n",
       "      <td>Hasan</td>\n",
       "      <td>51.53622</td>\n",
       "      <td>-0.13660</td>\n",
       "      <td>Private room</td>\n",
       "      <td>100.0</td>\n",
       "      <td>...</td>\n",
       "      <td>180</td>\n",
       "      <td>36</td>\n",
       "      <td>15</td>\n",
       "      <td>1</td>\n",
       "      <td>14</td>\n",
       "      <td>25500.0</td>\n",
       "      <td>113</td>\n",
       "      <td>24</td>\n",
       "      <td>11</td>\n",
       "      <td>90</td>\n",
       "    </tr>\n",
       "    <tr>\n",
       "      <th>38751181</th>\n",
       "      <td>https://www.airbnb.com/rooms/38751181</td>\n",
       "      <td>T2)Double Room in Camden with Spacious Patio</td>\n",
       "      <td>4 Bedroom Flat in Camden Town. This listing is...</td>\n",
       "      <td>bedroom flat camden town listing one room hous...</td>\n",
       "      <td>136482864</td>\n",
       "      <td>Hasan</td>\n",
       "      <td>51.53707</td>\n",
       "      <td>-0.13825</td>\n",
       "      <td>Private room</td>\n",
       "      <td>100.0</td>\n",
       "      <td>...</td>\n",
       "      <td>365</td>\n",
       "      <td>44</td>\n",
       "      <td>15</td>\n",
       "      <td>1</td>\n",
       "      <td>14</td>\n",
       "      <td>25500.0</td>\n",
       "      <td>113</td>\n",
       "      <td>24</td>\n",
       "      <td>11</td>\n",
       "      <td>90</td>\n",
       "    </tr>\n",
       "    <tr>\n",
       "      <th>38751304</th>\n",
       "      <td>https://www.airbnb.com/rooms/38751304</td>\n",
       "      <td>T3)Spacious Room for 3 in Camden</td>\n",
       "      <td>4 Bedroom Flat in Camden Town. This listing is...</td>\n",
       "      <td>bedroom flat camden town listing one room hous...</td>\n",
       "      <td>136482864</td>\n",
       "      <td>Hasan</td>\n",
       "      <td>51.53759</td>\n",
       "      <td>-0.13781</td>\n",
       "      <td>Private room</td>\n",
       "      <td>100.0</td>\n",
       "      <td>...</td>\n",
       "      <td>365</td>\n",
       "      <td>30</td>\n",
       "      <td>15</td>\n",
       "      <td>1</td>\n",
       "      <td>14</td>\n",
       "      <td>25500.0</td>\n",
       "      <td>113</td>\n",
       "      <td>24</td>\n",
       "      <td>11</td>\n",
       "      <td>90</td>\n",
       "    </tr>\n",
       "    <tr>\n",
       "      <th>38753718</th>\n",
       "      <td>https://www.airbnb.com/rooms/38753718</td>\n",
       "      <td>T-4) Double Bedroom in Camden Town</td>\n",
       "      <td>4 Bedroom Flat in Camden Town. This listing is...</td>\n",
       "      <td>bedroom flat camden town listing one room hous...</td>\n",
       "      <td>136482864</td>\n",
       "      <td>Hasan</td>\n",
       "      <td>51.53555</td>\n",
       "      <td>-0.13864</td>\n",
       "      <td>Private room</td>\n",
       "      <td>100.0</td>\n",
       "      <td>...</td>\n",
       "      <td>365</td>\n",
       "      <td>38</td>\n",
       "      <td>15</td>\n",
       "      <td>1</td>\n",
       "      <td>14</td>\n",
       "      <td>25500.0</td>\n",
       "      <td>113</td>\n",
       "      <td>24</td>\n",
       "      <td>11</td>\n",
       "      <td>90</td>\n",
       "    </tr>\n",
       "    <tr>\n",
       "      <th>40426858</th>\n",
       "      <td>https://www.airbnb.com/rooms/40426858</td>\n",
       "      <td>C-2) Small Double Room in Vibrant Location.</td>\n",
       "      <td>This 4 bedroom VINTAGE House  near Mornington ...</td>\n",
       "      <td>bedroom vintage house near mornington crescent...</td>\n",
       "      <td>136482864</td>\n",
       "      <td>Hasan</td>\n",
       "      <td>51.53373</td>\n",
       "      <td>-0.13630</td>\n",
       "      <td>Private room</td>\n",
       "      <td>28.0</td>\n",
       "      <td>...</td>\n",
       "      <td>0</td>\n",
       "      <td>12</td>\n",
       "      <td>15</td>\n",
       "      <td>1</td>\n",
       "      <td>14</td>\n",
       "      <td>3561.6</td>\n",
       "      <td>113</td>\n",
       "      <td>24</td>\n",
       "      <td>11</td>\n",
       "      <td>90</td>\n",
       "    </tr>\n",
       "  </tbody>\n",
       "</table>\n",
       "<p>11 rows × 21 columns</p>\n",
       "</div>"
      ],
      "text/plain": [
       "                                    listing_url  \\\n",
       "id                                                \n",
       "21175319  https://www.airbnb.com/rooms/21175319   \n",
       "26763103  https://www.airbnb.com/rooms/26763103   \n",
       "36446046  https://www.airbnb.com/rooms/36446046   \n",
       "36448123  https://www.airbnb.com/rooms/36448123   \n",
       "36448329  https://www.airbnb.com/rooms/36448329   \n",
       "36719596  https://www.airbnb.com/rooms/36719596   \n",
       "38750966  https://www.airbnb.com/rooms/38750966   \n",
       "38751181  https://www.airbnb.com/rooms/38751181   \n",
       "38751304  https://www.airbnb.com/rooms/38751304   \n",
       "38753718  https://www.airbnb.com/rooms/38753718   \n",
       "40426858  https://www.airbnb.com/rooms/40426858   \n",
       "\n",
       "                                                  name  \\\n",
       "id                                                       \n",
       "21175319           C-3) Massive Room in Prime Location   \n",
       "26763103                                London House 1   \n",
       "36446046        3)Budget Friendly Room in Camden Town.   \n",
       "36448123                      4) Double Room in Camden   \n",
       "36448329      1)  Private Room in Camden for 4 People.   \n",
       "36719596                                London House 4   \n",
       "38750966  T1)Budget Friendly Small Room in Camden Town   \n",
       "38751181  T2)Double Room in Camden with Spacious Patio   \n",
       "38751304              T3)Spacious Room for 3 in Camden   \n",
       "38753718            T-4) Double Bedroom in Camden Town   \n",
       "40426858   C-2) Small Double Room in Vibrant Location.   \n",
       "\n",
       "                                                description  \\\n",
       "id                                                            \n",
       "21175319  This 4 bedroom VINTAGE House  near Mornington ...   \n",
       "26763103  This 4 bedroom VINTAGE House  near Mornington ...   \n",
       "36446046  4 Bedroom Flat in Camden Town. This listing is...   \n",
       "36448123  4 Bedroom Flat in Camden Town. This listing is...   \n",
       "36448329  4 Bedroom Flat in Camden Town. This listing is...   \n",
       "36719596  This 4 bedroom VINTAGE House  near Mornington ...   \n",
       "38750966  4 Bedroom Flat in Camden Town. This listing is...   \n",
       "38751181  4 Bedroom Flat in Camden Town. This listing is...   \n",
       "38751304  4 Bedroom Flat in Camden Town. This listing is...   \n",
       "38753718  4 Bedroom Flat in Camden Town. This listing is...   \n",
       "40426858  This 4 bedroom VINTAGE House  near Mornington ...   \n",
       "\n",
       "                                           description_norm    host_id  \\\n",
       "id                                                                       \n",
       "21175319  bedroom vintage house near mornington crescent...  136482864   \n",
       "26763103  bedroom vintage house near mornington crescent...  201244309   \n",
       "36446046  bedroom flat camden town listing one room hous...  201244309   \n",
       "36448123  bedroom flat camden town listing one room hous...  201244309   \n",
       "36448329  bedroom flat camden town listing one room hous...  201244309   \n",
       "36719596  bedroom vintage house near mornington crescent...  201244309   \n",
       "38750966  bedroom flat camden town listing one room hous...  136482864   \n",
       "38751181  bedroom flat camden town listing one room hous...  136482864   \n",
       "38751304  bedroom flat camden town listing one room hous...  136482864   \n",
       "38753718  bedroom flat camden town listing one room hous...  136482864   \n",
       "40426858  bedroom vintage house near mornington crescent...  136482864   \n",
       "\n",
       "         host_name  latitude  longitude     room_type  price  ...  \\\n",
       "id                                                            ...   \n",
       "21175319     Hasan  51.53517   -0.13763  Private room   84.0  ...   \n",
       "26763103       Ali  51.53593   -0.13590  Private room   74.0  ...   \n",
       "36446046       Ali  51.53910   -0.13844  Private room   45.0  ...   \n",
       "36448123       Ali  51.53751   -0.13887  Private room   51.0  ...   \n",
       "36448329       Ali  51.53825   -0.13893  Private room   55.0  ...   \n",
       "36719596       Ali  51.53403   -0.13649  Private room   45.0  ...   \n",
       "38750966     Hasan  51.53622   -0.13660  Private room  100.0  ...   \n",
       "38751181     Hasan  51.53707   -0.13825  Private room  100.0  ...   \n",
       "38751304     Hasan  51.53759   -0.13781  Private room  100.0  ...   \n",
       "38753718     Hasan  51.53555   -0.13864  Private room  100.0  ...   \n",
       "40426858     Hasan  51.53373   -0.13630  Private room   28.0  ...   \n",
       "\n",
       "          availability_365  number_of_reviews_ltm  \\\n",
       "id                                                  \n",
       "21175319                 0                     19   \n",
       "26763103                36                     31   \n",
       "36446046                 0                     21   \n",
       "36448123                 0                     19   \n",
       "36448329                 0                     16   \n",
       "36719596                 0                     28   \n",
       "38750966               180                     36   \n",
       "38751181               365                     44   \n",
       "38751304               365                     30   \n",
       "38753718               365                     38   \n",
       "40426858                 0                     12   \n",
       "\n",
       "          calculated_host_listings_count  \\\n",
       "id                                         \n",
       "21175319                              15   \n",
       "26763103                              27   \n",
       "36446046                              27   \n",
       "36448123                              27   \n",
       "36448329                              27   \n",
       "36719596                              27   \n",
       "38750966                              15   \n",
       "38751181                              15   \n",
       "38751304                              15   \n",
       "38753718                              15   \n",
       "40426858                              15   \n",
       "\n",
       "          calculated_host_listings_count_entire_homes  \\\n",
       "id                                                      \n",
       "21175319                                            1   \n",
       "26763103                                            2   \n",
       "36446046                                            2   \n",
       "36448123                                            2   \n",
       "36448329                                            2   \n",
       "36719596                                            2   \n",
       "38750966                                            1   \n",
       "38751181                                            1   \n",
       "38751304                                            1   \n",
       "38753718                                            1   \n",
       "40426858                                            1   \n",
       "\n",
       "          calculated_host_listings_count_private_rooms  revenue  text_dbscan  \\\n",
       "id                                                                             \n",
       "21175319                                            14  16917.6          113   \n",
       "26763103                                            25  18870.0          113   \n",
       "36446046                                            25  10017.0          113   \n",
       "36448123                                            25  10271.4          113   \n",
       "36448329                                            25   9328.0          113   \n",
       "36719596                                            25  11475.0          113   \n",
       "38750966                                            14  25500.0          113   \n",
       "38751181                                            14  25500.0          113   \n",
       "38751304                                            14  25500.0          113   \n",
       "38753718                                            14  25500.0          113   \n",
       "40426858                                            14   3561.6          113   \n",
       "\n",
       "          geo_dbscan  count  hotel_id  \n",
       "id                                     \n",
       "21175319          24     11        90  \n",
       "26763103          24     11        90  \n",
       "36446046          24     11        90  \n",
       "36448123          24     11        90  \n",
       "36448329          24     11        90  \n",
       "36719596          24     11        90  \n",
       "38750966          24     11        90  \n",
       "38751181          24     11        90  \n",
       "38751304          24     11        90  \n",
       "38753718          24     11        90  \n",
       "40426858          24     11        90  \n",
       "\n",
       "[11 rows x 21 columns]"
      ]
     },
     "execution_count": 26,
     "metadata": {},
     "output_type": "execute_result"
    }
   ],
   "source": [
    "private_room_ghosts[\n",
    "    private_room_ghosts['hotel_id'] == 90\n",
    "]"
   ]
  },
  {
   "cell_type": "code",
   "execution_count": 27,
   "metadata": {},
   "outputs": [
    {
     "data": {
      "text/plain": [
       "hotel_id\n",
       "14     489645.800\n",
       "222    468690.000\n",
       "198    404394.300\n",
       "148    309547.206\n",
       "46     296189.400\n",
       "83     253143.000\n",
       "200    210490.000\n",
       "332    199229.000\n",
       "9      194255.874\n",
       "423    180549.800\n",
       "Name: revenue, dtype: float64"
      ]
     },
     "execution_count": 27,
     "metadata": {},
     "output_type": "execute_result"
    }
   ],
   "source": [
    "entire_home_ghosts.groupby('hotel_id').revenue.sum().sort_values(ascending=False)[0:10]"
   ]
  },
  {
   "cell_type": "code",
   "execution_count": 32,
   "metadata": {},
   "outputs": [
    {
     "data": {
      "text/html": [
       "<div>\n",
       "<style scoped>\n",
       "    .dataframe tbody tr th:only-of-type {\n",
       "        vertical-align: middle;\n",
       "    }\n",
       "\n",
       "    .dataframe tbody tr th {\n",
       "        vertical-align: top;\n",
       "    }\n",
       "\n",
       "    .dataframe thead th {\n",
       "        text-align: right;\n",
       "    }\n",
       "</style>\n",
       "<table border=\"1\" class=\"dataframe\">\n",
       "  <thead>\n",
       "    <tr style=\"text-align: right;\">\n",
       "      <th></th>\n",
       "      <th>listing_url</th>\n",
       "      <th>name</th>\n",
       "      <th>description</th>\n",
       "      <th>description_norm</th>\n",
       "      <th>host_id</th>\n",
       "      <th>host_name</th>\n",
       "      <th>latitude</th>\n",
       "      <th>longitude</th>\n",
       "      <th>room_type</th>\n",
       "      <th>price</th>\n",
       "      <th>...</th>\n",
       "      <th>availability_365</th>\n",
       "      <th>number_of_reviews_ltm</th>\n",
       "      <th>calculated_host_listings_count</th>\n",
       "      <th>calculated_host_listings_count_entire_homes</th>\n",
       "      <th>calculated_host_listings_count_private_rooms</th>\n",
       "      <th>revenue</th>\n",
       "      <th>text_dbscan</th>\n",
       "      <th>geo_dbscan</th>\n",
       "      <th>count</th>\n",
       "      <th>hotel_id</th>\n",
       "    </tr>\n",
       "    <tr>\n",
       "      <th>id</th>\n",
       "      <th></th>\n",
       "      <th></th>\n",
       "      <th></th>\n",
       "      <th></th>\n",
       "      <th></th>\n",
       "      <th></th>\n",
       "      <th></th>\n",
       "      <th></th>\n",
       "      <th></th>\n",
       "      <th></th>\n",
       "      <th></th>\n",
       "      <th></th>\n",
       "      <th></th>\n",
       "      <th></th>\n",
       "      <th></th>\n",
       "      <th></th>\n",
       "      <th></th>\n",
       "      <th></th>\n",
       "      <th></th>\n",
       "      <th></th>\n",
       "      <th></th>\n",
       "    </tr>\n",
       "  </thead>\n",
       "  <tbody>\n",
       "    <tr>\n",
       "      <th>23497042</th>\n",
       "      <td>https://www.airbnb.com/rooms/23497042</td>\n",
       "      <td>NEXT to BritishMuseum - Large Apartment for 5 ppl</td>\n",
       "      <td>This cozy and super central two-bedroom apartm...</td>\n",
       "      <td>cozy super central two bedroom apartment sleep...</td>\n",
       "      <td>175413710</td>\n",
       "      <td>Bedford Place Apartments</td>\n",
       "      <td>51.52140</td>\n",
       "      <td>-0.12486</td>\n",
       "      <td>Entire home/apt</td>\n",
       "      <td>247.0</td>\n",
       "      <td>...</td>\n",
       "      <td>0</td>\n",
       "      <td>32</td>\n",
       "      <td>11</td>\n",
       "      <td>11</td>\n",
       "      <td>0</td>\n",
       "      <td>62985.0</td>\n",
       "      <td>165</td>\n",
       "      <td>1</td>\n",
       "      <td>11</td>\n",
       "      <td>46</td>\n",
       "    </tr>\n",
       "    <tr>\n",
       "      <th>26119027</th>\n",
       "      <td>https://www.airbnb.com/rooms/26119027</td>\n",
       "      <td>NEXT to BritishMuseum - Large Apartment for 3 ppl</td>\n",
       "      <td>This cozy and super central one-bedroom apartm...</td>\n",
       "      <td>cozy super central one bedroom apartment sleep...</td>\n",
       "      <td>175413710</td>\n",
       "      <td>Bedford Place Apartments</td>\n",
       "      <td>51.51961</td>\n",
       "      <td>-0.12513</td>\n",
       "      <td>Entire home/apt</td>\n",
       "      <td>184.0</td>\n",
       "      <td>...</td>\n",
       "      <td>365</td>\n",
       "      <td>32</td>\n",
       "      <td>11</td>\n",
       "      <td>11</td>\n",
       "      <td>0</td>\n",
       "      <td>46920.0</td>\n",
       "      <td>165</td>\n",
       "      <td>1</td>\n",
       "      <td>11</td>\n",
       "      <td>46</td>\n",
       "    </tr>\n",
       "    <tr>\n",
       "      <th>26119157</th>\n",
       "      <td>https://www.airbnb.com/rooms/26119157</td>\n",
       "      <td>NEXT to BritishMuseum - 4 bedroom sleeping 10 ppl</td>\n",
       "      <td>This beautiful duplex unit is composed of two ...</td>\n",
       "      <td>beautiful duplex unit compose two interconnect...</td>\n",
       "      <td>175413710</td>\n",
       "      <td>Bedford Place Apartments</td>\n",
       "      <td>51.51999</td>\n",
       "      <td>-0.12419</td>\n",
       "      <td>Entire home/apt</td>\n",
       "      <td>513.0</td>\n",
       "      <td>...</td>\n",
       "      <td>79</td>\n",
       "      <td>4</td>\n",
       "      <td>11</td>\n",
       "      <td>11</td>\n",
       "      <td>0</td>\n",
       "      <td>21751.2</td>\n",
       "      <td>165</td>\n",
       "      <td>1</td>\n",
       "      <td>11</td>\n",
       "      <td>46</td>\n",
       "    </tr>\n",
       "    <tr>\n",
       "      <th>26119197</th>\n",
       "      <td>https://www.airbnb.com/rooms/26119197</td>\n",
       "      <td>NEXT to BritishMuseum -2 bedroom sleeping 4 ppl</td>\n",
       "      <td>This cozy and super central two-bedroom apartm...</td>\n",
       "      <td>cozy super central two bedroom apartment sleep...</td>\n",
       "      <td>175413710</td>\n",
       "      <td>Bedford Place Apartments</td>\n",
       "      <td>51.52136</td>\n",
       "      <td>-0.12580</td>\n",
       "      <td>Entire home/apt</td>\n",
       "      <td>221.0</td>\n",
       "      <td>...</td>\n",
       "      <td>365</td>\n",
       "      <td>7</td>\n",
       "      <td>11</td>\n",
       "      <td>11</td>\n",
       "      <td>0</td>\n",
       "      <td>16398.2</td>\n",
       "      <td>165</td>\n",
       "      <td>1</td>\n",
       "      <td>11</td>\n",
       "      <td>46</td>\n",
       "    </tr>\n",
       "    <tr>\n",
       "      <th>26119247</th>\n",
       "      <td>https://www.airbnb.com/rooms/26119247</td>\n",
       "      <td>NEXT to BritishMuseum - Large Apartment for 6 ppl</td>\n",
       "      <td>This cozy and super central two-bedroom apartm...</td>\n",
       "      <td>cozy super central two bedroom apartment sleep...</td>\n",
       "      <td>175413710</td>\n",
       "      <td>Bedford Place Apartments</td>\n",
       "      <td>51.52112</td>\n",
       "      <td>-0.12402</td>\n",
       "      <td>Entire home/apt</td>\n",
       "      <td>278.0</td>\n",
       "      <td>...</td>\n",
       "      <td>176</td>\n",
       "      <td>7</td>\n",
       "      <td>11</td>\n",
       "      <td>11</td>\n",
       "      <td>0</td>\n",
       "      <td>20627.6</td>\n",
       "      <td>165</td>\n",
       "      <td>1</td>\n",
       "      <td>11</td>\n",
       "      <td>46</td>\n",
       "    </tr>\n",
       "    <tr>\n",
       "      <th>26119299</th>\n",
       "      <td>https://www.airbnb.com/rooms/26119299</td>\n",
       "      <td>NEXT to BritishMuseum - 3Bed Apartment for 8 ppl</td>\n",
       "      <td>This cozy and super central three-bedroom apar...</td>\n",
       "      <td>cozy super central three bedroom apartment sle...</td>\n",
       "      <td>175413710</td>\n",
       "      <td>Bedford Place Apartments</td>\n",
       "      <td>51.52108</td>\n",
       "      <td>-0.12423</td>\n",
       "      <td>Entire home/apt</td>\n",
       "      <td>368.0</td>\n",
       "      <td>...</td>\n",
       "      <td>79</td>\n",
       "      <td>21</td>\n",
       "      <td>11</td>\n",
       "      <td>11</td>\n",
       "      <td>0</td>\n",
       "      <td>81916.8</td>\n",
       "      <td>165</td>\n",
       "      <td>1</td>\n",
       "      <td>11</td>\n",
       "      <td>46</td>\n",
       "    </tr>\n",
       "    <tr>\n",
       "      <th>26407624</th>\n",
       "      <td>https://www.airbnb.com/rooms/26407624</td>\n",
       "      <td>5 Bedroom flat sleeping 8 - near British Museum</td>\n",
       "      <td>This cozy and super central five-bedroom apart...</td>\n",
       "      <td>cozy super central five bedroom apartment slee...</td>\n",
       "      <td>198568388</td>\n",
       "      <td>Byng Place</td>\n",
       "      <td>51.52394</td>\n",
       "      <td>-0.13116</td>\n",
       "      <td>Entire home/apt</td>\n",
       "      <td>401.0</td>\n",
       "      <td>...</td>\n",
       "      <td>78</td>\n",
       "      <td>2</td>\n",
       "      <td>12</td>\n",
       "      <td>12</td>\n",
       "      <td>0</td>\n",
       "      <td>8501.2</td>\n",
       "      <td>165</td>\n",
       "      <td>1</td>\n",
       "      <td>11</td>\n",
       "      <td>46</td>\n",
       "    </tr>\n",
       "    <tr>\n",
       "      <th>39045711</th>\n",
       "      <td>https://www.airbnb.com/rooms/39045711</td>\n",
       "      <td>Cozy and Central 2 Bedroom for 4 (refurbished)</td>\n",
       "      <td>This cozy and super central, recently refurbis...</td>\n",
       "      <td>cozy super central recently refurbish two bedr...</td>\n",
       "      <td>175413710</td>\n",
       "      <td>Bedford Place Apartments</td>\n",
       "      <td>51.52181</td>\n",
       "      <td>-0.12391</td>\n",
       "      <td>Entire home/apt</td>\n",
       "      <td>237.0</td>\n",
       "      <td>...</td>\n",
       "      <td>173</td>\n",
       "      <td>3</td>\n",
       "      <td>11</td>\n",
       "      <td>11</td>\n",
       "      <td>0</td>\n",
       "      <td>7536.6</td>\n",
       "      <td>165</td>\n",
       "      <td>1</td>\n",
       "      <td>11</td>\n",
       "      <td>46</td>\n",
       "    </tr>\n",
       "    <tr>\n",
       "      <th>39047338</th>\n",
       "      <td>https://www.airbnb.com/rooms/39047338</td>\n",
       "      <td>Cozy and Central 2 Bedroom for 5 (refurbished)</td>\n",
       "      <td>This cozy and super central, recently refurbis...</td>\n",
       "      <td>cozy super central recently refurbish two bedr...</td>\n",
       "      <td>175413710</td>\n",
       "      <td>Bedford Place Apartments</td>\n",
       "      <td>51.52114</td>\n",
       "      <td>-0.12554</td>\n",
       "      <td>Entire home/apt</td>\n",
       "      <td>264.0</td>\n",
       "      <td>...</td>\n",
       "      <td>176</td>\n",
       "      <td>2</td>\n",
       "      <td>11</td>\n",
       "      <td>11</td>\n",
       "      <td>0</td>\n",
       "      <td>5596.8</td>\n",
       "      <td>165</td>\n",
       "      <td>1</td>\n",
       "      <td>11</td>\n",
       "      <td>46</td>\n",
       "    </tr>\n",
       "    <tr>\n",
       "      <th>40198458</th>\n",
       "      <td>https://www.airbnb.com/rooms/40198458</td>\n",
       "      <td>NEXT to BritishMuseum - Large Apartment for 6 ppl</td>\n",
       "      <td>This cozy and super central three-bedroom dupl...</td>\n",
       "      <td>cozy super central three bedroom duplex apartm...</td>\n",
       "      <td>175413710</td>\n",
       "      <td>Bedford Place Apartments</td>\n",
       "      <td>51.51905</td>\n",
       "      <td>-0.12185</td>\n",
       "      <td>Entire home/apt</td>\n",
       "      <td>290.0</td>\n",
       "      <td>...</td>\n",
       "      <td>173</td>\n",
       "      <td>5</td>\n",
       "      <td>11</td>\n",
       "      <td>11</td>\n",
       "      <td>0</td>\n",
       "      <td>15370.0</td>\n",
       "      <td>165</td>\n",
       "      <td>1</td>\n",
       "      <td>11</td>\n",
       "      <td>46</td>\n",
       "    </tr>\n",
       "    <tr>\n",
       "      <th>40303093</th>\n",
       "      <td>https://www.airbnb.com/rooms/40303093</td>\n",
       "      <td>Large Apartment for 6 ppl with annex bedroom</td>\n",
       "      <td>This cozy and super central two-bedroom apartm...</td>\n",
       "      <td>cozy super central two bedroom apartment annex...</td>\n",
       "      <td>175413710</td>\n",
       "      <td>Bedford Place Apartments</td>\n",
       "      <td>51.52140</td>\n",
       "      <td>-0.12574</td>\n",
       "      <td>Entire home/apt</td>\n",
       "      <td>270.0</td>\n",
       "      <td>...</td>\n",
       "      <td>176</td>\n",
       "      <td>3</td>\n",
       "      <td>11</td>\n",
       "      <td>11</td>\n",
       "      <td>0</td>\n",
       "      <td>8586.0</td>\n",
       "      <td>165</td>\n",
       "      <td>1</td>\n",
       "      <td>11</td>\n",
       "      <td>46</td>\n",
       "    </tr>\n",
       "  </tbody>\n",
       "</table>\n",
       "<p>11 rows × 21 columns</p>\n",
       "</div>"
      ],
      "text/plain": [
       "                                    listing_url  \\\n",
       "id                                                \n",
       "23497042  https://www.airbnb.com/rooms/23497042   \n",
       "26119027  https://www.airbnb.com/rooms/26119027   \n",
       "26119157  https://www.airbnb.com/rooms/26119157   \n",
       "26119197  https://www.airbnb.com/rooms/26119197   \n",
       "26119247  https://www.airbnb.com/rooms/26119247   \n",
       "26119299  https://www.airbnb.com/rooms/26119299   \n",
       "26407624  https://www.airbnb.com/rooms/26407624   \n",
       "39045711  https://www.airbnb.com/rooms/39045711   \n",
       "39047338  https://www.airbnb.com/rooms/39047338   \n",
       "40198458  https://www.airbnb.com/rooms/40198458   \n",
       "40303093  https://www.airbnb.com/rooms/40303093   \n",
       "\n",
       "                                                       name  \\\n",
       "id                                                            \n",
       "23497042  NEXT to BritishMuseum - Large Apartment for 5 ppl   \n",
       "26119027  NEXT to BritishMuseum - Large Apartment for 3 ppl   \n",
       "26119157  NEXT to BritishMuseum - 4 bedroom sleeping 10 ppl   \n",
       "26119197    NEXT to BritishMuseum -2 bedroom sleeping 4 ppl   \n",
       "26119247  NEXT to BritishMuseum - Large Apartment for 6 ppl   \n",
       "26119299   NEXT to BritishMuseum - 3Bed Apartment for 8 ppl   \n",
       "26407624    5 Bedroom flat sleeping 8 - near British Museum   \n",
       "39045711     Cozy and Central 2 Bedroom for 4 (refurbished)   \n",
       "39047338     Cozy and Central 2 Bedroom for 5 (refurbished)   \n",
       "40198458  NEXT to BritishMuseum - Large Apartment for 6 ppl   \n",
       "40303093       Large Apartment for 6 ppl with annex bedroom   \n",
       "\n",
       "                                                description  \\\n",
       "id                                                            \n",
       "23497042  This cozy and super central two-bedroom apartm...   \n",
       "26119027  This cozy and super central one-bedroom apartm...   \n",
       "26119157  This beautiful duplex unit is composed of two ...   \n",
       "26119197  This cozy and super central two-bedroom apartm...   \n",
       "26119247  This cozy and super central two-bedroom apartm...   \n",
       "26119299  This cozy and super central three-bedroom apar...   \n",
       "26407624  This cozy and super central five-bedroom apart...   \n",
       "39045711  This cozy and super central, recently refurbis...   \n",
       "39047338  This cozy and super central, recently refurbis...   \n",
       "40198458  This cozy and super central three-bedroom dupl...   \n",
       "40303093  This cozy and super central two-bedroom apartm...   \n",
       "\n",
       "                                           description_norm    host_id  \\\n",
       "id                                                                       \n",
       "23497042  cozy super central two bedroom apartment sleep...  175413710   \n",
       "26119027  cozy super central one bedroom apartment sleep...  175413710   \n",
       "26119157  beautiful duplex unit compose two interconnect...  175413710   \n",
       "26119197  cozy super central two bedroom apartment sleep...  175413710   \n",
       "26119247  cozy super central two bedroom apartment sleep...  175413710   \n",
       "26119299  cozy super central three bedroom apartment sle...  175413710   \n",
       "26407624  cozy super central five bedroom apartment slee...  198568388   \n",
       "39045711  cozy super central recently refurbish two bedr...  175413710   \n",
       "39047338  cozy super central recently refurbish two bedr...  175413710   \n",
       "40198458  cozy super central three bedroom duplex apartm...  175413710   \n",
       "40303093  cozy super central two bedroom apartment annex...  175413710   \n",
       "\n",
       "                         host_name  latitude  longitude        room_type  \\\n",
       "id                                                                         \n",
       "23497042  Bedford Place Apartments  51.52140   -0.12486  Entire home/apt   \n",
       "26119027  Bedford Place Apartments  51.51961   -0.12513  Entire home/apt   \n",
       "26119157  Bedford Place Apartments  51.51999   -0.12419  Entire home/apt   \n",
       "26119197  Bedford Place Apartments  51.52136   -0.12580  Entire home/apt   \n",
       "26119247  Bedford Place Apartments  51.52112   -0.12402  Entire home/apt   \n",
       "26119299  Bedford Place Apartments  51.52108   -0.12423  Entire home/apt   \n",
       "26407624                Byng Place  51.52394   -0.13116  Entire home/apt   \n",
       "39045711  Bedford Place Apartments  51.52181   -0.12391  Entire home/apt   \n",
       "39047338  Bedford Place Apartments  51.52114   -0.12554  Entire home/apt   \n",
       "40198458  Bedford Place Apartments  51.51905   -0.12185  Entire home/apt   \n",
       "40303093  Bedford Place Apartments  51.52140   -0.12574  Entire home/apt   \n",
       "\n",
       "          price  ...  availability_365  number_of_reviews_ltm  \\\n",
       "id               ...                                            \n",
       "23497042  247.0  ...                 0                     32   \n",
       "26119027  184.0  ...               365                     32   \n",
       "26119157  513.0  ...                79                      4   \n",
       "26119197  221.0  ...               365                      7   \n",
       "26119247  278.0  ...               176                      7   \n",
       "26119299  368.0  ...                79                     21   \n",
       "26407624  401.0  ...                78                      2   \n",
       "39045711  237.0  ...               173                      3   \n",
       "39047338  264.0  ...               176                      2   \n",
       "40198458  290.0  ...               173                      5   \n",
       "40303093  270.0  ...               176                      3   \n",
       "\n",
       "          calculated_host_listings_count  \\\n",
       "id                                         \n",
       "23497042                              11   \n",
       "26119027                              11   \n",
       "26119157                              11   \n",
       "26119197                              11   \n",
       "26119247                              11   \n",
       "26119299                              11   \n",
       "26407624                              12   \n",
       "39045711                              11   \n",
       "39047338                              11   \n",
       "40198458                              11   \n",
       "40303093                              11   \n",
       "\n",
       "          calculated_host_listings_count_entire_homes  \\\n",
       "id                                                      \n",
       "23497042                                           11   \n",
       "26119027                                           11   \n",
       "26119157                                           11   \n",
       "26119197                                           11   \n",
       "26119247                                           11   \n",
       "26119299                                           11   \n",
       "26407624                                           12   \n",
       "39045711                                           11   \n",
       "39047338                                           11   \n",
       "40198458                                           11   \n",
       "40303093                                           11   \n",
       "\n",
       "          calculated_host_listings_count_private_rooms  revenue  text_dbscan  \\\n",
       "id                                                                             \n",
       "23497042                                             0  62985.0          165   \n",
       "26119027                                             0  46920.0          165   \n",
       "26119157                                             0  21751.2          165   \n",
       "26119197                                             0  16398.2          165   \n",
       "26119247                                             0  20627.6          165   \n",
       "26119299                                             0  81916.8          165   \n",
       "26407624                                             0   8501.2          165   \n",
       "39045711                                             0   7536.6          165   \n",
       "39047338                                             0   5596.8          165   \n",
       "40198458                                             0  15370.0          165   \n",
       "40303093                                             0   8586.0          165   \n",
       "\n",
       "          geo_dbscan  count  hotel_id  \n",
       "id                                     \n",
       "23497042           1     11        46  \n",
       "26119027           1     11        46  \n",
       "26119157           1     11        46  \n",
       "26119197           1     11        46  \n",
       "26119247           1     11        46  \n",
       "26119299           1     11        46  \n",
       "26407624           1     11        46  \n",
       "39045711           1     11        46  \n",
       "39047338           1     11        46  \n",
       "40198458           1     11        46  \n",
       "40303093           1     11        46  \n",
       "\n",
       "[11 rows x 21 columns]"
      ]
     },
     "execution_count": 32,
     "metadata": {},
     "output_type": "execute_result"
    }
   ],
   "source": [
    "entire_home_ghosts[\n",
    "    entire_home_ghosts['hotel_id'] == 46\n",
    "]"
   ]
  },
  {
   "cell_type": "code",
   "execution_count": null,
   "metadata": {},
   "outputs": [],
   "source": []
  }
 ],
 "metadata": {
  "kernelspec": {
   "display_name": "Python 3",
   "language": "python",
   "name": "python3"
  },
  "language_info": {
   "codemirror_mode": {
    "name": "ipython",
    "version": 3
   },
   "file_extension": ".py",
   "mimetype": "text/x-python",
   "name": "python",
   "nbconvert_exporter": "python",
   "pygments_lexer": "ipython3",
   "version": "3.7.8"
  }
 },
 "nbformat": 4,
 "nbformat_minor": 4
}
